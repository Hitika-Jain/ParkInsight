{
  "nbformat": 4,
  "nbformat_minor": 0,
  "metadata": {
    "colab": {
      "provenance": [],
      "mount_file_id": "19DYJ0gZgpgBk8oR7AHnUpOf8UUCEe9SY",
      "authorship_tag": "ABX9TyPOFtQKGOO8DCyEjiGiaJxU",
      "include_colab_link": true
    },
    "kernelspec": {
      "name": "python3",
      "display_name": "Python 3"
    },
    "language_info": {
      "name": "python"
    }
  },
  "cells": [
    {
      "cell_type": "markdown",
      "metadata": {
        "id": "view-in-github",
        "colab_type": "text"
      },
      "source": [
        "<a href=\"https://colab.research.google.com/github/Hitika-Jain/ParkInsight/blob/main/regionbased_mrimodels.ipynb\" target=\"_parent\"><img src=\"https://colab.research.google.com/assets/colab-badge.svg\" alt=\"Open In Colab\"/></a>"
      ]
    },
    {
      "cell_type": "code",
      "source": [
        "!pip install nilearn"
      ],
      "metadata": {
        "colab": {
          "base_uri": "https://localhost:8080/"
        },
        "id": "hYRNnUFvCYz-",
        "outputId": "6b4b100d-7864-4857-c219-0e29f2ebf74d"
      },
      "execution_count": null,
      "outputs": [
        {
          "output_type": "stream",
          "name": "stdout",
          "text": [
            "Collecting nilearn\n",
            "  Downloading nilearn-0.11.1-py3-none-any.whl.metadata (9.3 kB)\n",
            "Requirement already satisfied: joblib>=1.2.0 in /usr/local/lib/python3.11/dist-packages (from nilearn) (1.4.2)\n",
            "Requirement already satisfied: lxml in /usr/local/lib/python3.11/dist-packages (from nilearn) (5.3.2)\n",
            "Requirement already satisfied: nibabel>=5.2.0 in /usr/local/lib/python3.11/dist-packages (from nilearn) (5.3.2)\n",
            "Requirement already satisfied: numpy>=1.22.4 in /usr/local/lib/python3.11/dist-packages (from nilearn) (2.0.2)\n",
            "Requirement already satisfied: packaging in /usr/local/lib/python3.11/dist-packages (from nilearn) (24.2)\n",
            "Requirement already satisfied: pandas>=2.2.0 in /usr/local/lib/python3.11/dist-packages (from nilearn) (2.2.2)\n",
            "Requirement already satisfied: requests>=2.25.0 in /usr/local/lib/python3.11/dist-packages (from nilearn) (2.32.3)\n",
            "Requirement already satisfied: scikit-learn>=1.4.0 in /usr/local/lib/python3.11/dist-packages (from nilearn) (1.6.1)\n",
            "Requirement already satisfied: scipy>=1.8.0 in /usr/local/lib/python3.11/dist-packages (from nilearn) (1.14.1)\n",
            "Requirement already satisfied: importlib-resources>=5.12 in /usr/local/lib/python3.11/dist-packages (from nibabel>=5.2.0->nilearn) (6.5.2)\n",
            "Requirement already satisfied: typing-extensions>=4.6 in /usr/local/lib/python3.11/dist-packages (from nibabel>=5.2.0->nilearn) (4.13.1)\n",
            "Requirement already satisfied: python-dateutil>=2.8.2 in /usr/local/lib/python3.11/dist-packages (from pandas>=2.2.0->nilearn) (2.8.2)\n",
            "Requirement already satisfied: pytz>=2020.1 in /usr/local/lib/python3.11/dist-packages (from pandas>=2.2.0->nilearn) (2025.2)\n",
            "Requirement already satisfied: tzdata>=2022.7 in /usr/local/lib/python3.11/dist-packages (from pandas>=2.2.0->nilearn) (2025.2)\n",
            "Requirement already satisfied: charset-normalizer<4,>=2 in /usr/local/lib/python3.11/dist-packages (from requests>=2.25.0->nilearn) (3.4.1)\n",
            "Requirement already satisfied: idna<4,>=2.5 in /usr/local/lib/python3.11/dist-packages (from requests>=2.25.0->nilearn) (3.10)\n",
            "Requirement already satisfied: urllib3<3,>=1.21.1 in /usr/local/lib/python3.11/dist-packages (from requests>=2.25.0->nilearn) (2.3.0)\n",
            "Requirement already satisfied: certifi>=2017.4.17 in /usr/local/lib/python3.11/dist-packages (from requests>=2.25.0->nilearn) (2025.1.31)\n",
            "Requirement already satisfied: threadpoolctl>=3.1.0 in /usr/local/lib/python3.11/dist-packages (from scikit-learn>=1.4.0->nilearn) (3.6.0)\n",
            "Requirement already satisfied: six>=1.5 in /usr/local/lib/python3.11/dist-packages (from python-dateutil>=2.8.2->pandas>=2.2.0->nilearn) (1.17.0)\n",
            "Downloading nilearn-0.11.1-py3-none-any.whl (10.5 MB)\n",
            "\u001b[2K   \u001b[90m━━━━━━━━━━━━━━━━━━━━━━━━━━━━━━━━━━━━━━━━\u001b[0m \u001b[32m10.5/10.5 MB\u001b[0m \u001b[31m48.0 MB/s\u001b[0m eta \u001b[36m0:00:00\u001b[0m\n",
            "\u001b[?25hInstalling collected packages: nilearn\n",
            "Successfully installed nilearn-0.11.1\n"
          ]
        }
      ]
    },
    {
      "cell_type": "code",
      "execution_count": null,
      "metadata": {
        "colab": {
          "base_uri": "https://localhost:8080/",
          "height": 628
        },
        "id": "qgW9UHN7vctR",
        "outputId": "fd8076c6-58f6-4816-a830-8229babeb119"
      },
      "outputs": [
        {
          "output_type": "display_data",
          "data": {
            "text/plain": [
              "\u001b[1;34m[\u001b[0m\u001b[34m_add_readme_to_default_data_locations\u001b[0m\u001b[1;34m]\u001b[0m Added README.md to \u001b[35m/root/\u001b[0m\u001b[95mnilearn_data\u001b[0m\n"
            ],
            "text/html": [
              "<pre style=\"white-space:pre;overflow-x:auto;line-height:normal;font-family:Menlo,'DejaVu Sans Mono',consolas,'Courier New',monospace\"><span style=\"color: #000080; text-decoration-color: #000080; font-weight: bold\">[</span><span style=\"color: #000080; text-decoration-color: #000080\">_add_readme_to_default_data_locations</span><span style=\"color: #000080; text-decoration-color: #000080; font-weight: bold\">]</span> Added README.md to <span style=\"color: #800080; text-decoration-color: #800080\">/root/</span><span style=\"color: #ff00ff; text-decoration-color: #ff00ff\">nilearn_data</span>\n",
              "</pre>\n"
            ]
          },
          "metadata": {}
        },
        {
          "output_type": "display_data",
          "data": {
            "text/plain": [
              "\u001b[1;34m[\u001b[0m\u001b[34mget_dataset_dir\u001b[0m\u001b[1;34m]\u001b[0m Dataset created in \u001b[35m/root/nilearn_data/\u001b[0m\u001b[95mfsl\u001b[0m\n"
            ],
            "text/html": [
              "<pre style=\"white-space:pre;overflow-x:auto;line-height:normal;font-family:Menlo,'DejaVu Sans Mono',consolas,'Courier New',monospace\"><span style=\"color: #000080; text-decoration-color: #000080; font-weight: bold\">[</span><span style=\"color: #000080; text-decoration-color: #000080\">get_dataset_dir</span><span style=\"color: #000080; text-decoration-color: #000080; font-weight: bold\">]</span> Dataset created in <span style=\"color: #800080; text-decoration-color: #800080\">/root/nilearn_data/</span><span style=\"color: #ff00ff; text-decoration-color: #ff00ff\">fsl</span>\n",
              "</pre>\n"
            ]
          },
          "metadata": {}
        },
        {
          "output_type": "display_data",
          "data": {
            "text/plain": [
              "\u001b[1;34m[\u001b[0m\u001b[34mfetch_single_file\u001b[0m\u001b[1;34m]\u001b[0m Downloading data from \u001b[4;94mhttps://www.nitrc.org/frs/download.php/9902/HarvardOxford.tgz\u001b[0m \u001b[33m...\u001b[0m\n"
            ],
            "text/html": [
              "<pre style=\"white-space:pre;overflow-x:auto;line-height:normal;font-family:Menlo,'DejaVu Sans Mono',consolas,'Courier New',monospace\"><span style=\"color: #000080; text-decoration-color: #000080; font-weight: bold\">[</span><span style=\"color: #000080; text-decoration-color: #000080\">fetch_single_file</span><span style=\"color: #000080; text-decoration-color: #000080; font-weight: bold\">]</span> Downloading data from <span style=\"color: #0000ff; text-decoration-color: #0000ff; text-decoration: underline\">https://www.nitrc.org/frs/download.php/9902/HarvardOxford.tgz</span> <span style=\"color: #808000; text-decoration-color: #808000\">...</span>\n",
              "</pre>\n"
            ]
          },
          "metadata": {}
        },
        {
          "output_type": "display_data",
          "data": {
            "text/plain": [
              "\u001b[1;34m[\u001b[0m\u001b[34m_chunk_report_\u001b[0m\u001b[1;34m]\u001b[0m Downloaded \u001b[1;36m18063360\u001b[0m of \u001b[1;36m25716861\u001b[0m bytes \u001b[1m(\u001b[0m\u001b[1;36m70.2\u001b[0m%%,    \u001b[1;36m0.\u001b[0m4s remaining\u001b[1m)\u001b[0m\n"
            ],
            "text/html": [
              "<pre style=\"white-space:pre;overflow-x:auto;line-height:normal;font-family:Menlo,'DejaVu Sans Mono',consolas,'Courier New',monospace\"><span style=\"color: #000080; text-decoration-color: #000080; font-weight: bold\">[</span><span style=\"color: #000080; text-decoration-color: #000080\">_chunk_report_</span><span style=\"color: #000080; text-decoration-color: #000080; font-weight: bold\">]</span> Downloaded <span style=\"color: #008080; text-decoration-color: #008080; font-weight: bold\">18063360</span> of <span style=\"color: #008080; text-decoration-color: #008080; font-weight: bold\">25716861</span> bytes <span style=\"font-weight: bold\">(</span><span style=\"color: #008080; text-decoration-color: #008080; font-weight: bold\">70.2</span>%%,    <span style=\"color: #008080; text-decoration-color: #008080; font-weight: bold\">0.</span>4s remaining<span style=\"font-weight: bold\">)</span>\n",
              "</pre>\n"
            ]
          },
          "metadata": {}
        },
        {
          "output_type": "display_data",
          "data": {
            "text/plain": [
              "\u001b[1;34m[\u001b[0m\u001b[34mfetch_single_file\u001b[0m\u001b[1;34m]\u001b[0m  \u001b[33m...\u001b[0mdone. \u001b[1m(\u001b[0m\u001b[1;36m2\u001b[0m seconds, \u001b[1;36m0\u001b[0m min\u001b[1m)\u001b[0m\n",
              "\n"
            ],
            "text/html": [
              "<pre style=\"white-space:pre;overflow-x:auto;line-height:normal;font-family:Menlo,'DejaVu Sans Mono',consolas,'Courier New',monospace\"><span style=\"color: #000080; text-decoration-color: #000080; font-weight: bold\">[</span><span style=\"color: #000080; text-decoration-color: #000080\">fetch_single_file</span><span style=\"color: #000080; text-decoration-color: #000080; font-weight: bold\">]</span>  <span style=\"color: #808000; text-decoration-color: #808000\">...</span>done. <span style=\"font-weight: bold\">(</span><span style=\"color: #008080; text-decoration-color: #008080; font-weight: bold\">2</span> seconds, <span style=\"color: #008080; text-decoration-color: #008080; font-weight: bold\">0</span> min<span style=\"font-weight: bold\">)</span>\n",
              "\n",
              "</pre>\n"
            ]
          },
          "metadata": {}
        },
        {
          "output_type": "display_data",
          "data": {
            "text/plain": [
              "\u001b[1;34m[\u001b[0m\u001b[34muncompress_file\u001b[0m\u001b[1;34m]\u001b[0m Extracting data from \u001b[35m/root/nilearn_data/fsl/a7fc85ee019a9a4f8a037cba0214db4f/\u001b[0m\u001b[95mHarvardOxford.tgz...\u001b[0m\n"
            ],
            "text/html": [
              "<pre style=\"white-space:pre;overflow-x:auto;line-height:normal;font-family:Menlo,'DejaVu Sans Mono',consolas,'Courier New',monospace\"><span style=\"color: #000080; text-decoration-color: #000080; font-weight: bold\">[</span><span style=\"color: #000080; text-decoration-color: #000080\">uncompress_file</span><span style=\"color: #000080; text-decoration-color: #000080; font-weight: bold\">]</span> Extracting data from <span style=\"color: #800080; text-decoration-color: #800080\">/root/nilearn_data/fsl/a7fc85ee019a9a4f8a037cba0214db4f/</span><span style=\"color: #ff00ff; text-decoration-color: #ff00ff\">HarvardOxford.tgz...</span>\n",
              "</pre>\n"
            ]
          },
          "metadata": {}
        },
        {
          "output_type": "display_data",
          "data": {
            "text/plain": [
              "\u001b[1;34m[\u001b[0m\u001b[34muncompress_file\u001b[0m\u001b[1;34m]\u001b[0m .. done.\n",
              "\n"
            ],
            "text/html": [
              "<pre style=\"white-space:pre;overflow-x:auto;line-height:normal;font-family:Menlo,'DejaVu Sans Mono',consolas,'Courier New',monospace\"><span style=\"color: #000080; text-decoration-color: #000080; font-weight: bold\">[</span><span style=\"color: #000080; text-decoration-color: #000080\">uncompress_file</span><span style=\"color: #000080; text-decoration-color: #000080; font-weight: bold\">]</span> .. done.\n",
              "\n",
              "</pre>\n"
            ]
          },
          "metadata": {}
        },
        {
          "output_type": "stream",
          "name": "stderr",
          "text": [
            "<ipython-input-2-e2ec01e914ac>:38: FutureWarning: 'force_resample' will be set to 'True' by default in Nilearn 0.13.0.\n",
            "Use 'force_resample=True' to suppress this warning.\n",
            "  resampled_mask = resample_to_img(region_mask_img, brain_img, interpolation='nearest')\n",
            "/usr/local/lib/python3.11/dist-packages/nilearn/image/resampling.py:805: FutureWarning: From release 0.13.0 onwards, this function will, by default, copy the header of the input image to the output. Currently, the header is reset to the default Nifti1Header. To suppress this warning and use the new behavior, set `copy_header=True`.\n",
            "  return resample_img(\n"
          ]
        },
        {
          "output_type": "stream",
          "name": "stdout",
          "text": [
            "[x] Region Left_Caudate is empty, skipping.\n"
          ]
        },
        {
          "output_type": "stream",
          "name": "stderr",
          "text": [
            "<ipython-input-2-e2ec01e914ac>:38: FutureWarning: 'force_resample' will be set to 'True' by default in Nilearn 0.13.0.\n",
            "Use 'force_resample=True' to suppress this warning.\n",
            "  resampled_mask = resample_to_img(region_mask_img, brain_img, interpolation='nearest')\n",
            "/usr/local/lib/python3.11/dist-packages/nilearn/image/resampling.py:805: FutureWarning: From release 0.13.0 onwards, this function will, by default, copy the header of the input image to the output. Currently, the header is reset to the default Nifti1Header. To suppress this warning and use the new behavior, set `copy_header=True`.\n",
            "  return resample_img(\n"
          ]
        },
        {
          "output_type": "stream",
          "name": "stdout",
          "text": [
            "[x] Region Left_Putamen is empty, skipping.\n"
          ]
        },
        {
          "output_type": "stream",
          "name": "stderr",
          "text": [
            "<ipython-input-2-e2ec01e914ac>:38: FutureWarning: 'force_resample' will be set to 'True' by default in Nilearn 0.13.0.\n",
            "Use 'force_resample=True' to suppress this warning.\n",
            "  resampled_mask = resample_to_img(region_mask_img, brain_img, interpolation='nearest')\n",
            "/usr/local/lib/python3.11/dist-packages/nilearn/image/resampling.py:805: FutureWarning: From release 0.13.0 onwards, this function will, by default, copy the header of the input image to the output. Currently, the header is reset to the default Nifti1Header. To suppress this warning and use the new behavior, set `copy_header=True`.\n",
            "  return resample_img(\n"
          ]
        },
        {
          "output_type": "stream",
          "name": "stdout",
          "text": [
            "[x] Region Brain_Stem is empty, skipping.\n"
          ]
        },
        {
          "output_type": "stream",
          "name": "stderr",
          "text": [
            "<ipython-input-2-e2ec01e914ac>:38: FutureWarning: 'force_resample' will be set to 'True' by default in Nilearn 0.13.0.\n",
            "Use 'force_resample=True' to suppress this warning.\n",
            "  resampled_mask = resample_to_img(region_mask_img, brain_img, interpolation='nearest')\n",
            "/usr/local/lib/python3.11/dist-packages/nilearn/image/resampling.py:805: FutureWarning: From release 0.13.0 onwards, this function will, by default, copy the header of the input image to the output. Currently, the header is reset to the default Nifti1Header. To suppress this warning and use the new behavior, set `copy_header=True`.\n",
            "  return resample_img(\n"
          ]
        },
        {
          "output_type": "stream",
          "name": "stdout",
          "text": [
            "[✓] Saved: /content/voxels/Right_White_Matter/hc_176347_0.npy\n"
          ]
        }
      ],
      "source": [
        "import numpy as np\n",
        "import nibabel as nib\n",
        "from nilearn import datasets\n",
        "from nilearn.image import resample_to_img\n",
        "from scipy.ndimage import zoom\n",
        "import os\n",
        "\n",
        "# CONFIGURATION\n",
        "npy_file_path = \"/content/drive/MyDrive/3D_Numpy_Volumes/hc/hc_176347.npy\"  # Change this\n",
        "output_dir = \"/content/voxels\"\n",
        "label = 0  # 0 for healthy, 1 for Parkinson's\n",
        "\n",
        "region_names = ['Left_Caudate', 'Left_Putamen', 'Brain_Stem', 'Right_White_Matter']\n",
        "regions_to_extract = [5, 6, 8, 12]  # IDs from Harvard-Oxford atlas\n",
        "\n",
        "# Create output directories\n",
        "for region in region_names:\n",
        "    os.makedirs(os.path.join(output_dir, region), exist_ok=True)\n",
        "\n",
        "# Load the brain volume (3D)\n",
        "brain_data = np.load(npy_file_path)\n",
        "\n",
        "# Convert to Nifti1Image with identity affine\n",
        "brain_img = nib.Nifti1Image(brain_data, affine=np.eye(4))\n",
        "\n",
        "# Load atlas\n",
        "atlas = datasets.fetch_atlas_harvard_oxford('sub-maxprob-thr50-1mm')\n",
        "atlas_img = nib.load(atlas.filename)\n",
        "atlas_data = atlas_img.get_fdata()\n",
        "atlas_affine = atlas_img.affine\n",
        "\n",
        "# Function to extract, resize, and save voxel region\n",
        "def extract_and_save(region_idx, region_name):\n",
        "    region_mask = atlas_data == region_idx\n",
        "    region_mask_img = nib.Nifti1Image(region_mask.astype(np.float32), affine=atlas_affine)\n",
        "\n",
        "    # Resample mask to brain image space\n",
        "    resampled_mask = resample_to_img(region_mask_img, brain_img, interpolation='nearest')\n",
        "    mask_data = resampled_mask.get_fdata()\n",
        "\n",
        "    # Apply mask\n",
        "    masked_region = brain_data * mask_data\n",
        "\n",
        "    # If region has any non-zero voxels\n",
        "    if np.any(masked_region):\n",
        "        x, y, z = np.where(masked_region != 0)\n",
        "        xmin, xmax = x.min(), x.max()\n",
        "        ymin, ymax = y.min(), y.max()\n",
        "        zmin, zmax = z.min(), z.max()\n",
        "\n",
        "        cropped = masked_region[xmin:xmax+1, ymin:ymax+1, zmin:zmax+1]\n",
        "\n",
        "        # Resize to 32x32x32\n",
        "        resized = zoom(cropped, (32 / cropped.shape[0], 32 / cropped.shape[1], 32 / cropped.shape[2]), order=1)\n",
        "\n",
        "        # Save\n",
        "        region_folder = os.path.join(output_dir, region_name)\n",
        "        base_name = os.path.splitext(os.path.basename(npy_file_path))[0]\n",
        "        save_path = os.path.join(region_folder, f\"{base_name}_{label}.npy\")\n",
        "        np.save(save_path, resized)\n",
        "\n",
        "        print(f\"[✓] Saved: {save_path}\")\n",
        "    else:\n",
        "        print(f\"[x] Region {region_name} is empty, skipping.\")\n",
        "\n",
        "# Process each region\n",
        "for idx, name in zip(regions_to_extract, region_names):\n",
        "    extract_and_save(idx, name)"
      ]
    },
    {
      "cell_type": "code",
      "source": [
        "import numpy as np\n",
        "import nibabel as nib\n",
        "from nilearn import datasets\n",
        "from nilearn.image import resample_to_img, new_img_like, math_img\n",
        "from scipy.ndimage import zoom\n",
        "import os\n",
        "\n",
        "# ----------- CONFIG -------------\n",
        "npy_path = \"/content/drive/MyDrive/3D_Numpy_Volumes/pd/pd_101179.npy\"  # Change path\n",
        "subject_id = \"pd_101179\"  # Filename prefix\n",
        "label = 1  # 0 for healthy, 1 for Parkinson’s\n",
        "save_dir = \"/content/extracted_regions\"\n",
        "\n",
        "# Region IDs and names\n",
        "region_info = {\n",
        "    5: \"Left_Caudate\",\n",
        "    6: \"Left_Putamen\",\n",
        "    8: \"Brainstem\",\n",
        "    12: \"Right_White_Matter\"\n",
        "}\n",
        "# --------------------------------\n",
        "\n",
        "# Create output folders\n",
        "for region_name in region_info.values():\n",
        "    os.makedirs(os.path.join(save_dir, region_name), exist_ok=True)\n",
        "\n",
        "# Load .npy and wrap in Nifti with dummy affine\n",
        "brain_array = np.load(npy_path)\n",
        "# Remove all singleton dimensions\n",
        "brain_array = np.squeeze(brain_array)\n",
        "\n",
        "# Ensure we now have a 3D array\n",
        "if brain_array.ndim != 3:\n",
        "    raise ValueError(f\"❌ Still not 3D after squeezing: {brain_array.shape}\")\n",
        "affine = np.array([\n",
        "    [2, 0, 0, -90],\n",
        "    [0, 2, 0, -126],\n",
        "    [0, 0, 2, -72],\n",
        "    [0, 0, 0, 1]\n",
        "])\n",
        "brain_img = nib.Nifti1Image(brain_array, affine)\n",
        "\n",
        "# Load Harvard-Oxford atlas\n",
        "atlas = datasets.fetch_atlas_harvard_oxford('sub-maxprob-thr50-1mm')\n",
        "atlas_img = atlas.maps\n",
        "labels = atlas.labels\n",
        "\n",
        "# Resample brain to atlas space\n",
        "resampled_brain = resample_to_img(brain_img, atlas_img, interpolation='continuous', force_resample=True)\n",
        "\n",
        "# Iterate over regions\n",
        "for region_index, region_name in region_info.items():\n",
        "    print(f\"Processing Region {region_index}: {region_name}\")\n",
        "\n",
        "    atlas_data = atlas_img.get_fdata()\n",
        "    region_mask_data = (atlas_data == region_index).astype(np.uint8)\n",
        "    region_mask = new_img_like(atlas_img, region_mask_data)\n",
        "\n",
        "    region_volume_img = math_img(\"img1 * img2\", img1=resampled_brain, img2=region_mask)\n",
        "    region_volume = region_volume_img.get_fdata()\n",
        "\n",
        "    nonzero_voxels = np.count_nonzero(region_volume)\n",
        "    if nonzero_voxels == 0:\n",
        "        print(f\"⚠️ Region {region_name} is empty. Skipping.\\n---\")\n",
        "        continue\n",
        "\n",
        "    # Bounding box crop\n",
        "    coords = np.nonzero(region_volume)\n",
        "    zmin, zmax = np.min(coords[2]), np.max(coords[2])\n",
        "    ymin, ymax = np.min(coords[1]), np.max(coords[1])\n",
        "    xmin, xmax = np.min(coords[0]), np.max(coords[0])\n",
        "    region_crop = region_volume[xmin:xmax+1, ymin:ymax+1, zmin:zmax+1]\n",
        "    print(f\"  Original shape: {region_crop.shape}\")\n",
        "\n",
        "    # Normalize to [0, 1]\n",
        "    region_crop = region_crop.astype(np.float32)\n",
        "    region_crop -= region_crop.min()\n",
        "    if region_crop.max() > 0:\n",
        "        region_crop /= region_crop.max()\n",
        "\n",
        "    # Resize to 32x32x32\n",
        "    zoom_factors = [32 / s for s in region_crop.shape]\n",
        "    region_resized = zoom(region_crop, zoom=zoom_factors, order=1)\n",
        "    print(f\"  Resized shape: {region_resized.shape}\")\n",
        "\n",
        "    # Save with format: region_folder/subjectID_label.npy\n",
        "    save_path = os.path.join(save_dir, region_name, f\"{subject_id}_{label}.npy\")\n",
        "    np.save(save_path, region_resized)\n",
        "    print(f\"✅ Saved to {save_path}\\n---\")"
      ],
      "metadata": {
        "colab": {
          "base_uri": "https://localhost:8080/",
          "height": 296
        },
        "id": "EY3zZMTZGE82",
        "outputId": "40f1883e-dc3a-427b-e7b3-cbb8f0fdf382"
      },
      "execution_count": null,
      "outputs": [
        {
          "output_type": "display_data",
          "data": {
            "text/plain": [
              "\u001b[1;34m[\u001b[0m\u001b[34mget_dataset_dir\u001b[0m\u001b[1;34m]\u001b[0m Dataset found in \u001b[35m/root/nilearn_data/\u001b[0m\u001b[95mfsl\u001b[0m\n"
            ],
            "text/html": [
              "<pre style=\"white-space:pre;overflow-x:auto;line-height:normal;font-family:Menlo,'DejaVu Sans Mono',consolas,'Courier New',monospace\"><span style=\"color: #000080; text-decoration-color: #000080; font-weight: bold\">[</span><span style=\"color: #000080; text-decoration-color: #000080\">get_dataset_dir</span><span style=\"color: #000080; text-decoration-color: #000080; font-weight: bold\">]</span> Dataset found in <span style=\"color: #800080; text-decoration-color: #800080\">/root/nilearn_data/</span><span style=\"color: #ff00ff; text-decoration-color: #ff00ff\">fsl</span>\n",
              "</pre>\n"
            ]
          },
          "metadata": {}
        },
        {
          "output_type": "stream",
          "name": "stderr",
          "text": [
            "/usr/local/lib/python3.11/dist-packages/nilearn/image/resampling.py:805: FutureWarning: From release 0.13.0 onwards, this function will, by default, copy the header of the input image to the output. Currently, the header is reset to the default Nifti1Header. To suppress this warning and use the new behavior, set `copy_header=True`.\n",
            "  return resample_img(\n"
          ]
        },
        {
          "output_type": "stream",
          "name": "stdout",
          "text": [
            "Processing Region 5: Left_Caudate\n",
            "⚠️ Region Left_Caudate is empty. Skipping.\n",
            "---\n",
            "Processing Region 6: Left_Putamen\n",
            "⚠️ Region Left_Putamen is empty. Skipping.\n",
            "---\n",
            "Processing Region 8: Brainstem\n",
            "⚠️ Region Brainstem is empty. Skipping.\n",
            "---\n",
            "Processing Region 12: Right_White_Matter\n",
            "⚠️ Region Right_White_Matter is empty. Skipping.\n",
            "---\n"
          ]
        }
      ]
    },
    {
      "cell_type": "code",
      "source": [
        "import shutil\n",
        "from google.colab import files\n",
        "\n",
        "# Folder you want to download\n",
        "folder_path = \"/content/extracted_regions\"\n",
        "\n",
        "# Zip it\n",
        "shutil.make_archive(\"extracted_regions\", 'zip', folder_path)\n",
        "\n",
        "# Download the zip\n",
        "files.download(\"extracted_regions.zip\")"
      ],
      "metadata": {
        "colab": {
          "base_uri": "https://localhost:8080/",
          "height": 17
        },
        "id": "lbQnHTokVIaW",
        "outputId": "eeb15310-4a18-4da6-e952-d417316d91ea"
      },
      "execution_count": null,
      "outputs": [
        {
          "output_type": "display_data",
          "data": {
            "text/plain": [
              "<IPython.core.display.Javascript object>"
            ],
            "application/javascript": [
              "\n",
              "    async function download(id, filename, size) {\n",
              "      if (!google.colab.kernel.accessAllowed) {\n",
              "        return;\n",
              "      }\n",
              "      const div = document.createElement('div');\n",
              "      const label = document.createElement('label');\n",
              "      label.textContent = `Downloading \"${filename}\": `;\n",
              "      div.appendChild(label);\n",
              "      const progress = document.createElement('progress');\n",
              "      progress.max = size;\n",
              "      div.appendChild(progress);\n",
              "      document.body.appendChild(div);\n",
              "\n",
              "      const buffers = [];\n",
              "      let downloaded = 0;\n",
              "\n",
              "      const channel = await google.colab.kernel.comms.open(id);\n",
              "      // Send a message to notify the kernel that we're ready.\n",
              "      channel.send({})\n",
              "\n",
              "      for await (const message of channel.messages) {\n",
              "        // Send a message to notify the kernel that we're ready.\n",
              "        channel.send({})\n",
              "        if (message.buffers) {\n",
              "          for (const buffer of message.buffers) {\n",
              "            buffers.push(buffer);\n",
              "            downloaded += buffer.byteLength;\n",
              "            progress.value = downloaded;\n",
              "          }\n",
              "        }\n",
              "      }\n",
              "      const blob = new Blob(buffers, {type: 'application/binary'});\n",
              "      const a = document.createElement('a');\n",
              "      a.href = window.URL.createObjectURL(blob);\n",
              "      a.download = filename;\n",
              "      div.appendChild(a);\n",
              "      a.click();\n",
              "      div.remove();\n",
              "    }\n",
              "  "
            ]
          },
          "metadata": {}
        },
        {
          "output_type": "display_data",
          "data": {
            "text/plain": [
              "<IPython.core.display.Javascript object>"
            ],
            "application/javascript": [
              "download(\"download_781f62d2-b0ae-43de-8fde-33fb74c5cf1a\", \"extracted_regions.zip\", 2660998)"
            ]
          },
          "metadata": {}
        }
      ]
    },
    {
      "cell_type": "code",
      "source": [
        "import os\n",
        "import numpy as np\n",
        "import torch\n",
        "from torch.utils.data import Dataset, DataLoader\n",
        "from sklearn.model_selection import train_test_split\n",
        "\n",
        "class BrainRegionDataset(Dataset):\n",
        "    def __init__(self, folder_path):\n",
        "        self.filepaths = []\n",
        "        self.labels = []\n",
        "        for fname in os.listdir(folder_path):\n",
        "            if fname.endswith(\".npy\"):\n",
        "                label = 1 if \"pd\" in fname.lower() else 0\n",
        "                self.filepaths.append(os.path.join(folder_path, fname))\n",
        "                self.labels.append(label)\n",
        "\n",
        "    def __len__(self):\n",
        "        return len(self.filepaths)\n",
        "\n",
        "    def __getitem__(self, idx):\n",
        "        x = np.load(self.filepaths[idx]).astype(np.float32)\n",
        "        x = (x - np.mean(x)) / (np.std(x) + 1e-5)  # normalize again\n",
        "        x = np.expand_dims(x, axis=0)  # Add channel dimension\n",
        "        y = self.labels[idx]\n",
        "        return torch.tensor(x), torch.tensor(y, dtype=torch.long)\n",
        "\n",
        "# Load full dataset\n",
        "data_folder = \"/content/extracted_regions/Brainstem\"\n",
        "dataset = BrainRegionDataset(data_folder)\n",
        "\n",
        "# Train-val split\n",
        "train_idx, val_idx = train_test_split(np.arange(len(dataset)), test_size=0.2, stratify=dataset.labels)\n",
        "train_dataset = torch.utils.data.Subset(dataset, train_idx)\n",
        "val_dataset = torch.utils.data.Subset(dataset, val_idx)\n",
        "\n",
        "train_loader = DataLoader(train_dataset, batch_size=4, shuffle=True)\n",
        "val_loader = DataLoader(val_dataset, batch_size=4)\n"
      ],
      "metadata": {
        "id": "G_AtmUq7hUOr"
      },
      "execution_count": null,
      "outputs": []
    },
    {
      "cell_type": "code",
      "source": [
        "import torch.nn as nn\n",
        "import torch.nn.functional as F\n",
        "\n",
        "class Simple3DCNN(nn.Module):\n",
        "    def __init__(self):\n",
        "        super(Simple3DCNN, self).__init__()\n",
        "        self.conv1 = nn.Conv3d(1, 16, kernel_size=3, padding=1)\n",
        "        self.pool1 = nn.MaxPool3d(2)\n",
        "        self.conv2 = nn.Conv3d(16, 32, kernel_size=3, padding=1)\n",
        "        self.pool2 = nn.MaxPool3d(2)\n",
        "        self.fc1 = nn.Linear(32 * 8 * 8 * 8, 64)  # update based on input shape\n",
        "        self.fc2 = nn.Linear(64, 2)\n",
        "\n",
        "    def forward(self, x):\n",
        "        x = self.pool1(F.relu(self.conv1(x)))\n",
        "        x = self.pool2(F.relu(self.conv2(x)))\n",
        "        x = x.view(x.size(0), -1)\n",
        "        x = F.relu(self.fc1(x))\n",
        "        return self.fc2(x)"
      ],
      "metadata": {
        "id": "1EWYHeCwiGO0"
      },
      "execution_count": null,
      "outputs": []
    },
    {
      "cell_type": "code",
      "source": [
        "import torch.optim as optim\n",
        "\n",
        "device = torch.device(\"cuda\" if torch.cuda.is_available() else \"cpu\")\n",
        "model = Simple3DCNN().to(device)\n",
        "criterion = nn.CrossEntropyLoss()\n",
        "optimizer = optim.Adam(model.parameters(), lr=1e-4)\n",
        "\n",
        "def train_model(num_epochs=50):\n",
        "    for epoch in range(num_epochs):\n",
        "        model.train()\n",
        "        running_loss = 0\n",
        "        correct = 0\n",
        "        total = 0\n",
        "        for x, y in train_loader:\n",
        "            x, y = x.to(device), y.to(device)\n",
        "            optimizer.zero_grad()\n",
        "            outputs = model(x)\n",
        "            loss = criterion(outputs, y)\n",
        "            loss.backward()\n",
        "            optimizer.step()\n",
        "\n",
        "            running_loss += loss.item()\n",
        "            _, predicted = torch.max(outputs, 1)\n",
        "            correct += (predicted == y).sum().item()\n",
        "            total += y.size(0)\n",
        "\n",
        "        acc = correct / total\n",
        "        print(f\"Epoch {epoch+1}, Loss: {running_loss:.4f}, Accuracy: {acc:.4f}\")\n",
        "\n",
        "train_model()"
      ],
      "metadata": {
        "colab": {
          "base_uri": "https://localhost:8080/"
        },
        "id": "1s6o6XVwiO-a",
        "outputId": "f7342f45-cef8-4531-b25e-97a9e87730a4"
      },
      "execution_count": null,
      "outputs": [
        {
          "output_type": "stream",
          "name": "stdout",
          "text": [
            "Epoch 1, Loss: 2.9325, Accuracy: 0.5000\n",
            "Epoch 2, Loss: 2.4742, Accuracy: 0.7500\n",
            "Epoch 3, Loss: 2.2329, Accuracy: 0.6875\n",
            "Epoch 4, Loss: 2.0524, Accuracy: 0.7500\n",
            "Epoch 5, Loss: 2.0105, Accuracy: 0.6875\n",
            "Epoch 6, Loss: 1.8745, Accuracy: 0.8125\n",
            "Epoch 7, Loss: 1.5704, Accuracy: 0.8750\n",
            "Epoch 8, Loss: 1.4609, Accuracy: 0.8750\n",
            "Epoch 9, Loss: 1.3067, Accuracy: 0.9375\n",
            "Epoch 10, Loss: 1.3464, Accuracy: 0.9375\n",
            "Epoch 11, Loss: 1.1423, Accuracy: 0.9375\n",
            "Epoch 12, Loss: 1.2437, Accuracy: 0.8125\n",
            "Epoch 13, Loss: 1.2219, Accuracy: 0.8750\n",
            "Epoch 14, Loss: 1.0313, Accuracy: 0.9375\n",
            "Epoch 15, Loss: 0.8721, Accuracy: 0.9375\n",
            "Epoch 16, Loss: 0.9808, Accuracy: 0.9375\n",
            "Epoch 17, Loss: 0.7960, Accuracy: 0.9375\n",
            "Epoch 18, Loss: 0.8982, Accuracy: 0.9375\n",
            "Epoch 19, Loss: 0.8325, Accuracy: 0.9375\n",
            "Epoch 20, Loss: 0.6688, Accuracy: 1.0000\n",
            "Epoch 21, Loss: 0.6810, Accuracy: 0.9375\n",
            "Epoch 22, Loss: 0.6115, Accuracy: 0.9375\n",
            "Epoch 23, Loss: 0.5763, Accuracy: 0.9375\n",
            "Epoch 24, Loss: 0.5962, Accuracy: 1.0000\n",
            "Epoch 25, Loss: 0.5202, Accuracy: 1.0000\n",
            "Epoch 26, Loss: 0.5276, Accuracy: 0.9375\n",
            "Epoch 27, Loss: 0.5236, Accuracy: 1.0000\n",
            "Epoch 28, Loss: 0.4375, Accuracy: 1.0000\n",
            "Epoch 29, Loss: 0.3910, Accuracy: 1.0000\n",
            "Epoch 30, Loss: 0.3821, Accuracy: 1.0000\n",
            "Epoch 31, Loss: 0.3005, Accuracy: 1.0000\n",
            "Epoch 32, Loss: 0.3926, Accuracy: 1.0000\n",
            "Epoch 33, Loss: 0.3061, Accuracy: 1.0000\n",
            "Epoch 34, Loss: 0.3576, Accuracy: 1.0000\n",
            "Epoch 35, Loss: 0.2498, Accuracy: 1.0000\n",
            "Epoch 36, Loss: 0.2603, Accuracy: 1.0000\n",
            "Epoch 37, Loss: 0.2329, Accuracy: 1.0000\n",
            "Epoch 38, Loss: 0.2657, Accuracy: 1.0000\n",
            "Epoch 39, Loss: 0.2140, Accuracy: 1.0000\n",
            "Epoch 40, Loss: 0.2636, Accuracy: 1.0000\n",
            "Epoch 41, Loss: 0.1797, Accuracy: 1.0000\n",
            "Epoch 42, Loss: 0.2463, Accuracy: 1.0000\n",
            "Epoch 43, Loss: 0.2061, Accuracy: 1.0000\n",
            "Epoch 44, Loss: 0.2021, Accuracy: 1.0000\n",
            "Epoch 45, Loss: 0.1501, Accuracy: 1.0000\n",
            "Epoch 46, Loss: 0.1481, Accuracy: 1.0000\n",
            "Epoch 47, Loss: 0.1228, Accuracy: 1.0000\n",
            "Epoch 48, Loss: 0.1128, Accuracy: 1.0000\n",
            "Epoch 49, Loss: 0.1142, Accuracy: 1.0000\n",
            "Epoch 50, Loss: 0.1060, Accuracy: 1.0000\n"
          ]
        }
      ]
    },
    {
      "cell_type": "code",
      "source": [
        "def evaluate(loader):\n",
        "    model.eval()\n",
        "    correct = 0\n",
        "    total = 0\n",
        "    with torch.no_grad():\n",
        "        for x, y in loader:\n",
        "            x, y = x.to(device), y.to(device)\n",
        "            outputs = model(x)\n",
        "            _, preds = torch.max(outputs, 1)\n",
        "            correct += (preds == y).sum().item()\n",
        "            total += y.size(0)\n",
        "    print(f\"Validation Accuracy: {correct / total:.4f}\")\n",
        "\n",
        "evaluate(val_loader)"
      ],
      "metadata": {
        "colab": {
          "base_uri": "https://localhost:8080/"
        },
        "id": "rj0DruuqibJ7",
        "outputId": "34540ba7-a9ee-4597-d6be-db172f6d4b71"
      },
      "execution_count": null,
      "outputs": [
        {
          "output_type": "stream",
          "name": "stdout",
          "text": [
            "Validation Accuracy: 0.4000\n"
          ]
        }
      ]
    },
    {
      "cell_type": "code",
      "source": [
        "from sklearn.metrics import confusion_matrix, ConfusionMatrixDisplay\n",
        "import matplotlib.pyplot as plt\n",
        "\n",
        "def plot_conf_matrix():\n",
        "    model.eval()\n",
        "    all_preds = []\n",
        "    all_labels = []\n",
        "    with torch.no_grad():\n",
        "        for x, y in val_loader:\n",
        "            x, y = x.to(device), y.to(device)\n",
        "            outputs = model(x)\n",
        "            _, preds = torch.max(outputs, 1)\n",
        "            all_preds.extend(preds.cpu().numpy())\n",
        "            all_labels.extend(y.cpu().numpy())\n",
        "    cm = confusion_matrix(all_labels, all_preds)\n",
        "    ConfusionMatrixDisplay(cm).plot()\n",
        "    plt.show()\n",
        "\n",
        "plot_conf_matrix()"
      ],
      "metadata": {
        "colab": {
          "base_uri": "https://localhost:8080/",
          "height": 455
        },
        "id": "MFVD7F_SjDCS",
        "outputId": "9c6d3596-da01-47ef-c39e-bba48c335bd0"
      },
      "execution_count": null,
      "outputs": [
        {
          "output_type": "display_data",
          "data": {
            "text/plain": [
              "<Figure size 640x480 with 2 Axes>"
            ],
            "image/png": "[encoded data removed]"
          },
          "metadata": {}
        }
      ]
    },
    {
      "cell_type": "code",
      "source": [
        "import os\n",
        "import numpy as np\n",
        "import torch\n",
        "import torch.nn as nn\n",
        "from torch.utils.data import Dataset, DataLoader, random_split\n",
        "import torch.nn.functional as F\n",
        "\n",
        "device = torch.device(\"cuda\" if torch.cuda.is_available() else \"cpu\")\n",
        "region_dirs = [\"Brainstem\", \"Left_Caudate\", \"Left_Putamen\", \"Right_White_Matter\"]\n",
        "\n",
        "class MultiRegionDataset(Dataset):\n",
        "    def __init__(self, root_dir):\n",
        "        self.samples = []\n",
        "        all_ids = set()\n",
        "        for region in region_dirs:\n",
        "            for file in os.listdir(os.path.join(root_dir, region)):\n",
        "                subj_id = \"_\".join(file.split(\"_\")[:-1])\n",
        "                all_ids.add(subj_id)\n",
        "        for subj_id in all_ids:\n",
        "            paths = []\n",
        "            label = None\n",
        "            complete = True\n",
        "            for region in region_dirs:\n",
        "                path = os.path.join(root_dir, region, f\"{subj_id}_0.npy\")\n",
        "                alt_path = os.path.join(root_dir, region, f\"{subj_id}_1.npy\")\n",
        "                if os.path.exists(path):\n",
        "                    paths.append(path)\n",
        "                    label = 0\n",
        "                elif os.path.exists(alt_path):\n",
        "                    paths.append(alt_path)\n",
        "                    label = 1\n",
        "                else:\n",
        "                    complete = False\n",
        "            if complete:\n",
        "                self.samples.append((paths, label))\n",
        "\n",
        "    def __len__(self):\n",
        "        return len(self.samples)\n",
        "\n",
        "    def __getitem__(self, idx):\n",
        "        paths, label = self.samples[idx]\n",
        "        regions = [torch.tensor(np.load(p), dtype=torch.float32).unsqueeze(0) for p in paths]\n",
        "        return torch.stack(regions), torch.tensor(label, dtype=torch.long)\n",
        "\n",
        "class Simple3DCNN(nn.Module):\n",
        "    def __init__(self):\n",
        "        super(Simple3DCNN, self).__init__()\n",
        "        self.conv1 = nn.Conv3d(1, 8, 3, padding=1)\n",
        "        self.bn1 = nn.BatchNorm3d(8)\n",
        "        self.pool = nn.MaxPool3d(2)\n",
        "\n",
        "        self.conv2 = nn.Conv3d(8, 16, 3, padding=1)\n",
        "        self.bn2 = nn.BatchNorm3d(16)\n",
        "\n",
        "        # Ensure fixed size output using Adaptive pooling\n",
        "        self.adaptive_pool = nn.AdaptiveAvgPool3d((2, 2, 2))  # Output shape: (B, 16, 2, 2, 2)\n",
        "\n",
        "        self.fc1 = nn.Linear(16 * 2 * 2 * 2, 64)\n",
        "        self.dropout = nn.Dropout(0.5)\n",
        "        self.fc2 = nn.Linear(64, 32)\n",
        "        self.out = nn.Linear(32, 2)\n",
        "\n",
        "    def forward(self, x):\n",
        "        x = self.pool(F.relu(self.bn1(self.conv1(x))))\n",
        "        x = self.pool(F.relu(self.bn2(self.conv2(x))))\n",
        "        x = self.adaptive_pool(x)\n",
        "        x = x.view(x.size(0), -1)\n",
        "        x = F.relu(self.fc1(x))\n",
        "        x = self.dropout(x)\n",
        "        x = F.relu(self.fc2(x))\n",
        "        return self.out(x)\n",
        "\n",
        "class MultiRegionModel(nn.Module):\n",
        "    def __init__(self):\n",
        "        super(MultiRegionModel, self).__init__()\n",
        "        self.region_models = nn.ModuleList([Simple3DCNN() for _ in range(4)])\n",
        "        self.classifier = nn.Linear(64 * 4, 2)\n",
        "\n",
        "    def forward(self, x):  # x shape: [B, 4, 1, D, H, W]\n",
        "        outputs = []\n",
        "        for i in range(4):\n",
        "            out = self.region_models[i](x[:, i])  # Pass each region\n",
        "            outputs.append(out)\n",
        "        combined = torch.cat(outputs, dim=1)\n",
        "        return self.classifier(combined)\n",
        "\n",
        "# === Training Setup ===\n",
        "root_dir = \"/content/drive/MyDrive/extracted_regions1\"\n",
        "dataset = MultiRegionDataset(root_dir)\n",
        "train_size = int(0.8 * len(dataset))\n",
        "val_size = len(dataset) - train_size\n",
        "train_ds, val_ds = random_split(dataset, [train_size, val_size])\n",
        "train_loader = DataLoader(train_ds, batch_size=4, shuffle=True)\n",
        "val_loader = DataLoader(val_ds, batch_size=4)\n",
        "\n",
        "model = MultiRegionModel().to(device)\n",
        "criterion = nn.CrossEntropyLoss()\n",
        "optimizer = torch.optim.Adam(model.parameters(), lr=0.001)\n",
        "\n",
        "# === Training ===\n",
        "for epoch in range(1, 51):\n",
        "    model.train()\n",
        "    total_loss, correct = 0, 0\n",
        "    for x, y in train_loader:\n",
        "        x, y = x.to(device), y.to(device)\n",
        "        optimizer.zero_grad()\n",
        "        output = model(x)\n",
        "        loss = criterion(output, y)\n",
        "        loss.backward()\n",
        "        optimizer.step()\n",
        "        total_loss += loss.item()\n",
        "        correct += (output.argmax(1) == y).sum().item()\n",
        "    acc = correct / len(train_loader.dataset)\n",
        "    print(f\"Epoch {epoch}, Loss: {total_loss:.4f}, Accuracy: {acc:.4f}\")\n",
        "\n",
        "# === Validation (optional) ===\n",
        "model.eval()\n",
        "val_correct = 0\n",
        "with torch.no_grad():\n",
        "    for x, y in val_loader:\n",
        "        x, y = x.to(device), y.to(device)\n",
        "        output = model(x)\n",
        "        val_correct += (output.argmax(1) == y).sum().item()\n",
        "val_acc = val_correct / len(val_loader.dataset)\n",
        "print(f\"Validation Accuracy: {val_acc:.4f}\")"
      ],
      "metadata": {
        "colab": {
          "base_uri": "https://localhost:8080/",
          "height": 356
        },
        "id": "EizFRKWe9oRB",
        "outputId": "1d3fadf4-5f1b-4cc2-bd37-d65a7e11fdb2"
      },
      "execution_count": null,
      "outputs": [
        {
          "output_type": "error",
          "ename": "RuntimeError",
          "evalue": "mat1 and mat2 shapes cannot be multiplied (4x8 and 256x2)",
          "traceback": [
            "\u001b[0;31m---------------------------------------------------------------------------\u001b[0m",
            "\u001b[0;31mRuntimeError\u001b[0m                              Traceback (most recent call last)",
            "\u001b[0;32m<ipython-input-4-de438ba3c37d>\u001b[0m in \u001b[0;36m<cell line: 0>\u001b[0;34m()\u001b[0m\n\u001b[1;32m    105\u001b[0m         \u001b[0mx\u001b[0m\u001b[0;34m,\u001b[0m \u001b[0my\u001b[0m \u001b[0;34m=\u001b[0m \u001b[0mx\u001b[0m\u001b[0;34m.\u001b[0m\u001b[0mto\u001b[0m\u001b[0;34m(\u001b[0m\u001b[0mdevice\u001b[0m\u001b[0;34m)\u001b[0m\u001b[0;34m,\u001b[0m \u001b[0my\u001b[0m\u001b[0;34m.\u001b[0m\u001b[0mto\u001b[0m\u001b[0;34m(\u001b[0m\u001b[0mdevice\u001b[0m\u001b[0;34m)\u001b[0m\u001b[0;34m\u001b[0m\u001b[0;34m\u001b[0m\u001b[0m\n\u001b[1;32m    106\u001b[0m         \u001b[0moptimizer\u001b[0m\u001b[0;34m.\u001b[0m\u001b[0mzero_grad\u001b[0m\u001b[0;34m(\u001b[0m\u001b[0;34m)\u001b[0m\u001b[0;34m\u001b[0m\u001b[0;34m\u001b[0m\u001b[0m\n\u001b[0;32m--> 107\u001b[0;31m         \u001b[0moutput\u001b[0m \u001b[0;34m=\u001b[0m \u001b[0mmodel\u001b[0m\u001b[0;34m(\u001b[0m\u001b[0mx\u001b[0m\u001b[0;34m)\u001b[0m\u001b[0;34m\u001b[0m\u001b[0;34m\u001b[0m\u001b[0m\n\u001b[0m\u001b[1;32m    108\u001b[0m         \u001b[0mloss\u001b[0m \u001b[0;34m=\u001b[0m \u001b[0mcriterion\u001b[0m\u001b[0;34m(\u001b[0m\u001b[0moutput\u001b[0m\u001b[0;34m,\u001b[0m \u001b[0my\u001b[0m\u001b[0;34m)\u001b[0m\u001b[0;34m\u001b[0m\u001b[0;34m\u001b[0m\u001b[0m\n\u001b[1;32m    109\u001b[0m         \u001b[0mloss\u001b[0m\u001b[0;34m.\u001b[0m\u001b[0mbackward\u001b[0m\u001b[0;34m(\u001b[0m\u001b[0;34m)\u001b[0m\u001b[0;34m\u001b[0m\u001b[0;34m\u001b[0m\u001b[0m\n",
            "\u001b[0;32m/usr/local/lib/python3.11/dist-packages/torch/nn/modules/module.py\u001b[0m in \u001b[0;36m_wrapped_call_impl\u001b[0;34m(self, *args, **kwargs)\u001b[0m\n\u001b[1;32m   1737\u001b[0m             \u001b[0;32mreturn\u001b[0m \u001b[0mself\u001b[0m\u001b[0;34m.\u001b[0m\u001b[0m_compiled_call_impl\u001b[0m\u001b[0;34m(\u001b[0m\u001b[0;34m*\u001b[0m\u001b[0margs\u001b[0m\u001b[0;34m,\u001b[0m \u001b[0;34m**\u001b[0m\u001b[0mkwargs\u001b[0m\u001b[0;34m)\u001b[0m  \u001b[0;31m# type: ignore[misc]\u001b[0m\u001b[0;34m\u001b[0m\u001b[0;34m\u001b[0m\u001b[0m\n\u001b[1;32m   1738\u001b[0m         \u001b[0;32melse\u001b[0m\u001b[0;34m:\u001b[0m\u001b[0;34m\u001b[0m\u001b[0;34m\u001b[0m\u001b[0m\n\u001b[0;32m-> 1739\u001b[0;31m             \u001b[0;32mreturn\u001b[0m \u001b[0mself\u001b[0m\u001b[0;34m.\u001b[0m\u001b[0m_call_impl\u001b[0m\u001b[0;34m(\u001b[0m\u001b[0;34m*\u001b[0m\u001b[0margs\u001b[0m\u001b[0;34m,\u001b[0m \u001b[0;34m**\u001b[0m\u001b[0mkwargs\u001b[0m\u001b[0;34m)\u001b[0m\u001b[0;34m\u001b[0m\u001b[0;34m\u001b[0m\u001b[0m\n\u001b[0m\u001b[1;32m   1740\u001b[0m \u001b[0;34m\u001b[0m\u001b[0m\n\u001b[1;32m   1741\u001b[0m     \u001b[0;31m# torchrec tests the code consistency with the following code\u001b[0m\u001b[0;34m\u001b[0m\u001b[0;34m\u001b[0m\u001b[0m\n",
            "\u001b[0;32m/usr/local/lib/python3.11/dist-packages/torch/nn/modules/module.py\u001b[0m in \u001b[0;36m_call_impl\u001b[0;34m(self, *args, **kwargs)\u001b[0m\n\u001b[1;32m   1748\u001b[0m                 \u001b[0;32mor\u001b[0m \u001b[0m_global_backward_pre_hooks\u001b[0m \u001b[0;32mor\u001b[0m \u001b[0m_global_backward_hooks\u001b[0m\u001b[0;34m\u001b[0m\u001b[0;34m\u001b[0m\u001b[0m\n\u001b[1;32m   1749\u001b[0m                 or _global_forward_hooks or _global_forward_pre_hooks):\n\u001b[0;32m-> 1750\u001b[0;31m             \u001b[0;32mreturn\u001b[0m \u001b[0mforward_call\u001b[0m\u001b[0;34m(\u001b[0m\u001b[0;34m*\u001b[0m\u001b[0margs\u001b[0m\u001b[0;34m,\u001b[0m \u001b[0;34m**\u001b[0m\u001b[0mkwargs\u001b[0m\u001b[0;34m)\u001b[0m\u001b[0;34m\u001b[0m\u001b[0;34m\u001b[0m\u001b[0m\n\u001b[0m\u001b[1;32m   1751\u001b[0m \u001b[0;34m\u001b[0m\u001b[0m\n\u001b[1;32m   1752\u001b[0m         \u001b[0mresult\u001b[0m \u001b[0;34m=\u001b[0m \u001b[0;32mNone\u001b[0m\u001b[0;34m\u001b[0m\u001b[0;34m\u001b[0m\u001b[0m\n",
            "\u001b[0;32m<ipython-input-4-de438ba3c37d>\u001b[0m in \u001b[0;36mforward\u001b[0;34m(self, x)\u001b[0m\n\u001b[1;32m     83\u001b[0m             \u001b[0moutputs\u001b[0m\u001b[0;34m.\u001b[0m\u001b[0mappend\u001b[0m\u001b[0;34m(\u001b[0m\u001b[0mout\u001b[0m\u001b[0;34m)\u001b[0m\u001b[0;34m\u001b[0m\u001b[0;34m\u001b[0m\u001b[0m\n\u001b[1;32m     84\u001b[0m         \u001b[0mcombined\u001b[0m \u001b[0;34m=\u001b[0m \u001b[0mtorch\u001b[0m\u001b[0;34m.\u001b[0m\u001b[0mcat\u001b[0m\u001b[0;34m(\u001b[0m\u001b[0moutputs\u001b[0m\u001b[0;34m,\u001b[0m \u001b[0mdim\u001b[0m\u001b[0;34m=\u001b[0m\u001b[0;36m1\u001b[0m\u001b[0;34m)\u001b[0m\u001b[0;34m\u001b[0m\u001b[0;34m\u001b[0m\u001b[0m\n\u001b[0;32m---> 85\u001b[0;31m         \u001b[0;32mreturn\u001b[0m \u001b[0mself\u001b[0m\u001b[0;34m.\u001b[0m\u001b[0mclassifier\u001b[0m\u001b[0;34m(\u001b[0m\u001b[0mcombined\u001b[0m\u001b[0;34m)\u001b[0m\u001b[0;34m\u001b[0m\u001b[0;34m\u001b[0m\u001b[0m\n\u001b[0m\u001b[1;32m     86\u001b[0m \u001b[0;34m\u001b[0m\u001b[0m\n\u001b[1;32m     87\u001b[0m \u001b[0;31m# === Training Setup ===\u001b[0m\u001b[0;34m\u001b[0m\u001b[0;34m\u001b[0m\u001b[0m\n",
            "\u001b[0;32m/usr/local/lib/python3.11/dist-packages/torch/nn/modules/module.py\u001b[0m in \u001b[0;36m_wrapped_call_impl\u001b[0;34m(self, *args, **kwargs)\u001b[0m\n\u001b[1;32m   1737\u001b[0m             \u001b[0;32mreturn\u001b[0m \u001b[0mself\u001b[0m\u001b[0;34m.\u001b[0m\u001b[0m_compiled_call_impl\u001b[0m\u001b[0;34m(\u001b[0m\u001b[0;34m*\u001b[0m\u001b[0margs\u001b[0m\u001b[0;34m,\u001b[0m \u001b[0;34m**\u001b[0m\u001b[0mkwargs\u001b[0m\u001b[0;34m)\u001b[0m  \u001b[0;31m# type: ignore[misc]\u001b[0m\u001b[0;34m\u001b[0m\u001b[0;34m\u001b[0m\u001b[0m\n\u001b[1;32m   1738\u001b[0m         \u001b[0;32melse\u001b[0m\u001b[0;34m:\u001b[0m\u001b[0;34m\u001b[0m\u001b[0;34m\u001b[0m\u001b[0m\n\u001b[0;32m-> 1739\u001b[0;31m             \u001b[0;32mreturn\u001b[0m \u001b[0mself\u001b[0m\u001b[0;34m.\u001b[0m\u001b[0m_call_impl\u001b[0m\u001b[0;34m(\u001b[0m\u001b[0;34m*\u001b[0m\u001b[0margs\u001b[0m\u001b[0;34m,\u001b[0m \u001b[0;34m**\u001b[0m\u001b[0mkwargs\u001b[0m\u001b[0;34m)\u001b[0m\u001b[0;34m\u001b[0m\u001b[0;34m\u001b[0m\u001b[0m\n\u001b[0m\u001b[1;32m   1740\u001b[0m \u001b[0;34m\u001b[0m\u001b[0m\n\u001b[1;32m   1741\u001b[0m     \u001b[0;31m# torchrec tests the code consistency with the following code\u001b[0m\u001b[0;34m\u001b[0m\u001b[0;34m\u001b[0m\u001b[0m\n",
            "\u001b[0;32m/usr/local/lib/python3.11/dist-packages/torch/nn/modules/module.py\u001b[0m in \u001b[0;36m_call_impl\u001b[0;34m(self, *args, **kwargs)\u001b[0m\n\u001b[1;32m   1748\u001b[0m                 \u001b[0;32mor\u001b[0m \u001b[0m_global_backward_pre_hooks\u001b[0m \u001b[0;32mor\u001b[0m \u001b[0m_global_backward_hooks\u001b[0m\u001b[0;34m\u001b[0m\u001b[0;34m\u001b[0m\u001b[0m\n\u001b[1;32m   1749\u001b[0m                 or _global_forward_hooks or _global_forward_pre_hooks):\n\u001b[0;32m-> 1750\u001b[0;31m             \u001b[0;32mreturn\u001b[0m \u001b[0mforward_call\u001b[0m\u001b[0;34m(\u001b[0m\u001b[0;34m*\u001b[0m\u001b[0margs\u001b[0m\u001b[0;34m,\u001b[0m \u001b[0;34m**\u001b[0m\u001b[0mkwargs\u001b[0m\u001b[0;34m)\u001b[0m\u001b[0;34m\u001b[0m\u001b[0;34m\u001b[0m\u001b[0m\n\u001b[0m\u001b[1;32m   1751\u001b[0m \u001b[0;34m\u001b[0m\u001b[0m\n\u001b[1;32m   1752\u001b[0m         \u001b[0mresult\u001b[0m \u001b[0;34m=\u001b[0m \u001b[0;32mNone\u001b[0m\u001b[0;34m\u001b[0m\u001b[0;34m\u001b[0m\u001b[0m\n",
            "\u001b[0;32m/usr/local/lib/python3.11/dist-packages/torch/nn/modules/linear.py\u001b[0m in \u001b[0;36mforward\u001b[0;34m(self, input)\u001b[0m\n\u001b[1;32m    123\u001b[0m \u001b[0;34m\u001b[0m\u001b[0m\n\u001b[1;32m    124\u001b[0m     \u001b[0;32mdef\u001b[0m \u001b[0mforward\u001b[0m\u001b[0;34m(\u001b[0m\u001b[0mself\u001b[0m\u001b[0;34m,\u001b[0m \u001b[0minput\u001b[0m\u001b[0;34m:\u001b[0m \u001b[0mTensor\u001b[0m\u001b[0;34m)\u001b[0m \u001b[0;34m->\u001b[0m \u001b[0mTensor\u001b[0m\u001b[0;34m:\u001b[0m\u001b[0;34m\u001b[0m\u001b[0;34m\u001b[0m\u001b[0m\n\u001b[0;32m--> 125\u001b[0;31m         \u001b[0;32mreturn\u001b[0m \u001b[0mF\u001b[0m\u001b[0;34m.\u001b[0m\u001b[0mlinear\u001b[0m\u001b[0;34m(\u001b[0m\u001b[0minput\u001b[0m\u001b[0;34m,\u001b[0m \u001b[0mself\u001b[0m\u001b[0;34m.\u001b[0m\u001b[0mweight\u001b[0m\u001b[0;34m,\u001b[0m \u001b[0mself\u001b[0m\u001b[0;34m.\u001b[0m\u001b[0mbias\u001b[0m\u001b[0;34m)\u001b[0m\u001b[0;34m\u001b[0m\u001b[0;34m\u001b[0m\u001b[0m\n\u001b[0m\u001b[1;32m    126\u001b[0m \u001b[0;34m\u001b[0m\u001b[0m\n\u001b[1;32m    127\u001b[0m     \u001b[0;32mdef\u001b[0m \u001b[0mextra_repr\u001b[0m\u001b[0;34m(\u001b[0m\u001b[0mself\u001b[0m\u001b[0;34m)\u001b[0m \u001b[0;34m->\u001b[0m \u001b[0mstr\u001b[0m\u001b[0;34m:\u001b[0m\u001b[0;34m\u001b[0m\u001b[0;34m\u001b[0m\u001b[0m\n",
            "\u001b[0;31mRuntimeError\u001b[0m: mat1 and mat2 shapes cannot be multiplied (4x8 and 256x2)"
          ]
        }
      ]
    },
    {
      "cell_type": "code",
      "source": [
        "import os\n",
        "import numpy as np\n",
        "import torch\n",
        "import torch.nn as nn\n",
        "import torch.nn.functional as F\n",
        "from torch.utils.data import Dataset, DataLoader\n",
        "from sklearn.model_selection import train_test_split\n",
        "\n",
        "# ------------------------------\n",
        "# Step 1: Dataset Class\n",
        "# ------------------------------\n",
        "class BrainRegionDataset(Dataset):\n",
        "    def __init__(self, root_dir, transform=None):\n",
        "        self.samples = []\n",
        "        self.transform = transform\n",
        "        self.region_dirs = [\"Brainstem\", \"Left_Caudate\", \"Left_Putamen\", \"Right_White_Matter\"]\n",
        "\n",
        "        for region in self.region_dirs:\n",
        "            region_path = os.path.join(root_dir, region)\n",
        "            for fname in os.listdir(region_path):\n",
        "                if fname.endswith('.npy'):\n",
        "                    label = int(fname.split('_')[-1].split('.')[0])  # subject1_0.npy → 0\n",
        "                    self.samples.append({\n",
        "                        'path': os.path.join(region_path, fname),\n",
        "                        'label': label\n",
        "                    })\n",
        "\n",
        "    def __len__(self):\n",
        "        return len(self.samples)\n",
        "\n",
        "    def __getitem__(self, idx):\n",
        "        sample = self.samples[idx]\n",
        "        data = np.load(sample['path'])\n",
        "        data = torch.tensor(data, dtype=torch.float32).unsqueeze(0)  # shape: (1, D, H, W)\n",
        "        label = torch.tensor(sample['label'], dtype=torch.long)\n",
        "        return data, label\n",
        "\n",
        "# ------------------------------\n",
        "# Step 2: 3D CNN Model\n",
        "# ------------------------------\n",
        "class Improved3DCNN(nn.Module):\n",
        "    def __init__(self):\n",
        "        super(Improved3DCNN, self).__init__()\n",
        "        self.conv1 = nn.Conv3d(1, 8, 3, padding=1)\n",
        "        self.bn1 = nn.BatchNorm3d(8)\n",
        "        self.pool = nn.MaxPool3d(2)\n",
        "\n",
        "        self.conv2 = nn.Conv3d(8, 16, 3, padding=1)\n",
        "        self.bn2 = nn.BatchNorm3d(16)\n",
        "\n",
        "        self.adaptive_pool = nn.AdaptiveAvgPool3d((2, 2, 2))  # (B, 16, 2, 2, 2)\n",
        "\n",
        "        self.fc1 = nn.Linear(16 * 2 * 2 * 2, 64)\n",
        "        self.dropout = nn.Dropout(0.5)\n",
        "        self.fc2 = nn.Linear(64, 32)\n",
        "        self.out = nn.Linear(32, 2)\n",
        "\n",
        "    def forward(self, x):\n",
        "        x = self.pool(F.relu(self.bn1(self.conv1(x))))\n",
        "        x = self.pool(F.relu(self.bn2(self.conv2(x))))\n",
        "        x = self.adaptive_pool(x)\n",
        "        x = x.view(x.size(0), -1)\n",
        "        x = F.relu(self.fc1(x))\n",
        "        x = self.dropout(x)\n",
        "        x = F.relu(self.fc2(x))\n",
        "        return self.out(x)\n",
        "\n",
        "# ------------------------------\n",
        "# Step 3: Load Data\n",
        "# ------------------------------\n",
        "dataset = BrainRegionDataset(\"/content/drive/MyDrive/extracted_regions1\")\n",
        "train_idx, val_idx = train_test_split(np.arange(len(dataset)), test_size=0.2, random_state=42, stratify=[d[1].item() for d in dataset])\n",
        "train_set = torch.utils.data.Subset(dataset, train_idx)\n",
        "val_set = torch.utils.data.Subset(dataset, val_idx)\n",
        "\n",
        "train_loader = DataLoader(train_set, batch_size=4, shuffle=True)\n",
        "val_loader = DataLoader(val_set, batch_size=4)\n",
        "\n",
        "# ------------------------------\n",
        "# Step 4: Train Model\n",
        "# ------------------------------\n",
        "device = torch.device('cuda' if torch.cuda.is_available() else 'cpu')\n",
        "model = Improved3DCNN().to(device)\n",
        "\n",
        "criterion = nn.CrossEntropyLoss()\n",
        "optimizer = torch.optim.Adam(model.parameters(), lr=1e-3)\n",
        "\n",
        "for epoch in range(1, 51):\n",
        "    model.train()\n",
        "    running_loss, correct, total = 0.0, 0, 0\n",
        "    for x, y in train_loader:\n",
        "        x, y = x.to(device), y.to(device)\n",
        "        optimizer.zero_grad()\n",
        "        output = model(x)\n",
        "        loss = criterion(output, y)\n",
        "        loss.backward()\n",
        "        optimizer.step()\n",
        "\n",
        "        running_loss += loss.item()\n",
        "        preds = output.argmax(dim=1)\n",
        "        correct += (preds == y).sum().item()\n",
        "        total += y.size(0)\n",
        "\n",
        "    acc = correct / total\n",
        "    print(f\"Epoch {epoch}, Loss: {running_loss:.4f}, Accuracy: {acc:.4f}\")\n",
        "\n",
        "# ------------------------------\n",
        "# Step 5: Validate\n",
        "# ------------------------------\n",
        "model.eval()\n",
        "correct, total = 0, 0\n",
        "with torch.no_grad():\n",
        "    for x, y in val_loader:\n",
        "        x, y = x.to(device), y.to(device)\n",
        "        output = model(x)\n",
        "        preds = output.argmax(dim=1)\n",
        "        correct += (preds == y).sum().item()\n",
        "        total += y.size(0)\n",
        "\n",
        "val_acc = correct / total\n",
        "print(f\"Validation Accuracy: {val_acc:.4f}\")"
      ],
      "metadata": {
        "colab": {
          "base_uri": "https://localhost:8080/"
        },
        "id": "3aeukVQ9_5Ku",
        "outputId": "b31a66fc-ba96-4430-8097-b609ee0cdb2d"
      },
      "execution_count": null,
      "outputs": [
        {
          "output_type": "stream",
          "name": "stdout",
          "text": [
            "Epoch 1, Loss: 12.1861, Accuracy: 0.4627\n",
            "Epoch 2, Loss: 11.9777, Accuracy: 0.4478\n",
            "Epoch 3, Loss: 11.7796, Accuracy: 0.5075\n",
            "Epoch 4, Loss: 11.8154, Accuracy: 0.4776\n",
            "Epoch 5, Loss: 11.5683, Accuracy: 0.5075\n",
            "Epoch 6, Loss: 11.4611, Accuracy: 0.5522\n",
            "Epoch 7, Loss: 11.7265, Accuracy: 0.6119\n",
            "Epoch 8, Loss: 11.4777, Accuracy: 0.5672\n",
            "Epoch 9, Loss: 11.0236, Accuracy: 0.6567\n",
            "Epoch 10, Loss: 11.5959, Accuracy: 0.5821\n",
            "Epoch 11, Loss: 11.6451, Accuracy: 0.5373\n",
            "Epoch 12, Loss: 10.7084, Accuracy: 0.6269\n",
            "Epoch 13, Loss: 10.1231, Accuracy: 0.7313\n",
            "Epoch 14, Loss: 10.6875, Accuracy: 0.6269\n",
            "Epoch 15, Loss: 11.9316, Accuracy: 0.5821\n",
            "Epoch 16, Loss: 10.6909, Accuracy: 0.6716\n",
            "Epoch 17, Loss: 11.2489, Accuracy: 0.6418\n",
            "Epoch 18, Loss: 10.9609, Accuracy: 0.6418\n",
            "Epoch 19, Loss: 10.8632, Accuracy: 0.6866\n",
            "Epoch 20, Loss: 10.7234, Accuracy: 0.6418\n",
            "Epoch 21, Loss: 11.7191, Accuracy: 0.5821\n",
            "Epoch 22, Loss: 10.5977, Accuracy: 0.6119\n",
            "Epoch 23, Loss: 10.8921, Accuracy: 0.6269\n",
            "Epoch 24, Loss: 11.4914, Accuracy: 0.5970\n",
            "Epoch 25, Loss: 10.9851, Accuracy: 0.5672\n",
            "Epoch 26, Loss: 10.4970, Accuracy: 0.6119\n",
            "Epoch 27, Loss: 10.3732, Accuracy: 0.6269\n",
            "Epoch 28, Loss: 10.5852, Accuracy: 0.6269\n",
            "Epoch 29, Loss: 10.3450, Accuracy: 0.6269\n",
            "Epoch 30, Loss: 10.6566, Accuracy: 0.7164\n",
            "Epoch 31, Loss: 10.8178, Accuracy: 0.5970\n",
            "Epoch 32, Loss: 9.2603, Accuracy: 0.7313\n",
            "Epoch 33, Loss: 11.0422, Accuracy: 0.6269\n",
            "Epoch 34, Loss: 11.0594, Accuracy: 0.5970\n",
            "Epoch 35, Loss: 10.5854, Accuracy: 0.6269\n",
            "Epoch 36, Loss: 10.5363, Accuracy: 0.6866\n",
            "Epoch 37, Loss: 10.1930, Accuracy: 0.7164\n",
            "Epoch 38, Loss: 11.1950, Accuracy: 0.6119\n",
            "Epoch 39, Loss: 10.6985, Accuracy: 0.5970\n",
            "Epoch 40, Loss: 9.9674, Accuracy: 0.6716\n",
            "Epoch 41, Loss: 11.1698, Accuracy: 0.5821\n",
            "Epoch 42, Loss: 10.2315, Accuracy: 0.6567\n",
            "Epoch 43, Loss: 10.0442, Accuracy: 0.6567\n",
            "Epoch 44, Loss: 10.1960, Accuracy: 0.6716\n",
            "Epoch 45, Loss: 9.4251, Accuracy: 0.7015\n",
            "Epoch 46, Loss: 10.1644, Accuracy: 0.7015\n",
            "Epoch 47, Loss: 9.6554, Accuracy: 0.6866\n",
            "Epoch 48, Loss: 9.8237, Accuracy: 0.6866\n",
            "Epoch 49, Loss: 10.9788, Accuracy: 0.6119\n",
            "Epoch 50, Loss: 10.0577, Accuracy: 0.6418\n",
            "Validation Accuracy: 0.5882\n"
          ]
        }
      ]
    }
  ]
}