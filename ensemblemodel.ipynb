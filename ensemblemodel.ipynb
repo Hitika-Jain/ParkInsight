{
  "metadata": {
    "kernelspec": {
      "language": "python",
      "display_name": "Python 3",
      "name": "python3"
    },
    "language_info": {
      "name": "python",
      "version": "3.11.11",
      "mimetype": "text/x-python",
      "codemirror_mode": {
        "name": "ipython",
        "version": 3
      },
      "pygments_lexer": "ipython3",
      "nbconvert_exporter": "python",
      "file_extension": ".py"
    },
    "kaggle": {
      "accelerator": "nvidiaTeslaT4",
      "dataSources": [
        {
          "sourceId": 11630448,
          "sourceType": "datasetVersion",
          "datasetId": 7297055
        }
      ],
      "dockerImageVersionId": 31011,
      "isInternetEnabled": true,
      "language": "python",
      "sourceType": "notebook",
      "isGpuEnabled": true
    },
    "colab": {
      "name": "ensemblemodel",
      "provenance": [],
      "include_colab_link": true
    }
  },
  "nbformat_minor": 0,
  "nbformat": 4,
  "cells": [
    {
      "cell_type": "markdown",
      "metadata": {
        "id": "view-in-github",
        "colab_type": "text"
      },
      "source": [
        "<a href=\"https://colab.research.google.com/github/Hitika-Jain/ParkInsight/blob/tested/ensemblemodel.ipynb\" target=\"_parent\"><img src=\"https://colab.research.google.com/assets/colab-badge.svg\" alt=\"Open In Colab\"/></a>"
      ]
    },
    {
      "source": [
        "# IMPORTANT: SOME KAGGLE DATA SOURCES ARE PRIVATE\n",
        "# RUN THIS CELL IN ORDER TO IMPORT YOUR KAGGLE DATA SOURCES.\n",
        "import kagglehub\n",
        "kagglehub.login()\n"
      ],
      "metadata": {
        "id": "44RTsWZWfkiP"
      },
      "cell_type": "code",
      "outputs": [],
      "execution_count": null
    },
    {
      "source": [
        "# IMPORTANT: RUN THIS CELL IN ORDER TO IMPORT YOUR KAGGLE DATA SOURCES,\n",
        "# THEN FEEL FREE TO DELETE THIS CELL.\n",
        "# NOTE: THIS NOTEBOOK ENVIRONMENT DIFFERS FROM KAGGLE'S PYTHON\n",
        "# ENVIRONMENT SO THERE MAY BE MISSING LIBRARIES USED BY YOUR\n",
        "# NOTEBOOK.\n",
        "\n",
        "hitikajain22_parkinsons_path = kagglehub.dataset_download('hitikajain22/parkinsons')\n",
        "\n",
        "print('Data source import complete.')\n"
      ],
      "metadata": {
        "id": "bn4NubyLfkiS"
      },
      "cell_type": "code",
      "outputs": [],
      "execution_count": null
    },
    {
      "cell_type": "markdown",
      "source": [
        "synthetic data creation"
      ],
      "metadata": {
        "id": "lXlaoYfwfkiT"
      }
    },
    {
      "cell_type": "code",
      "source": [
        "import os\n",
        "import random\n",
        "import pandas as pd\n",
        "import numpy as np\n",
        "\n",
        "MRI_PD_DIR = \"/kaggle/input/parkinsons/data/mri_pd\"\n",
        "MRI_HC_DIR = \"/kaggle/input/parkinsons/data/mri_hc\"\n",
        "AUDIO_PD_DIR = \"/kaggle/input/parkinsons/data/audio_pd\"\n",
        "AUDIO_HC_DIR = \"/kaggle/input/parkinsons/data/audio_hc\"\n",
        "OUTPUT_CSV = \"/kaggle/working/synthetic_dataset.csv\"\n",
        "\n",
        "# Labelled lists\n",
        "mri_pd_files = [(os.path.join(MRI_PD_DIR, f), 1) for f in os.listdir(MRI_PD_DIR) if f.endswith('.npy')]\n",
        "mri_hc_files = [(os.path.join(MRI_HC_DIR, f), 0) for f in os.listdir(MRI_HC_DIR) if f.endswith('.npy')]\n",
        "audio_pd_files = [(os.path.join(AUDIO_PD_DIR, f), 1) for f in os.listdir(AUDIO_PD_DIR) if f.endswith('.wav')]\n",
        "audio_hc_files = [(os.path.join(AUDIO_HC_DIR, f), 0) for f in os.listdir(AUDIO_HC_DIR) if f.endswith('.wav')]\n",
        "\n",
        "# Match only pairs with the same label\n",
        "NUM_SAMPLES_PER_CLASS = 100\n",
        "synthetic_data = []\n",
        "\n",
        "for _ in range(NUM_SAMPLES_PER_CLASS):\n",
        "    mri_f, label = random.choice(mri_pd_files)\n",
        "    audio_f, _ = random.choice(audio_pd_files)\n",
        "    synthetic_data.append({\n",
        "        \"mri_file\": mri_f,\n",
        "        \"audio_file\": audio_f,\n",
        "        \"label\": label\n",
        "    })\n",
        "\n",
        "for _ in range(NUM_SAMPLES_PER_CLASS):\n",
        "    mri_f, label = random.choice(mri_hc_files)\n",
        "    audio_f, _ = random.choice(audio_hc_files)\n",
        "    synthetic_data.append({\n",
        "        \"mri_file\": mri_f,\n",
        "        \"audio_file\": audio_f,\n",
        "        \"label\": label\n",
        "    })\n",
        "\n",
        "# Shuffle the combined dataset\n",
        "random.shuffle(synthetic_data)\n",
        "\n",
        "# Save to CSV\n",
        "df = pd.DataFrame(synthetic_data)\n",
        "df.to_csv(OUTPUT_CSV, index=False)\n",
        "print(f\"Synthetic dataset saved to {OUTPUT_CSV}\")"
      ],
      "metadata": {
        "trusted": true,
        "execution": {
          "iopub.status.busy": "2025-05-10T23:52:50.354961Z",
          "iopub.execute_input": "2025-05-10T23:52:50.355259Z",
          "iopub.status.idle": "2025-05-10T23:52:50.432821Z",
          "shell.execute_reply.started": "2025-05-10T23:52:50.355215Z",
          "shell.execute_reply": "2025-05-10T23:52:50.43218Z"
        },
        "id": "0iXmXw5HfkiV",
        "outputId": "7fdda5f5-f328-48a4-f4e2-607cbe7fefe5"
      },
      "outputs": [
        {
          "name": "stdout",
          "text": "Synthetic dataset saved to /kaggle/working/synthetic_dataset.csv\n",
          "output_type": "stream"
        }
      ],
      "execution_count": null
    },
    {
      "cell_type": "code",
      "source": [
        "# Parkinson's Disease Detection - Enhanced Ensemble Model with MRI and Audio\n",
        "\n",
        "import os\n",
        "import torch\n",
        "import torch.nn as nn\n",
        "import numpy as np\n",
        "import scipy.ndimage\n",
        "import librosa\n",
        "import pandas as pd\n",
        "from torch.utils.data import Dataset, DataLoader, Subset\n",
        "from sklearn.model_selection import StratifiedKFold\n",
        "from sklearn.metrics import classification_report, confusion_matrix, roc_auc_score, accuracy_score\n",
        "import matplotlib.pyplot as plt\n",
        "import seaborn as sns\n",
        "from tqdm import tqdm\n",
        "import torch.nn.functional as F\n",
        "\n",
        "# Device configuration using GPU T4x2\n",
        "DEVICE = torch.device(\"cuda\" if torch.cuda.is_available() else \"cpu\")\n",
        "print(f\"Using device: {DEVICE}\")\n",
        "\n",
        "# -------------------- Dataset Classes -------------------- #\n",
        "\n",
        "class BrainRegionDataset(Dataset):\n",
        "    def __init__(self, csv_path, midbrain_center=(85,130,110), region_size=(32, 32, 32)):\n",
        "        \"\"\"\n",
        "        Dataset reading from CSV containing file paths\n",
        "        CSV should have: mri_file, audio_file, label columns\n",
        "        \"\"\"\n",
        "        self.samples = []\n",
        "        self.midbrain_center = midbrain_center\n",
        "        self.region_size = region_size\n",
        "\n",
        "        df = pd.read_csv(csv_path)\n",
        "        for _, row in df.iterrows():\n",
        "            mri_path = row['mri_file']\n",
        "            audio_path = row['audio_file']\n",
        "            label = row['label']\n",
        "\n",
        "            if os.path.exists(mri_path) and os.path.exists(audio_path):\n",
        "                self.samples.append({\n",
        "                    'mri_file': mri_path,\n",
        "                    'audio_file': audio_path,\n",
        "                    'label': label,\n",
        "                })\n",
        "\n",
        "        print(f\"Loaded {len(self.samples)} samples\")\n",
        "        print(f\"Class distribution: {self.get_class_distribution()}\")\n",
        "\n",
        "    def get_class_distribution(self):\n",
        "        labels = [s['label'] for s in self.samples]\n",
        "        unique, counts = np.unique(labels, return_counts=True)\n",
        "        return dict(zip(unique, counts))\n",
        "\n",
        "    def extract_brain_regions(self, volume):\n",
        "        \"\"\"Extracting key regions relevant for Parkinson's Disease\"\"\"\n",
        "        regions = []\n",
        "\n",
        "        # substantia nigra region (most important for PD) using typical location in MNI space\n",
        "        substantia_nigra_center = (80, 125, 65)\n",
        "        regions.append(self.extract_region(volume, substantia_nigra_center, \"substantia_nigra\"))\n",
        "\n",
        "        # basal ganglia region (critical for PD)\n",
        "        basal_ganglia_center = (90, 110, 80)\n",
        "        regions.append(self.extract_region(volume, basal_ganglia_center, \"basal_ganglia\"))\n",
        "\n",
        "        # putamen (also affected in PD)\n",
        "        putamen_center = (70, 100, 75)\n",
        "        regions.append(self.extract_region(volume, putamen_center, \"putamen\"))\n",
        "\n",
        "        return regions\n",
        "\n",
        "    def extract_region(self, volume, center, name=None):\n",
        "        \"\"\"Extracting region with error handling and size normalization\"\"\"\n",
        "        x, y, z = center\n",
        "        d, h, w = self.region_size\n",
        "\n",
        "        # Ensure center is within volume bounds\n",
        "        x = min(max(x, d//2), volume.shape[0] - d//2 - 1)\n",
        "        y = min(max(y, h//2), volume.shape[1] - h//2 - 1)\n",
        "        z = min(max(z, w//2), volume.shape[2] - w//2 - 1)\n",
        "\n",
        "        x_start, y_start, z_start = max(x-d//2, 0), max(y-h//2, 0), max(z-w//2, 0)\n",
        "        x_end, y_end, z_end = min(x_start+d, volume.shape[0]), min(y_start+h, volume.shape[1]), min(z_start+w, volume.shape[2])\n",
        "\n",
        "        try:\n",
        "            region = volume[x_start:x_end, y_start:y_end, z_start:z_end]\n",
        "\n",
        "            # Handle edge cases where the region might be smaller than expected\n",
        "            if region.shape != self.region_size:\n",
        "                region = scipy.ndimage.zoom(region, (self.region_size[0]/region.shape[0],\n",
        "                                          self.region_size[1]/region.shape[1],\n",
        "                                          self.region_size[2]/region.shape[2]), order=1)\n",
        "\n",
        "            # Z-score normalization\n",
        "            mean = np.mean(region)\n",
        "            std = np.std(region)\n",
        "            if std > 0:\n",
        "                region = (region - mean) / std\n",
        "            else:\n",
        "                region = region - mean\n",
        "\n",
        "            return region\n",
        "        except Exception as e:\n",
        "            print(f\"Error extracting region {name}: {e}\")\n",
        "            return np.zeros(self.region_size, dtype=np.float32)\n",
        "\n",
        "    def extract_audio_features(self, file_path, max_pad_len=100):\n",
        "        \"\"\"Extracting audio features important for Parkinson's detection\"\"\"\n",
        "        try:\n",
        "            y, sr = librosa.load(file_path, sr=22050)\n",
        "\n",
        "            # Basic features - focus on PD-relevant features\n",
        "            mfcc = librosa.feature.mfcc(y=y, sr=sr, n_mfcc=20)\n",
        "\n",
        "            # Voice-specific features (important for Parkinson's)\n",
        "            zero_crossings = librosa.feature.zero_crossing_rate(y)  # Voice tremors\n",
        "            rms = librosa.feature.rms(y=y)  # Speech intensity variations\n",
        "\n",
        "            # Spectral features\n",
        "            spectral_centroid = librosa.feature.spectral_centroid(y=y, sr=sr)\n",
        "            spectral_rolloff = librosa.feature.spectral_rolloff(y=y, sr=sr)\n",
        "\n",
        "            # Stack selected features\n",
        "            features = np.vstack([\n",
        "                mfcc,\n",
        "                zero_crossings,\n",
        "                rms,\n",
        "                spectral_centroid,\n",
        "                spectral_rolloff\n",
        "            ])\n",
        "\n",
        "            if features.shape[1] < max_pad_len:\n",
        "                features = np.pad(features, pad_width=((0, 0), (0, max_pad_len - features.shape[1])), mode='constant')\n",
        "            else:\n",
        "                features = features[:, :max_pad_len]\n",
        "\n",
        "            return torch.tensor(features.T, dtype=torch.float32)\n",
        "\n",
        "        except Exception as e:\n",
        "            print(f\"Error processing audio file {file_path}: {str(e)}\")\n",
        "            return torch.zeros((max_pad_len, feature_dim), dtype=torch.float32)\n",
        "\n",
        "    def __len__(self):\n",
        "        return len(self.samples)\n",
        "\n",
        "    def __getitem__(self, idx):\n",
        "        sample = self.samples[idx]\n",
        "\n",
        "        try:\n",
        "            volume = np.load(sample['mri_file'])\n",
        "            if volume.ndim == 4:\n",
        "                volume = volume.squeeze(0)\n",
        "\n",
        "            # Extract and normalize brain regions\n",
        "            regions = self.extract_brain_regions(volume)\n",
        "            regions_tensor = torch.tensor(np.stack(regions), dtype=torch.float32)\n",
        "\n",
        "        except Exception as e:\n",
        "            print(f\"Error processing MRI file {sample['mri_file']}: {str(e)}\")\n",
        "            # Create a placeholder tensor with the expected dimensions\n",
        "            regions_tensor = torch.zeros((3, *self.region_size), dtype=torch.float32)\n",
        "\n",
        "        # Extract audio features\n",
        "        audio_tensor = self.extract_audio_features(sample['audio_file'])\n",
        "\n",
        "        label = torch.tensor(sample['label'], dtype=torch.long)\n",
        "\n",
        "        return regions_tensor, audio_tensor, label\n",
        "\n",
        "# -------------------- Model Architecture -------------------- #\n",
        "\n",
        "class MRIModel(nn.Module):\n",
        "    def __init__(self, in_channels=3):\n",
        "        super(MRIModel, self).__init__()\n",
        "        # Simpler architecture to avoid overfitting\n",
        "        self.conv1 = nn.Conv3d(in_channels, 16, kernel_size=3, padding=1)\n",
        "        self.bn1 = nn.BatchNorm3d(16)\n",
        "        self.pool1 = nn.MaxPool3d(2)\n",
        "        self.dropout1 = nn.Dropout3d(0.3)\n",
        "\n",
        "        self.conv2 = nn.Conv3d(16, 32, kernel_size=3, padding=1)\n",
        "        self.bn2 = nn.BatchNorm3d(32)\n",
        "        self.pool2 = nn.MaxPool3d(2)\n",
        "        self.dropout2 = nn.Dropout3d(0.3)\n",
        "\n",
        "        self.conv3 = nn.Conv3d(32, 64, kernel_size=3, padding=1)\n",
        "        self.bn3 = nn.BatchNorm3d(64)\n",
        "        self.pool3 = nn.MaxPool3d(2)\n",
        "        self.dropout3 = nn.Dropout3d(0.4)\n",
        "\n",
        "        # Global pooling to handle variable dimensions\n",
        "        self.global_pool = nn.AdaptiveAvgPool3d((1, 1, 1))\n",
        "\n",
        "        self.relu = nn.LeakyReLU(0.1)\n",
        "\n",
        "    def forward(self, x):\n",
        "        # Basic CNN feature extraction\n",
        "        x = self.relu(self.bn1(self.conv1(x)))\n",
        "        x = self.pool1(x)\n",
        "        x = self.dropout1(x)\n",
        "\n",
        "        x = self.relu(self.bn2(self.conv2(x)))\n",
        "        x = self.pool2(x)\n",
        "        x = self.dropout2(x)\n",
        "\n",
        "        x = self.relu(self.bn3(self.conv3(x)))\n",
        "        x = self.pool3(x)\n",
        "        x = self.dropout3(x)\n",
        "\n",
        "        # Global pooling (B, 64, 1, 1, 1)\n",
        "        x = self.global_pool(x)\n",
        "\n",
        "        return x  # shape: (B, 64, 1, 1, 1)\n",
        "\n",
        "class AudioModel(nn.Module):\n",
        "    def __init__(self, input_size=24, hidden_size=64, num_layers=2, dropout_rate=0.3):\n",
        "        super().__init__()\n",
        "        self.hidden_size = hidden_size\n",
        "        self.num_layers = num_layers\n",
        "\n",
        "        # Bidirectional LSTM layers\n",
        "        self.bilstm = nn.LSTM(\n",
        "            input_size=input_size,\n",
        "            hidden_size=hidden_size,\n",
        "            num_layers=num_layers,\n",
        "            batch_first=True,\n",
        "            dropout=dropout_rate if num_layers > 1 else 0,\n",
        "            bidirectional=True\n",
        "        )\n",
        "\n",
        "        # Attention mechanism to focus on important time steps\n",
        "        self.attention = nn.Sequential(\n",
        "            nn.Linear(hidden_size * 2, 1),  # 2x for bidirectional\n",
        "            nn.Tanh()\n",
        "        )\n",
        "\n",
        "        # Layer normalization\n",
        "        self.layer_norm = nn.LayerNorm(hidden_size * 2)\n",
        "\n",
        "        self.dropout = nn.Dropout(dropout_rate)\n",
        "\n",
        "        self.projection = nn.Linear(hidden_size * 2, 64)\n",
        "\n",
        "    def attention_net(self, lstm_output):\n",
        "        # lstm_output shape: (batch, seq_len, hidden_size*2)\n",
        "        attn_weights = self.attention(lstm_output)\n",
        "        attn_weights = F.softmax(attn_weights, dim=1)\n",
        "\n",
        "        context = torch.bmm(attn_weights.transpose(1, 2), lstm_output)\n",
        "        return context.squeeze(1)\n",
        "\n",
        "    def forward(self, x):\n",
        "        # x shape: (batch, seq_len, feature_dim)\n",
        "        lstm_output, _ = self.bilstm(x)\n",
        "\n",
        "        context = self.attention_net(lstm_output)\n",
        "\n",
        "        # layer normalization and dropout\n",
        "        context = self.layer_norm(context)\n",
        "        context = self.dropout(context)\n",
        "\n",
        "        output = self.projection(context)  # (batch, 64)\n",
        "\n",
        "        output = output.unsqueeze(-1)  # (batch, 64, 1)\n",
        "\n",
        "        return output\n",
        "\n",
        "class EnsembleModel(nn.Module):\n",
        "    def __init__(self):\n",
        "        super().__init__()\n",
        "        self.mri_model = MRIModel(in_channels=3)\n",
        "\n",
        "        self.audio_model = AudioModel(\n",
        "            input_size=24,\n",
        "            hidden_size=64,\n",
        "            num_layers=2,\n",
        "            dropout_rate=0.3\n",
        "        )\n",
        "\n",
        "        # Fusion layers - process 3D features directly\n",
        "        self.fusion = nn.Sequential(\n",
        "            nn.Conv3d(64, 32, kernel_size=1),\n",
        "            nn.BatchNorm3d(32),\n",
        "            nn.LeakyReLU(0.1),\n",
        "            nn.Dropout3d(0.4)\n",
        "        )\n",
        "\n",
        "        # Process audio features\n",
        "        self.audio_proj = nn.Sequential(\n",
        "            nn.Conv1d(64, 32, kernel_size=1),\n",
        "            nn.BatchNorm1d(32),\n",
        "            nn.LeakyReLU(0.1),\n",
        "            nn.Dropout(0.4)\n",
        "        )\n",
        "\n",
        "        # Final classifier\n",
        "        self.classifier = nn.Sequential(\n",
        "            nn.Linear(64, 32),\n",
        "            nn.BatchNorm1d(32),\n",
        "            nn.LeakyReLU(0.1),\n",
        "            nn.Dropout(0.5),\n",
        "            nn.Linear(32, 1),\n",
        "            nn.Sigmoid()\n",
        "        )\n",
        "\n",
        "    def forward(self, mri, audio):\n",
        "        # Keeping dimensions intact\n",
        "        mri_feat = self.mri_model(mri)  # (B, 64, 1, 1, 1)\n",
        "        audio_feat = self.audio_model(audio)  # (B, 64, 1)\n",
        "\n",
        "        mri_feat = self.fusion(mri_feat)  # (B, 32, 1, 1, 1)\n",
        "        audio_feat = self.audio_proj(audio_feat)  # (B, 32, 1)\n",
        "\n",
        "        # flattening for final classification\n",
        "        mri_flat = mri_feat.view(mri_feat.size(0), -1)  # (B, 32)\n",
        "        audio_flat = audio_feat.view(audio_feat.size(0), -1)  # (B, 32)\n",
        "\n",
        "        # Concatenate features\n",
        "        combined = torch.cat((mri_flat, audio_flat), dim=1)  # (B, 64)\n",
        "\n",
        "        # Final classification\n",
        "        return self.classifier(combined)\n",
        "\n",
        "# -------------------- Training & Evaluation Functions -------------------- #\n",
        "\n",
        "def train_epoch(model, train_loader, optimizer, criterion, device, gradient_clip=1.0):\n",
        "    model.train()\n",
        "    running_loss = 0.0\n",
        "    correct = 0\n",
        "    total = 0\n",
        "\n",
        "    for mri, audio, labels in tqdm(train_loader, desc=\"Training\"):\n",
        "        mri, audio, labels = mri.to(device), audio.to(device), labels.float().unsqueeze(1).to(device)\n",
        "\n",
        "        # Forward pass\n",
        "        optimizer.zero_grad()\n",
        "        outputs = model(mri, audio)\n",
        "        loss = criterion(outputs, labels)\n",
        "\n",
        "        # Backward and optimize\n",
        "        loss.backward()\n",
        "        torch.nn.utils.clip_grad_norm_(model.parameters(), gradient_clip)\n",
        "        optimizer.step()\n",
        "\n",
        "        running_loss += loss.item()\n",
        "\n",
        "        #accuracy\n",
        "        predicted = (outputs > 0.5).float()\n",
        "        total += labels.size(0)\n",
        "        correct += (predicted == labels).sum().item()\n",
        "\n",
        "    epoch_loss = running_loss / len(train_loader)\n",
        "    epoch_acc = 100 * correct / total\n",
        "\n",
        "    return epoch_loss, epoch_acc\n",
        "\n",
        "def evaluate(model, data_loader, criterion, device):\n",
        "    model.eval()\n",
        "    running_loss = 0.0\n",
        "    all_labels = []\n",
        "    all_predictions = []\n",
        "    all_scores = []\n",
        "\n",
        "    with torch.no_grad():\n",
        "        for mri, audio, labels in tqdm(data_loader, desc=\"Evaluating\"):\n",
        "            mri, audio, labels = mri.to(device), audio.to(device), labels.float().unsqueeze(1).to(device)\n",
        "\n",
        "            # Forward pass\n",
        "            outputs = model(mri, audio)\n",
        "            loss = criterion(outputs, labels)\n",
        "\n",
        "            running_loss += loss.item()\n",
        "\n",
        "            threshold = 0.5  # Standard threshold\n",
        "            predicted = (outputs > threshold).float()\n",
        "            all_labels.extend(labels.cpu().numpy())\n",
        "            all_predictions.extend(predicted.cpu().numpy())\n",
        "            all_scores.extend(outputs.cpu().numpy())\n",
        "\n",
        "    # Calculate metrics\n",
        "    eval_loss = running_loss / len(data_loader)\n",
        "\n",
        "    all_labels = np.array(all_labels)\n",
        "    all_predictions = np.array(all_predictions)\n",
        "    all_scores = np.array(all_scores)\n",
        "\n",
        "    try:\n",
        "        eval_acc = accuracy_score(all_labels, all_predictions)\n",
        "    except Exception as e:\n",
        "        print(f\"Error calculating accuracy: {str(e)}\")\n",
        "        eval_acc = 0.0\n",
        "\n",
        "    return eval_loss, eval_acc, all_labels, all_predictions, all_scores\n",
        "\n",
        "# -------------------- Training & Cross-Validation -------------------- #\n",
        "\n",
        "def train_and_evaluate(dataset, n_splits=5, batch_size=8, epochs=50, learning_rate=0.0003,\n",
        "                       weight_decay=1e-4, patience=7):\n",
        "    # cross-validation\n",
        "    skf = StratifiedKFold(n_splits=n_splits, shuffle=True, random_state=42)\n",
        "\n",
        "    labels = np.array([s['label'] for s in dataset.samples])\n",
        "\n",
        "    fold_results = []\n",
        "    all_y_true, all_y_pred, all_y_score = [], [], []\n",
        "\n",
        "    # Training history across folds\n",
        "    history = {\n",
        "        'train_loss': [],\n",
        "        'train_acc': [],\n",
        "        'val_loss': [],\n",
        "        'val_acc': []\n",
        "    }\n",
        "\n",
        "    # Loop through folds\n",
        "    for fold, (train_idx, test_idx) in enumerate(skf.split(np.zeros(len(labels)), labels)):\n",
        "        print(f\"\\n{'='*20} Fold {fold+1}/{n_splits} {'='*20}\")\n",
        "\n",
        "        train_loader = DataLoader(\n",
        "            Subset(dataset, train_idx),\n",
        "            batch_size=batch_size,\n",
        "            shuffle=True,\n",
        "            num_workers=0,\n",
        "            pin_memory=True\n",
        "        )\n",
        "\n",
        "        test_loader = DataLoader(\n",
        "            Subset(dataset, test_idx),\n",
        "            batch_size=batch_size,\n",
        "            num_workers=0,\n",
        "            pin_memory=True\n",
        "        )\n",
        "\n",
        "        print(f\"Training samples: {len(train_idx)}, Test samples: {len(test_idx)}\")\n",
        "\n",
        "        model = EnsembleModel().to(DEVICE)\n",
        "\n",
        "        mri_params = list(map(id, model.mri_model.parameters()))\n",
        "        audio_params = list(map(id, model.audio_model.parameters()))\n",
        "        base_params = filter(lambda p: id(p) not in mri_params + audio_params, model.parameters())\n",
        "\n",
        "        optimizer = torch.optim.AdamW([\n",
        "            {'params': model.mri_model.parameters(), 'lr': learning_rate * 0.5},\n",
        "            {'params': model.audio_model.parameters(), 'lr': learning_rate * 0.5},\n",
        "            {'params': base_params}\n",
        "        ], lr=learning_rate, weight_decay=weight_decay)\n",
        "\n",
        "        # Class-weighted loss to handle imbalance\n",
        "        class_counts = np.bincount(labels[train_idx])\n",
        "        class_weights = 1.0 / torch.tensor(class_counts, dtype=torch.float)\n",
        "        class_weights = class_weights / class_weights.sum() * len(class_counts)\n",
        "        class_weights = class_weights.to(DEVICE)\n",
        "\n",
        "        criterion = nn.BCELoss()\n",
        "\n",
        "        # Learning rate scheduler\n",
        "        scheduler = torch.optim.lr_scheduler.ReduceLROnPlateau(\n",
        "            optimizer, mode='min', factor=0.5, patience=patience//3, verbose=True\n",
        "        )\n",
        "\n",
        "        # Early stopping\n",
        "        best_val_loss = float('inf')\n",
        "        early_stop_counter = 0\n",
        "        best_model_state = None\n",
        "\n",
        "        # Training loop\n",
        "        fold_history = {\n",
        "            'train_loss': [],\n",
        "            'train_acc': [],\n",
        "            'val_loss': [],\n",
        "            'val_acc': []\n",
        "        }\n",
        "\n",
        "        for epoch in range(epochs):\n",
        "            print(f\"\\nEpoch {epoch+1}/{epochs}\")\n",
        "\n",
        "            train_loss, train_acc = train_epoch(model, train_loader, optimizer, criterion, DEVICE)\n",
        "\n",
        "            val_loss, val_acc, _, _, _ = evaluate(model, test_loader, criterion, DEVICE)\n",
        "\n",
        "            scheduler.step(val_loss)\n",
        "\n",
        "            print(f\"Train Loss: {train_loss:.4f} | Train Acc: {train_acc:.2f}%\")\n",
        "            print(f\"Val Loss: {val_loss:.4f} | Val Acc: {val_acc*100:.2f}%\")\n",
        "\n",
        "            # Store history\n",
        "            fold_history['train_loss'].append(train_loss)\n",
        "            fold_history['train_acc'].append(train_acc)\n",
        "            fold_history['val_loss'].append(val_loss)\n",
        "            fold_history['val_acc'].append(val_acc*100)\n",
        "\n",
        "            if val_loss < best_val_loss:\n",
        "                best_val_loss = val_loss\n",
        "                early_stop_counter = 0\n",
        "                best_model_state = model.state_dict().copy()\n",
        "            else:\n",
        "                early_stop_counter += 1\n",
        "\n",
        "            if early_stop_counter >= patience:\n",
        "                print(f\"Early stopping triggered after epoch {epoch+1}\")\n",
        "                train_loss_last_5 = np.mean(fold_history['train_loss'][-5:])\n",
        "                val_loss_last_5 = np.mean(fold_history['val_loss'][-5:])\n",
        "                if train_loss_last_5 < 0.5 * val_loss_last_5:\n",
        "                    print(\"Significant overfitting detected!\")\n",
        "                break\n",
        "\n",
        "        for key in history:\n",
        "            history[key].extend(fold_history[key])\n",
        "\n",
        "        #best model for final evaluation\n",
        "        if best_model_state:\n",
        "            model.load_state_dict(best_model_state)\n",
        "\n",
        "        # Final evaluation on test set\n",
        "        _, _, y_true, y_pred, y_score = evaluate(model, test_loader, criterion, DEVICE)\n",
        "\n",
        "        # Calculate metrics\n",
        "        accuracy = accuracy_score(y_true, y_pred)\n",
        "        print(\"\\nFinal Evaluation on Test Set:\")\n",
        "        print(f\"Accuracy: {accuracy*100:.2f}%\")\n",
        "        print(classification_report(y_true, y_pred))\n",
        "        print(\"Confusion Matrix:\\n\", confusion_matrix(y_true, y_pred))\n",
        "\n",
        "        try:\n",
        "            auc = roc_auc_score(y_true, y_score)\n",
        "            print(f\"ROC AUC Score: {auc:.4f}\")\n",
        "        except:\n",
        "            auc = None\n",
        "            print(\"Could not calculate ROC AUC score\")\n",
        "\n",
        "        # Store results\n",
        "        fold_results.append({\n",
        "            'fold': fold+1,\n",
        "            'accuracy': accuracy,\n",
        "            'auc': auc,\n",
        "            'y_true': y_true,\n",
        "            'y_pred': y_pred,\n",
        "            'y_score': y_score\n",
        "        })\n",
        "\n",
        "        # Add to overall results\n",
        "        all_y_true.extend(y_true)\n",
        "        all_y_pred.extend(y_pred)\n",
        "        all_y_score.extend(y_score)\n",
        "\n",
        "        # confusion matrix for this fold\n",
        "        plt.figure(figsize=(8, 6))\n",
        "        cm = confusion_matrix(y_true, y_pred)\n",
        "        sns.heatmap(cm, annot=True, fmt='d', cmap='Blues', cbar=False)\n",
        "        plt.ylabel('True Label')\n",
        "        plt.xlabel('Predicted Label')\n",
        "        plt.title(f'Fold {fold+1} Confusion Matrix')\n",
        "        plt.show()\n",
        "\n",
        "    # -------------------- Final Results -------------------- #\n",
        "    print(\"\\n\" + \"=\"*50)\n",
        "    print(\"FINAL EVALUATION ACROSS ALL FOLDS\")\n",
        "    print(\"=\"*50)\n",
        "\n",
        "    #overall accuracy\n",
        "    overall_accuracy = accuracy_score(all_y_true, all_y_pred)\n",
        "    print(f\"Overall Accuracy: {overall_accuracy*100:.2f}%\")\n",
        "\n",
        "    #classification report\n",
        "    print(\"\\nClassification Report:\")\n",
        "    print(classification_report(all_y_true, all_y_pred))\n",
        "\n",
        "    #confusion matrix\n",
        "    print(\"\\nOverall Confusion Matrix:\")\n",
        "    cm = confusion_matrix(all_y_true, all_y_pred)\n",
        "    print(cm)\n",
        "\n",
        "    #ROC AUC\n",
        "    try:\n",
        "        overall_auc = roc_auc_score(all_y_true, all_y_score)\n",
        "        print(f\"\\nOverall ROC AUC: {overall_auc:.4f}\")\n",
        "    except:\n",
        "        overall_auc = None\n",
        "        print(\"\\nCould not calculate overall ROC AUC\")\n",
        "\n",
        "    # -------------------- Plot Results -------------------- #\n",
        "\n",
        "    # 1. Plot confusion matrix\n",
        "    plt.figure(figsize=(10, 8))\n",
        "    sns.heatmap(cm, annot=True, fmt='d', cmap='Blues')\n",
        "    plt.ylabel('True Label')\n",
        "    plt.xlabel('Predicted Label')\n",
        "    plt.title('Overall Confusion Matrix')\n",
        "    plt.show()\n",
        "\n",
        "    # 2. Plot ROC curve\n",
        "    if overall_auc:\n",
        "        from sklearn.metrics import roc_curve\n",
        "        fpr, tpr, _ = roc_curve(all_y_true, all_y_score)\n",
        "        plt.figure(figsize=(10, 8))\n",
        "        plt.plot(fpr, tpr, label=f'ROC curve (AUC = {overall_auc:.4f})')\n",
        "        plt.plot([0, 1], [0, 1], 'k--')\n",
        "        plt.xlim([0.0, 1.0])\n",
        "        plt.ylim([0.0, 1.05])\n",
        "        plt.xlabel('False Positive Rate')\n",
        "        plt.ylabel('True Positive Rate')\n",
        "        plt.title('Receiver Operating Characteristic (ROC) Curve')\n",
        "        plt.legend(loc=\"lower right\")\n",
        "        plt.grid(True)\n",
        "        plt.show()\n",
        "\n",
        "    # 3. Plot training history\n",
        "    plt.figure(figsize=(12, 5))\n",
        "\n",
        "    plt.subplot(1, 2, 1)\n",
        "    plt.plot(history['train_loss'], label='Train Loss')\n",
        "    plt.plot(history['val_loss'], label='Validation Loss')\n",
        "    plt.title('Loss over Epochs')\n",
        "    plt.xlabel('Epoch')\n",
        "    plt.ylabel('Loss')\n",
        "    plt.legend()\n",
        "    plt.grid(True)\n",
        "\n",
        "    plt.subplot(1, 2, 2)\n",
        "    plt.plot(history['train_acc'], label='Train Accuracy')\n",
        "    plt.plot(history['val_acc'], label='Validation Accuracy')\n",
        "    plt.title('Accuracy over Epochs')\n",
        "    plt.xlabel('Epoch')\n",
        "    plt.ylabel('Accuracy (%)')\n",
        "    plt.legend()\n",
        "    plt.grid(True)\n",
        "\n",
        "    plt.tight_layout()\n",
        "    plt.show()\n",
        "\n",
        "    # 4. Plot per-fold accuracy\n",
        "    plt.figure(figsize=(10, 6))\n",
        "    fold_accs = [r['accuracy'] * 100 for r in fold_results]\n",
        "    fold_aucs = [r['auc'] * 100 if r['auc'] else 0 for r in fold_results]\n",
        "\n",
        "    x = np.arange(len(fold_accs))\n",
        "    width = 0.35\n",
        "\n",
        "    plt.bar(x - width/2, fold_accs, width, label='Accuracy')\n",
        "    plt.bar(x + width/2, fold_aucs, width, label='AUC')\n",
        "\n",
        "    plt.axhline(y=overall_accuracy*100, color='r', linestyle='-', label=f'Overall Acc: {overall_accuracy*100:.2f}%')\n",
        "\n",
        "    plt.xlabel('Fold')\n",
        "    plt.ylabel('Score (%)')\n",
        "    plt.title('Performance Metrics by Fold')\n",
        "    plt.xticks(x, [f'Fold {i+1}' for i in range(len(fold_accs))])\n",
        "    plt.legend()\n",
        "    plt.grid(True, axis='y')\n",
        "    plt.show()\n",
        "\n",
        "    return {\n",
        "        'overall_accuracy': overall_accuracy,\n",
        "        'overall_auc': overall_auc,\n",
        "        'fold_results': fold_results,\n",
        "        'history': history\n",
        "    }\n",
        "\n",
        "# -------------------- Main -------------------- #\n",
        "\n",
        "if __name__ == \"__main__\":\n",
        "    # Set random seeds for reproducibility\n",
        "    torch.manual_seed(42)\n",
        "    np.random.seed(42)\n",
        "    torch.backends.cudnn.deterministic = True\n",
        "    torch.backends.cudnn.benchmark = False\n",
        "\n",
        "    csv_path = \"/kaggle/working/synthetic_dataset.csv\"\n",
        "\n",
        "    dataset = BrainRegionDataset(csv_path=csv_path)\n",
        "\n",
        "    print(f\"Final dataset size: {len(dataset)} samples\")\n",
        "\n",
        "    # Training parameters\n",
        "    results = train_and_evaluate(\n",
        "        dataset=dataset,\n",
        "        n_splits=5,  # 5-fold cross validation\n",
        "        batch_size=8,\n",
        "        epochs=50,\n",
        "        learning_rate=0.0003,\n",
        "        weight_decay=1e-4,\n",
        "        patience=10\n",
        "    )\n",
        "\n",
        "    print(f\"Best overall accuracy: {results['overall_accuracy']*100:.2f}%\")\n",
        "    if results['overall_auc']:\n",
        "        print(f\"Best overall AUC: {results['overall_auc']:.4f}\")"
      ],
      "metadata": {
        "trusted": true,
        "execution": {
          "iopub.status.busy": "2025-05-11T02:42:27.467772Z",
          "iopub.execute_input": "2025-05-11T02:42:27.468298Z",
          "iopub.status.idle": "2025-05-11T03:38:44.515573Z",
          "shell.execute_reply.started": "2025-05-11T02:42:27.468266Z",
          "shell.execute_reply": "2025-05-11T03:38:44.514964Z"
        },
        "id": "KgVOn504fkiW",
        "outputId": "d4d41fc1-4f7c-44fb-e75e-607f2f0f6674"
      },
      "outputs": [
        {
          "name": "stderr",
          "text": "/usr/local/lib/python3.11/dist-packages/torch/optim/lr_scheduler.py:62: UserWarning: The verbose parameter is deprecated. Please use get_last_lr() to access the learning rate.\n  warnings.warn(\n",
          "output_type": "stream"
        },
        {
          "name": "stdout",
          "text": "Using device: cuda\nLoaded 200 samples\nClass distribution: {0: 100, 1: 100}\nFinal dataset size: 200 samples\n\n==================== Fold 1/5 ====================\nTraining samples: 160, Test samples: 40\n\nEpoch 1/50\n",
          "output_type": "stream"
        },
        {
          "name": "stderr",
          "text": "Training: 100%|██████████| 20/20 [00:10<00:00,  1.82it/s]\nEvaluating: 100%|██████████| 5/5 [00:02<00:00,  1.92it/s]\n",
          "output_type": "stream"
        },
        {
          "name": "stdout",
          "text": "Train Loss: 0.7035 | Train Acc: 52.50%\nVal Loss: 0.6923 | Val Acc: 50.00%\n\nEpoch 2/50\n",
          "output_type": "stream"
        },
        {
          "name": "stderr",
          "text": "Training: 100%|██████████| 20/20 [00:10<00:00,  1.84it/s]\nEvaluating: 100%|██████████| 5/5 [00:02<00:00,  1.86it/s]\n",
          "output_type": "stream"
        },
        {
          "name": "stdout",
          "text": "Train Loss: 0.7568 | Train Acc: 48.75%\nVal Loss: 0.6885 | Val Acc: 52.50%\n\nEpoch 3/50\n",
          "output_type": "stream"
        },
        {
          "name": "stderr",
          "text": "Training: 100%|██████████| 20/20 [00:10<00:00,  1.83it/s]\nEvaluating: 100%|██████████| 5/5 [00:02<00:00,  1.93it/s]\n",
          "output_type": "stream"
        },
        {
          "name": "stdout",
          "text": "Train Loss: 0.6876 | Train Acc: 56.88%\nVal Loss: 0.6911 | Val Acc: 45.00%\n\nEpoch 4/50\n",
          "output_type": "stream"
        },
        {
          "name": "stderr",
          "text": "Training: 100%|██████████| 20/20 [00:10<00:00,  1.82it/s]\nEvaluating: 100%|██████████| 5/5 [00:02<00:00,  1.93it/s]\n",
          "output_type": "stream"
        },
        {
          "name": "stdout",
          "text": "Train Loss: 0.6911 | Train Acc: 53.75%\nVal Loss: 0.6878 | Val Acc: 50.00%\n\nEpoch 5/50\n",
          "output_type": "stream"
        },
        {
          "name": "stderr",
          "text": "Training: 100%|██████████| 20/20 [00:10<00:00,  1.84it/s]\nEvaluating: 100%|██████████| 5/5 [00:02<00:00,  1.93it/s]\n",
          "output_type": "stream"
        },
        {
          "name": "stdout",
          "text": "Train Loss: 0.6982 | Train Acc: 53.75%\nVal Loss: 0.6876 | Val Acc: 52.50%\n\nEpoch 6/50\n",
          "output_type": "stream"
        },
        {
          "name": "stderr",
          "text": "Training: 100%|██████████| 20/20 [00:10<00:00,  1.82it/s]\nEvaluating: 100%|██████████| 5/5 [00:02<00:00,  1.96it/s]\n",
          "output_type": "stream"
        },
        {
          "name": "stdout",
          "text": "Train Loss: 0.7169 | Train Acc: 52.50%\nVal Loss: 0.6827 | Val Acc: 65.00%\n\nEpoch 7/50\n",
          "output_type": "stream"
        },
        {
          "name": "stderr",
          "text": "Training: 100%|██████████| 20/20 [00:10<00:00,  1.83it/s]\nEvaluating: 100%|██████████| 5/5 [00:02<00:00,  1.90it/s]\n",
          "output_type": "stream"
        },
        {
          "name": "stdout",
          "text": "Train Loss: 0.7150 | Train Acc: 52.50%\nVal Loss: 0.6769 | Val Acc: 65.00%\n\nEpoch 8/50\n",
          "output_type": "stream"
        },
        {
          "name": "stderr",
          "text": "Training: 100%|██████████| 20/20 [00:10<00:00,  1.84it/s]\nEvaluating: 100%|██████████| 5/5 [00:02<00:00,  1.91it/s]\n",
          "output_type": "stream"
        },
        {
          "name": "stdout",
          "text": "Train Loss: 0.7320 | Train Acc: 52.50%\nVal Loss: 0.6725 | Val Acc: 60.00%\n\nEpoch 9/50\n",
          "output_type": "stream"
        },
        {
          "name": "stderr",
          "text": "Training: 100%|██████████| 20/20 [00:10<00:00,  1.82it/s]\nEvaluating: 100%|██████████| 5/5 [00:02<00:00,  1.92it/s]\n",
          "output_type": "stream"
        },
        {
          "name": "stdout",
          "text": "Train Loss: 0.7385 | Train Acc: 48.75%\nVal Loss: 0.6680 | Val Acc: 57.50%\n\nEpoch 10/50\n",
          "output_type": "stream"
        },
        {
          "name": "stderr",
          "text": "Training: 100%|██████████| 20/20 [00:10<00:00,  1.82it/s]\nEvaluating: 100%|██████████| 5/5 [00:02<00:00,  1.93it/s]\n",
          "output_type": "stream"
        },
        {
          "name": "stdout",
          "text": "Train Loss: 0.6999 | Train Acc: 58.12%\nVal Loss: 0.6671 | Val Acc: 60.00%\n\nEpoch 11/50\n",
          "output_type": "stream"
        },
        {
          "name": "stderr",
          "text": "Training: 100%|██████████| 20/20 [00:10<00:00,  1.84it/s]\nEvaluating: 100%|██████████| 5/5 [00:02<00:00,  1.93it/s]\n",
          "output_type": "stream"
        },
        {
          "name": "stdout",
          "text": "Train Loss: 0.7040 | Train Acc: 52.50%\nVal Loss: 0.6632 | Val Acc: 67.50%\n\nEpoch 12/50\n",
          "output_type": "stream"
        },
        {
          "name": "stderr",
          "text": "Training: 100%|██████████| 20/20 [00:11<00:00,  1.81it/s]\nEvaluating: 100%|██████████| 5/5 [00:02<00:00,  1.94it/s]\n",
          "output_type": "stream"
        },
        {
          "name": "stdout",
          "text": "Train Loss: 0.6665 | Train Acc: 59.38%\nVal Loss: 0.6603 | Val Acc: 67.50%\n\nEpoch 13/50\n",
          "output_type": "stream"
        },
        {
          "name": "stderr",
          "text": "Training: 100%|██████████| 20/20 [00:10<00:00,  1.84it/s]\nEvaluating: 100%|██████████| 5/5 [00:02<00:00,  1.96it/s]\n",
          "output_type": "stream"
        },
        {
          "name": "stdout",
          "text": "Train Loss: 0.6666 | Train Acc: 58.75%\nVal Loss: 0.6599 | Val Acc: 62.50%\n\nEpoch 14/50\n",
          "output_type": "stream"
        },
        {
          "name": "stderr",
          "text": "Training: 100%|██████████| 20/20 [00:11<00:00,  1.81it/s]\nEvaluating: 100%|██████████| 5/5 [00:02<00:00,  1.92it/s]\n",
          "output_type": "stream"
        },
        {
          "name": "stdout",
          "text": "Train Loss: 0.6925 | Train Acc: 52.50%\nVal Loss: 0.6536 | Val Acc: 62.50%\n\nEpoch 15/50\n",
          "output_type": "stream"
        },
        {
          "name": "stderr",
          "text": "Training: 100%|██████████| 20/20 [00:10<00:00,  1.84it/s]\nEvaluating: 100%|██████████| 5/5 [00:02<00:00,  1.94it/s]\n",
          "output_type": "stream"
        },
        {
          "name": "stdout",
          "text": "Train Loss: 0.6836 | Train Acc: 57.50%\nVal Loss: 0.6573 | Val Acc: 65.00%\n\nEpoch 16/50\n",
          "output_type": "stream"
        },
        {
          "name": "stderr",
          "text": "Training: 100%|██████████| 20/20 [00:10<00:00,  1.82it/s]\nEvaluating: 100%|██████████| 5/5 [00:02<00:00,  1.92it/s]\n",
          "output_type": "stream"
        },
        {
          "name": "stdout",
          "text": "Train Loss: 0.6981 | Train Acc: 58.12%\nVal Loss: 0.6368 | Val Acc: 67.50%\n\nEpoch 17/50\n",
          "output_type": "stream"
        },
        {
          "name": "stderr",
          "text": "Training: 100%|██████████| 20/20 [00:10<00:00,  1.84it/s]\nEvaluating: 100%|██████████| 5/5 [00:02<00:00,  1.97it/s]\n",
          "output_type": "stream"
        },
        {
          "name": "stdout",
          "text": "Train Loss: 0.6569 | Train Acc: 63.12%\nVal Loss: 0.6350 | Val Acc: 65.00%\n\nEpoch 18/50\n",
          "output_type": "stream"
        },
        {
          "name": "stderr",
          "text": "Training: 100%|██████████| 20/20 [00:10<00:00,  1.85it/s]\nEvaluating: 100%|██████████| 5/5 [00:02<00:00,  1.94it/s]\n",
          "output_type": "stream"
        },
        {
          "name": "stdout",
          "text": "Train Loss: 0.6504 | Train Acc: 63.75%\nVal Loss: 0.6327 | Val Acc: 62.50%\n\nEpoch 19/50\n",
          "output_type": "stream"
        },
        {
          "name": "stderr",
          "text": "Training: 100%|██████████| 20/20 [00:10<00:00,  1.83it/s]\nEvaluating: 100%|██████████| 5/5 [00:02<00:00,  1.93it/s]\n",
          "output_type": "stream"
        },
        {
          "name": "stdout",
          "text": "Train Loss: 0.6254 | Train Acc: 63.12%\nVal Loss: 0.6209 | Val Acc: 62.50%\n\nEpoch 20/50\n",
          "output_type": "stream"
        },
        {
          "name": "stderr",
          "text": "Training: 100%|██████████| 20/20 [00:10<00:00,  1.85it/s]\nEvaluating: 100%|██████████| 5/5 [00:02<00:00,  1.90it/s]\n",
          "output_type": "stream"
        },
        {
          "name": "stdout",
          "text": "Train Loss: 0.6268 | Train Acc: 65.00%\nVal Loss: 0.6032 | Val Acc: 65.00%\n\nEpoch 21/50\n",
          "output_type": "stream"
        },
        {
          "name": "stderr",
          "text": "Training: 100%|██████████| 20/20 [00:11<00:00,  1.79it/s]\nEvaluating: 100%|██████████| 5/5 [00:02<00:00,  1.87it/s]\n",
          "output_type": "stream"
        },
        {
          "name": "stdout",
          "text": "Train Loss: 0.6350 | Train Acc: 66.25%\nVal Loss: 0.5985 | Val Acc: 67.50%\n\nEpoch 22/50\n",
          "output_type": "stream"
        },
        {
          "name": "stderr",
          "text": "Training: 100%|██████████| 20/20 [00:11<00:00,  1.81it/s]\nEvaluating: 100%|██████████| 5/5 [00:02<00:00,  1.91it/s]\n",
          "output_type": "stream"
        },
        {
          "name": "stdout",
          "text": "Train Loss: 0.6426 | Train Acc: 65.62%\nVal Loss: 0.5896 | Val Acc: 70.00%\n\nEpoch 23/50\n",
          "output_type": "stream"
        },
        {
          "name": "stderr",
          "text": "Training: 100%|██████████| 20/20 [00:10<00:00,  1.84it/s]\nEvaluating: 100%|██████████| 5/5 [00:02<00:00,  1.93it/s]\n",
          "output_type": "stream"
        },
        {
          "name": "stdout",
          "text": "Train Loss: 0.6003 | Train Acc: 68.75%\nVal Loss: 0.5722 | Val Acc: 67.50%\n\nEpoch 24/50\n",
          "output_type": "stream"
        },
        {
          "name": "stderr",
          "text": "Training: 100%|██████████| 20/20 [00:11<00:00,  1.78it/s]\nEvaluating: 100%|██████████| 5/5 [00:02<00:00,  1.94it/s]\n",
          "output_type": "stream"
        },
        {
          "name": "stdout",
          "text": "Train Loss: 0.5664 | Train Acc: 75.62%\nVal Loss: 0.5708 | Val Acc: 62.50%\n\nEpoch 25/50\n",
          "output_type": "stream"
        },
        {
          "name": "stderr",
          "text": "Training: 100%|██████████| 20/20 [00:11<00:00,  1.81it/s]\nEvaluating: 100%|██████████| 5/5 [00:02<00:00,  1.90it/s]\n",
          "output_type": "stream"
        },
        {
          "name": "stdout",
          "text": "Train Loss: 0.6092 | Train Acc: 66.88%\nVal Loss: 0.5582 | Val Acc: 65.00%\n\nEpoch 26/50\n",
          "output_type": "stream"
        },
        {
          "name": "stderr",
          "text": "Training: 100%|██████████| 20/20 [00:11<00:00,  1.80it/s]\nEvaluating: 100%|██████████| 5/5 [00:02<00:00,  1.94it/s]\n",
          "output_type": "stream"
        },
        {
          "name": "stdout",
          "text": "Train Loss: 0.5638 | Train Acc: 76.25%\nVal Loss: 0.5526 | Val Acc: 70.00%\n\nEpoch 27/50\n",
          "output_type": "stream"
        },
        {
          "name": "stderr",
          "text": "Training: 100%|██████████| 20/20 [00:10<00:00,  1.85it/s]\nEvaluating: 100%|██████████| 5/5 [00:02<00:00,  1.91it/s]\n",
          "output_type": "stream"
        },
        {
          "name": "stdout",
          "text": "Train Loss: 0.5601 | Train Acc: 72.50%\nVal Loss: 0.5624 | Val Acc: 75.00%\n\nEpoch 28/50\n",
          "output_type": "stream"
        },
        {
          "name": "stderr",
          "text": "Training: 100%|██████████| 20/20 [00:11<00:00,  1.78it/s]\nEvaluating: 100%|██████████| 5/5 [00:02<00:00,  1.90it/s]\n",
          "output_type": "stream"
        },
        {
          "name": "stdout",
          "text": "Train Loss: 0.5170 | Train Acc: 78.12%\nVal Loss: 0.5727 | Val Acc: 67.50%\n\nEpoch 29/50\n",
          "output_type": "stream"
        },
        {
          "name": "stderr",
          "text": "Training: 100%|██████████| 20/20 [00:11<00:00,  1.81it/s]\nEvaluating: 100%|██████████| 5/5 [00:02<00:00,  1.89it/s]\n",
          "output_type": "stream"
        },
        {
          "name": "stdout",
          "text": "Train Loss: 0.5586 | Train Acc: 72.50%\nVal Loss: 0.5541 | Val Acc: 67.50%\n\nEpoch 30/50\n",
          "output_type": "stream"
        },
        {
          "name": "stderr",
          "text": "Training: 100%|██████████| 20/20 [00:11<00:00,  1.81it/s]\nEvaluating: 100%|██████████| 5/5 [00:02<00:00,  1.96it/s]\n",
          "output_type": "stream"
        },
        {
          "name": "stdout",
          "text": "Train Loss: 0.5293 | Train Acc: 75.62%\nVal Loss: 0.5419 | Val Acc: 70.00%\n\nEpoch 31/50\n",
          "output_type": "stream"
        },
        {
          "name": "stderr",
          "text": "Training: 100%|██████████| 20/20 [00:10<00:00,  1.85it/s]\nEvaluating: 100%|██████████| 5/5 [00:02<00:00,  1.99it/s]\n",
          "output_type": "stream"
        },
        {
          "name": "stdout",
          "text": "Train Loss: 0.5205 | Train Acc: 78.12%\nVal Loss: 0.5292 | Val Acc: 72.50%\n\nEpoch 32/50\n",
          "output_type": "stream"
        },
        {
          "name": "stderr",
          "text": "Training: 100%|██████████| 20/20 [00:10<00:00,  1.88it/s]\nEvaluating: 100%|██████████| 5/5 [00:02<00:00,  1.96it/s]\n",
          "output_type": "stream"
        },
        {
          "name": "stdout",
          "text": "Train Loss: 0.5259 | Train Acc: 75.62%\nVal Loss: 0.5271 | Val Acc: 72.50%\n\nEpoch 33/50\n",
          "output_type": "stream"
        },
        {
          "name": "stderr",
          "text": "Training: 100%|██████████| 20/20 [00:10<00:00,  1.85it/s]\nEvaluating: 100%|██████████| 5/5 [00:02<00:00,  2.00it/s]\n",
          "output_type": "stream"
        },
        {
          "name": "stdout",
          "text": "Train Loss: 0.5052 | Train Acc: 75.62%\nVal Loss: 0.5572 | Val Acc: 65.00%\n\nEpoch 34/50\n",
          "output_type": "stream"
        },
        {
          "name": "stderr",
          "text": "Training: 100%|██████████| 20/20 [00:10<00:00,  1.86it/s]\nEvaluating: 100%|██████████| 5/5 [00:02<00:00,  1.98it/s]\n",
          "output_type": "stream"
        },
        {
          "name": "stdout",
          "text": "Train Loss: 0.4850 | Train Acc: 80.00%\nVal Loss: 0.5366 | Val Acc: 67.50%\n\nEpoch 35/50\n",
          "output_type": "stream"
        },
        {
          "name": "stderr",
          "text": "Training: 100%|██████████| 20/20 [00:10<00:00,  1.83it/s]\nEvaluating: 100%|██████████| 5/5 [00:02<00:00,  1.98it/s]\n",
          "output_type": "stream"
        },
        {
          "name": "stdout",
          "text": "Train Loss: 0.5067 | Train Acc: 78.12%\nVal Loss: 0.5451 | Val Acc: 62.50%\n\nEpoch 36/50\n",
          "output_type": "stream"
        },
        {
          "name": "stderr",
          "text": "Training: 100%|██████████| 20/20 [00:10<00:00,  1.86it/s]\nEvaluating: 100%|██████████| 5/5 [00:02<00:00,  1.96it/s]\n",
          "output_type": "stream"
        },
        {
          "name": "stdout",
          "text": "Train Loss: 0.5050 | Train Acc: 76.88%\nVal Loss: 0.5493 | Val Acc: 70.00%\n\nEpoch 37/50\n",
          "output_type": "stream"
        },
        {
          "name": "stderr",
          "text": "Training: 100%|██████████| 20/20 [00:10<00:00,  1.83it/s]\nEvaluating: 100%|██████████| 5/5 [00:02<00:00,  1.96it/s]\n",
          "output_type": "stream"
        },
        {
          "name": "stdout",
          "text": "Train Loss: 0.4644 | Train Acc: 83.75%\nVal Loss: 0.5370 | Val Acc: 67.50%\n\nEpoch 38/50\n",
          "output_type": "stream"
        },
        {
          "name": "stderr",
          "text": "Training: 100%|██████████| 20/20 [00:10<00:00,  1.89it/s]\nEvaluating: 100%|██████████| 5/5 [00:02<00:00,  1.99it/s]\n",
          "output_type": "stream"
        },
        {
          "name": "stdout",
          "text": "Train Loss: 0.4894 | Train Acc: 81.25%\nVal Loss: 0.5079 | Val Acc: 70.00%\n\nEpoch 39/50\n",
          "output_type": "stream"
        },
        {
          "name": "stderr",
          "text": "Training: 100%|██████████| 20/20 [00:10<00:00,  1.83it/s]\nEvaluating: 100%|██████████| 5/5 [00:02<00:00,  1.93it/s]\n",
          "output_type": "stream"
        },
        {
          "name": "stdout",
          "text": "Train Loss: 0.4718 | Train Acc: 79.38%\nVal Loss: 0.5267 | Val Acc: 70.00%\n\nEpoch 40/50\n",
          "output_type": "stream"
        },
        {
          "name": "stderr",
          "text": "Training: 100%|██████████| 20/20 [00:10<00:00,  1.83it/s]\nEvaluating: 100%|██████████| 5/5 [00:02<00:00,  1.93it/s]\n",
          "output_type": "stream"
        },
        {
          "name": "stdout",
          "text": "Train Loss: 0.4941 | Train Acc: 80.62%\nVal Loss: 0.4946 | Val Acc: 67.50%\n\nEpoch 41/50\n",
          "output_type": "stream"
        },
        {
          "name": "stderr",
          "text": "Training: 100%|██████████| 20/20 [00:10<00:00,  1.84it/s]\nEvaluating: 100%|██████████| 5/5 [00:02<00:00,  1.93it/s]\n",
          "output_type": "stream"
        },
        {
          "name": "stdout",
          "text": "Train Loss: 0.4548 | Train Acc: 85.00%\nVal Loss: 0.4993 | Val Acc: 75.00%\n\nEpoch 42/50\n",
          "output_type": "stream"
        },
        {
          "name": "stderr",
          "text": "Training: 100%|██████████| 20/20 [00:11<00:00,  1.81it/s]\nEvaluating: 100%|██████████| 5/5 [00:02<00:00,  1.94it/s]\n",
          "output_type": "stream"
        },
        {
          "name": "stdout",
          "text": "Train Loss: 0.4560 | Train Acc: 80.00%\nVal Loss: 0.5168 | Val Acc: 70.00%\n\nEpoch 43/50\n",
          "output_type": "stream"
        },
        {
          "name": "stderr",
          "text": "Training: 100%|██████████| 20/20 [00:10<00:00,  1.85it/s]\nEvaluating: 100%|██████████| 5/5 [00:02<00:00,  1.94it/s]\n",
          "output_type": "stream"
        },
        {
          "name": "stdout",
          "text": "Train Loss: 0.4907 | Train Acc: 80.62%\nVal Loss: 0.4866 | Val Acc: 67.50%\n\nEpoch 44/50\n",
          "output_type": "stream"
        },
        {
          "name": "stderr",
          "text": "Training: 100%|██████████| 20/20 [00:10<00:00,  1.83it/s]\nEvaluating: 100%|██████████| 5/5 [00:02<00:00,  1.90it/s]\n",
          "output_type": "stream"
        },
        {
          "name": "stdout",
          "text": "Train Loss: 0.4422 | Train Acc: 83.12%\nVal Loss: 0.5465 | Val Acc: 67.50%\n\nEpoch 45/50\n",
          "output_type": "stream"
        },
        {
          "name": "stderr",
          "text": "Training: 100%|██████████| 20/20 [00:10<00:00,  1.83it/s]\nEvaluating: 100%|██████████| 5/5 [00:02<00:00,  1.92it/s]\n",
          "output_type": "stream"
        },
        {
          "name": "stdout",
          "text": "Train Loss: 0.4922 | Train Acc: 79.38%\nVal Loss: 0.4946 | Val Acc: 70.00%\n\nEpoch 46/50\n",
          "output_type": "stream"
        },
        {
          "name": "stderr",
          "text": "Training: 100%|██████████| 20/20 [00:10<00:00,  1.85it/s]\nEvaluating: 100%|██████████| 5/5 [00:02<00:00,  1.88it/s]\n",
          "output_type": "stream"
        },
        {
          "name": "stdout",
          "text": "Train Loss: 0.4408 | Train Acc: 81.88%\nVal Loss: 0.4861 | Val Acc: 75.00%\n\nEpoch 47/50\n",
          "output_type": "stream"
        },
        {
          "name": "stderr",
          "text": "Training: 100%|██████████| 20/20 [00:11<00:00,  1.80it/s]\nEvaluating: 100%|██████████| 5/5 [00:02<00:00,  1.94it/s]\n",
          "output_type": "stream"
        },
        {
          "name": "stdout",
          "text": "Train Loss: 0.4226 | Train Acc: 83.12%\nVal Loss: 0.5350 | Val Acc: 70.00%\n\nEpoch 48/50\n",
          "output_type": "stream"
        },
        {
          "name": "stderr",
          "text": "Training: 100%|██████████| 20/20 [00:11<00:00,  1.81it/s]\nEvaluating: 100%|██████████| 5/5 [00:02<00:00,  1.89it/s]\n",
          "output_type": "stream"
        },
        {
          "name": "stdout",
          "text": "Train Loss: 0.4120 | Train Acc: 85.62%\nVal Loss: 0.4358 | Val Acc: 85.00%\n\nEpoch 49/50\n",
          "output_type": "stream"
        },
        {
          "name": "stderr",
          "text": "Training: 100%|██████████| 20/20 [00:11<00:00,  1.81it/s]\nEvaluating: 100%|██████████| 5/5 [00:02<00:00,  1.96it/s]\n",
          "output_type": "stream"
        },
        {
          "name": "stdout",
          "text": "Train Loss: 0.4782 | Train Acc: 83.75%\nVal Loss: 0.5079 | Val Acc: 70.00%\n\nEpoch 50/50\n",
          "output_type": "stream"
        },
        {
          "name": "stderr",
          "text": "Training: 100%|██████████| 20/20 [00:10<00:00,  1.88it/s]\nEvaluating: 100%|██████████| 5/5 [00:02<00:00,  1.97it/s]\n",
          "output_type": "stream"
        },
        {
          "name": "stdout",
          "text": "Train Loss: 0.4243 | Train Acc: 85.62%\nVal Loss: 0.4417 | Val Acc: 77.50%\n",
          "output_type": "stream"
        },
        {
          "name": "stderr",
          "text": "Evaluating: 100%|██████████| 5/5 [00:02<00:00,  1.94it/s]",
          "output_type": "stream"
        },
        {
          "name": "stdout",
          "text": "\nFinal Evaluation on Test Set:\nAccuracy: 77.50%\n              precision    recall  f1-score   support\n\n         0.0       0.82      0.70      0.76        20\n         1.0       0.74      0.85      0.79        20\n\n    accuracy                           0.78        40\n   macro avg       0.78      0.77      0.77        40\nweighted avg       0.78      0.78      0.77        40\n\nConfusion Matrix:\n [[14  6]\n [ 3 17]]\nROC AUC Score: 0.9025\n",
          "output_type": "stream"
        },
        {
          "name": "stderr",
          "text": "\n",
          "output_type": "stream"
        },
        {
          "output_type": "display_data",
          "data": {
            "text/plain": "<Figure size 800x600 with 1 Axes>",
            "image/png": "[encoded data removed]"
          },
          "metadata": {}
        },
        {
          "name": "stderr",
          "text": "/usr/local/lib/python3.11/dist-packages/torch/optim/lr_scheduler.py:62: UserWarning: The verbose parameter is deprecated. Please use get_last_lr() to access the learning rate.\n  warnings.warn(\n",
          "output_type": "stream"
        },
        {
          "name": "stdout",
          "text": "\n==================== Fold 2/5 ====================\nTraining samples: 160, Test samples: 40\n\nEpoch 1/50\n",
          "output_type": "stream"
        },
        {
          "name": "stderr",
          "text": "Training: 100%|██████████| 20/20 [00:11<00:00,  1.80it/s]\nEvaluating: 100%|██████████| 5/5 [00:02<00:00,  1.95it/s]\n",
          "output_type": "stream"
        },
        {
          "name": "stdout",
          "text": "Train Loss: 0.7687 | Train Acc: 49.38%\nVal Loss: 0.6879 | Val Acc: 50.00%\n\nEpoch 2/50\n",
          "output_type": "stream"
        },
        {
          "name": "stderr",
          "text": "Training: 100%|██████████| 20/20 [00:11<00:00,  1.81it/s]\nEvaluating: 100%|██████████| 5/5 [00:02<00:00,  1.97it/s]\n",
          "output_type": "stream"
        },
        {
          "name": "stdout",
          "text": "Train Loss: 0.7346 | Train Acc: 50.00%\nVal Loss: 0.6791 | Val Acc: 52.50%\n\nEpoch 3/50\n",
          "output_type": "stream"
        },
        {
          "name": "stderr",
          "text": "Training: 100%|██████████| 20/20 [00:11<00:00,  1.80it/s]\nEvaluating: 100%|██████████| 5/5 [00:02<00:00,  1.89it/s]\n",
          "output_type": "stream"
        },
        {
          "name": "stdout",
          "text": "Train Loss: 0.7264 | Train Acc: 53.12%\nVal Loss: 0.6727 | Val Acc: 52.50%\n\nEpoch 4/50\n",
          "output_type": "stream"
        },
        {
          "name": "stderr",
          "text": "Training: 100%|██████████| 20/20 [00:11<00:00,  1.79it/s]\nEvaluating: 100%|██████████| 5/5 [00:02<00:00,  1.96it/s]\n",
          "output_type": "stream"
        },
        {
          "name": "stdout",
          "text": "Train Loss: 0.7472 | Train Acc: 50.62%\nVal Loss: 0.6634 | Val Acc: 50.00%\n\nEpoch 5/50\n",
          "output_type": "stream"
        },
        {
          "name": "stderr",
          "text": "Training: 100%|██████████| 20/20 [00:11<00:00,  1.81it/s]\nEvaluating: 100%|██████████| 5/5 [00:02<00:00,  1.95it/s]\n",
          "output_type": "stream"
        },
        {
          "name": "stdout",
          "text": "Train Loss: 0.6974 | Train Acc: 57.50%\nVal Loss: 0.6512 | Val Acc: 57.50%\n\nEpoch 6/50\n",
          "output_type": "stream"
        },
        {
          "name": "stderr",
          "text": "Training: 100%|██████████| 20/20 [00:11<00:00,  1.80it/s]\nEvaluating: 100%|██████████| 5/5 [00:02<00:00,  1.98it/s]\n",
          "output_type": "stream"
        },
        {
          "name": "stdout",
          "text": "Train Loss: 0.7156 | Train Acc: 54.38%\nVal Loss: 0.6566 | Val Acc: 52.50%\n\nEpoch 7/50\n",
          "output_type": "stream"
        },
        {
          "name": "stderr",
          "text": "Training: 100%|██████████| 20/20 [00:10<00:00,  1.83it/s]\nEvaluating: 100%|██████████| 5/5 [00:02<00:00,  1.99it/s]\n",
          "output_type": "stream"
        },
        {
          "name": "stdout",
          "text": "Train Loss: 0.7362 | Train Acc: 53.12%\nVal Loss: 0.6503 | Val Acc: 67.50%\n\nEpoch 8/50\n",
          "output_type": "stream"
        },
        {
          "name": "stderr",
          "text": "Training: 100%|██████████| 20/20 [00:10<00:00,  1.83it/s]\nEvaluating: 100%|██████████| 5/5 [00:02<00:00,  1.99it/s]\n",
          "output_type": "stream"
        },
        {
          "name": "stdout",
          "text": "Train Loss: 0.6952 | Train Acc: 60.00%\nVal Loss: 0.6431 | Val Acc: 62.50%\n\nEpoch 9/50\n",
          "output_type": "stream"
        },
        {
          "name": "stderr",
          "text": "Training: 100%|██████████| 20/20 [00:10<00:00,  1.85it/s]\nEvaluating: 100%|██████████| 5/5 [00:02<00:00,  1.95it/s]\n",
          "output_type": "stream"
        },
        {
          "name": "stdout",
          "text": "Train Loss: 0.6745 | Train Acc: 56.25%\nVal Loss: 0.6414 | Val Acc: 65.00%\n\nEpoch 10/50\n",
          "output_type": "stream"
        },
        {
          "name": "stderr",
          "text": "Training: 100%|██████████| 20/20 [00:10<00:00,  1.82it/s]\nEvaluating: 100%|██████████| 5/5 [00:02<00:00,  1.92it/s]\n",
          "output_type": "stream"
        },
        {
          "name": "stdout",
          "text": "Train Loss: 0.6909 | Train Acc: 56.88%\nVal Loss: 0.6443 | Val Acc: 62.50%\n\nEpoch 11/50\n",
          "output_type": "stream"
        },
        {
          "name": "stderr",
          "text": "Training: 100%|██████████| 20/20 [00:10<00:00,  1.85it/s]\nEvaluating: 100%|██████████| 5/5 [00:02<00:00,  2.00it/s]\n",
          "output_type": "stream"
        },
        {
          "name": "stdout",
          "text": "Train Loss: 0.7086 | Train Acc: 54.38%\nVal Loss: 0.6360 | Val Acc: 62.50%\n\nEpoch 12/50\n",
          "output_type": "stream"
        },
        {
          "name": "stderr",
          "text": "Training: 100%|██████████| 20/20 [00:10<00:00,  1.83it/s]\nEvaluating: 100%|██████████| 5/5 [00:02<00:00,  1.99it/s]\n",
          "output_type": "stream"
        },
        {
          "name": "stdout",
          "text": "Train Loss: 0.7012 | Train Acc: 58.12%\nVal Loss: 0.6373 | Val Acc: 62.50%\n\nEpoch 13/50\n",
          "output_type": "stream"
        },
        {
          "name": "stderr",
          "text": "Training: 100%|██████████| 20/20 [00:10<00:00,  1.82it/s]\nEvaluating: 100%|██████████| 5/5 [00:02<00:00,  1.93it/s]\n",
          "output_type": "stream"
        },
        {
          "name": "stdout",
          "text": "Train Loss: 0.6463 | Train Acc: 63.12%\nVal Loss: 0.6323 | Val Acc: 62.50%\n\nEpoch 14/50\n",
          "output_type": "stream"
        },
        {
          "name": "stderr",
          "text": "Training: 100%|██████████| 20/20 [00:11<00:00,  1.80it/s]\nEvaluating: 100%|██████████| 5/5 [00:02<00:00,  1.96it/s]\n",
          "output_type": "stream"
        },
        {
          "name": "stdout",
          "text": "Train Loss: 0.6643 | Train Acc: 59.38%\nVal Loss: 0.6070 | Val Acc: 75.00%\n\nEpoch 15/50\n",
          "output_type": "stream"
        },
        {
          "name": "stderr",
          "text": "Training: 100%|██████████| 20/20 [00:11<00:00,  1.78it/s]\nEvaluating: 100%|██████████| 5/5 [00:02<00:00,  1.95it/s]\n",
          "output_type": "stream"
        },
        {
          "name": "stdout",
          "text": "Train Loss: 0.6353 | Train Acc: 62.50%\nVal Loss: 0.5909 | Val Acc: 77.50%\n\nEpoch 16/50\n",
          "output_type": "stream"
        },
        {
          "name": "stderr",
          "text": "Training: 100%|██████████| 20/20 [00:11<00:00,  1.81it/s]\nEvaluating: 100%|██████████| 5/5 [00:02<00:00,  1.99it/s]\n",
          "output_type": "stream"
        },
        {
          "name": "stdout",
          "text": "Train Loss: 0.6169 | Train Acc: 65.00%\nVal Loss: 0.5880 | Val Acc: 67.50%\n\nEpoch 17/50\n",
          "output_type": "stream"
        },
        {
          "name": "stderr",
          "text": "Training: 100%|██████████| 20/20 [00:10<00:00,  1.82it/s]\nEvaluating: 100%|██████████| 5/5 [00:02<00:00,  1.93it/s]\n",
          "output_type": "stream"
        },
        {
          "name": "stdout",
          "text": "Train Loss: 0.6148 | Train Acc: 61.88%\nVal Loss: 0.5525 | Val Acc: 77.50%\n\nEpoch 18/50\n",
          "output_type": "stream"
        },
        {
          "name": "stderr",
          "text": "Training: 100%|██████████| 20/20 [00:10<00:00,  1.84it/s]\nEvaluating: 100%|██████████| 5/5 [00:02<00:00,  1.97it/s]\n",
          "output_type": "stream"
        },
        {
          "name": "stdout",
          "text": "Train Loss: 0.5660 | Train Acc: 71.88%\nVal Loss: 0.5424 | Val Acc: 85.00%\n\nEpoch 19/50\n",
          "output_type": "stream"
        },
        {
          "name": "stderr",
          "text": "Training: 100%|██████████| 20/20 [00:10<00:00,  1.83it/s]\nEvaluating: 100%|██████████| 5/5 [00:02<00:00,  1.96it/s]\n",
          "output_type": "stream"
        },
        {
          "name": "stdout",
          "text": "Train Loss: 0.6266 | Train Acc: 62.50%\nVal Loss: 0.5327 | Val Acc: 85.00%\n\nEpoch 20/50\n",
          "output_type": "stream"
        },
        {
          "name": "stderr",
          "text": "Training: 100%|██████████| 20/20 [00:11<00:00,  1.80it/s]\nEvaluating: 100%|██████████| 5/5 [00:02<00:00,  1.94it/s]\n",
          "output_type": "stream"
        },
        {
          "name": "stdout",
          "text": "Train Loss: 0.6212 | Train Acc: 66.25%\nVal Loss: 0.5064 | Val Acc: 87.50%\n\nEpoch 21/50\n",
          "output_type": "stream"
        },
        {
          "name": "stderr",
          "text": "Training: 100%|██████████| 20/20 [00:11<00:00,  1.79it/s]\nEvaluating: 100%|██████████| 5/5 [00:02<00:00,  1.94it/s]\n",
          "output_type": "stream"
        },
        {
          "name": "stdout",
          "text": "Train Loss: 0.5620 | Train Acc: 70.62%\nVal Loss: 0.5141 | Val Acc: 90.00%\n\nEpoch 22/50\n",
          "output_type": "stream"
        },
        {
          "name": "stderr",
          "text": "Training: 100%|██████████| 20/20 [00:11<00:00,  1.77it/s]\nEvaluating: 100%|██████████| 5/5 [00:02<00:00,  1.95it/s]\n",
          "output_type": "stream"
        },
        {
          "name": "stdout",
          "text": "Train Loss: 0.5538 | Train Acc: 70.62%\nVal Loss: 0.4737 | Val Acc: 85.00%\n\nEpoch 23/50\n",
          "output_type": "stream"
        },
        {
          "name": "stderr",
          "text": "Training: 100%|██████████| 20/20 [00:11<00:00,  1.81it/s]\nEvaluating: 100%|██████████| 5/5 [00:02<00:00,  2.01it/s]\n",
          "output_type": "stream"
        },
        {
          "name": "stdout",
          "text": "Train Loss: 0.5408 | Train Acc: 71.88%\nVal Loss: 0.4835 | Val Acc: 87.50%\n\nEpoch 24/50\n",
          "output_type": "stream"
        },
        {
          "name": "stderr",
          "text": "Training: 100%|██████████| 20/20 [00:10<00:00,  1.86it/s]\nEvaluating: 100%|██████████| 5/5 [00:02<00:00,  1.93it/s]\n",
          "output_type": "stream"
        },
        {
          "name": "stdout",
          "text": "Train Loss: 0.5304 | Train Acc: 75.62%\nVal Loss: 0.4427 | Val Acc: 90.00%\n\nEpoch 25/50\n",
          "output_type": "stream"
        },
        {
          "name": "stderr",
          "text": "Training: 100%|██████████| 20/20 [00:10<00:00,  1.83it/s]\nEvaluating: 100%|██████████| 5/5 [00:02<00:00,  1.99it/s]\n",
          "output_type": "stream"
        },
        {
          "name": "stdout",
          "text": "Train Loss: 0.5314 | Train Acc: 78.12%\nVal Loss: 0.4751 | Val Acc: 85.00%\n\nEpoch 26/50\n",
          "output_type": "stream"
        },
        {
          "name": "stderr",
          "text": "Training: 100%|██████████| 20/20 [00:10<00:00,  1.86it/s]\nEvaluating: 100%|██████████| 5/5 [00:02<00:00,  1.93it/s]\n",
          "output_type": "stream"
        },
        {
          "name": "stdout",
          "text": "Train Loss: 0.4681 | Train Acc: 80.62%\nVal Loss: 0.4358 | Val Acc: 90.00%\n\nEpoch 27/50\n",
          "output_type": "stream"
        },
        {
          "name": "stderr",
          "text": "Training: 100%|██████████| 20/20 [00:11<00:00,  1.81it/s]\nEvaluating: 100%|██████████| 5/5 [00:02<00:00,  1.95it/s]\n",
          "output_type": "stream"
        },
        {
          "name": "stdout",
          "text": "Train Loss: 0.5023 | Train Acc: 76.88%\nVal Loss: 0.4327 | Val Acc: 82.50%\n\nEpoch 28/50\n",
          "output_type": "stream"
        },
        {
          "name": "stderr",
          "text": "Training: 100%|██████████| 20/20 [00:11<00:00,  1.81it/s]\nEvaluating: 100%|██████████| 5/5 [00:02<00:00,  1.96it/s]\n",
          "output_type": "stream"
        },
        {
          "name": "stdout",
          "text": "Train Loss: 0.4890 | Train Acc: 76.25%\nVal Loss: 0.4038 | Val Acc: 92.50%\n\nEpoch 29/50\n",
          "output_type": "stream"
        },
        {
          "name": "stderr",
          "text": "Training: 100%|██████████| 20/20 [00:11<00:00,  1.79it/s]\nEvaluating: 100%|██████████| 5/5 [00:02<00:00,  1.94it/s]\n",
          "output_type": "stream"
        },
        {
          "name": "stdout",
          "text": "Train Loss: 0.4370 | Train Acc: 85.62%\nVal Loss: 0.3908 | Val Acc: 95.00%\n\nEpoch 30/50\n",
          "output_type": "stream"
        },
        {
          "name": "stderr",
          "text": "Training: 100%|██████████| 20/20 [00:11<00:00,  1.81it/s]\nEvaluating: 100%|██████████| 5/5 [00:02<00:00,  1.95it/s]\n",
          "output_type": "stream"
        },
        {
          "name": "stdout",
          "text": "Train Loss: 0.4594 | Train Acc: 78.12%\nVal Loss: 0.3944 | Val Acc: 87.50%\n\nEpoch 31/50\n",
          "output_type": "stream"
        },
        {
          "name": "stderr",
          "text": "Training: 100%|██████████| 20/20 [00:11<00:00,  1.81it/s]\nEvaluating: 100%|██████████| 5/5 [00:02<00:00,  1.91it/s]\n",
          "output_type": "stream"
        },
        {
          "name": "stdout",
          "text": "Train Loss: 0.4396 | Train Acc: 82.50%\nVal Loss: 0.4065 | Val Acc: 90.00%\n\nEpoch 32/50\n",
          "output_type": "stream"
        },
        {
          "name": "stderr",
          "text": "Training: 100%|██████████| 20/20 [00:11<00:00,  1.80it/s]\nEvaluating: 100%|██████████| 5/5 [00:02<00:00,  1.95it/s]\n",
          "output_type": "stream"
        },
        {
          "name": "stdout",
          "text": "Train Loss: 0.4580 | Train Acc: 79.38%\nVal Loss: 0.4061 | Val Acc: 87.50%\n\nEpoch 33/50\n",
          "output_type": "stream"
        },
        {
          "name": "stderr",
          "text": "Training: 100%|██████████| 20/20 [00:11<00:00,  1.80it/s]\nEvaluating: 100%|██████████| 5/5 [00:02<00:00,  1.90it/s]\n",
          "output_type": "stream"
        },
        {
          "name": "stdout",
          "text": "Train Loss: 0.4488 | Train Acc: 80.00%\nVal Loss: 0.3755 | Val Acc: 85.00%\n\nEpoch 34/50\n",
          "output_type": "stream"
        },
        {
          "name": "stderr",
          "text": "Training: 100%|██████████| 20/20 [00:11<00:00,  1.81it/s]\nEvaluating: 100%|██████████| 5/5 [00:02<00:00,  1.97it/s]\n",
          "output_type": "stream"
        },
        {
          "name": "stdout",
          "text": "Train Loss: 0.4449 | Train Acc: 80.62%\nVal Loss: 0.3820 | Val Acc: 82.50%\n\nEpoch 35/50\n",
          "output_type": "stream"
        },
        {
          "name": "stderr",
          "text": "Training: 100%|██████████| 20/20 [00:11<00:00,  1.80it/s]\nEvaluating: 100%|██████████| 5/5 [00:02<00:00,  1.96it/s]\n",
          "output_type": "stream"
        },
        {
          "name": "stdout",
          "text": "Train Loss: 0.4284 | Train Acc: 81.88%\nVal Loss: 0.4132 | Val Acc: 80.00%\n\nEpoch 36/50\n",
          "output_type": "stream"
        },
        {
          "name": "stderr",
          "text": "Training: 100%|██████████| 20/20 [00:11<00:00,  1.79it/s]\nEvaluating: 100%|██████████| 5/5 [00:02<00:00,  1.96it/s]\n",
          "output_type": "stream"
        },
        {
          "name": "stdout",
          "text": "Train Loss: 0.3977 | Train Acc: 85.00%\nVal Loss: 0.4063 | Val Acc: 82.50%\n\nEpoch 37/50\n",
          "output_type": "stream"
        },
        {
          "name": "stderr",
          "text": "Training: 100%|██████████| 20/20 [00:10<00:00,  1.85it/s]\nEvaluating: 100%|██████████| 5/5 [00:02<00:00,  1.94it/s]\n",
          "output_type": "stream"
        },
        {
          "name": "stdout",
          "text": "Train Loss: 0.3981 | Train Acc: 85.62%\nVal Loss: 0.4268 | Val Acc: 82.50%\n\nEpoch 38/50\n",
          "output_type": "stream"
        },
        {
          "name": "stderr",
          "text": "Training: 100%|██████████| 20/20 [00:11<00:00,  1.80it/s]\nEvaluating: 100%|██████████| 5/5 [00:02<00:00,  1.98it/s]\n",
          "output_type": "stream"
        },
        {
          "name": "stdout",
          "text": "Train Loss: 0.4144 | Train Acc: 83.75%\nVal Loss: 0.3874 | Val Acc: 82.50%\n\nEpoch 39/50\n",
          "output_type": "stream"
        },
        {
          "name": "stderr",
          "text": "Training: 100%|██████████| 20/20 [00:11<00:00,  1.81it/s]\nEvaluating: 100%|██████████| 5/5 [00:02<00:00,  1.92it/s]\n",
          "output_type": "stream"
        },
        {
          "name": "stdout",
          "text": "Train Loss: 0.3998 | Train Acc: 88.12%\nVal Loss: 0.4233 | Val Acc: 82.50%\n\nEpoch 40/50\n",
          "output_type": "stream"
        },
        {
          "name": "stderr",
          "text": "Training: 100%|██████████| 20/20 [00:10<00:00,  1.83it/s]\nEvaluating: 100%|██████████| 5/5 [00:02<00:00,  2.01it/s]\n",
          "output_type": "stream"
        },
        {
          "name": "stdout",
          "text": "Train Loss: 0.3894 | Train Acc: 85.62%\nVal Loss: 0.3947 | Val Acc: 82.50%\n\nEpoch 41/50\n",
          "output_type": "stream"
        },
        {
          "name": "stderr",
          "text": "Training: 100%|██████████| 20/20 [00:10<00:00,  1.83it/s]\nEvaluating: 100%|██████████| 5/5 [00:02<00:00,  2.02it/s]\n",
          "output_type": "stream"
        },
        {
          "name": "stdout",
          "text": "Train Loss: 0.3885 | Train Acc: 86.25%\nVal Loss: 0.3620 | Val Acc: 90.00%\n\nEpoch 42/50\n",
          "output_type": "stream"
        },
        {
          "name": "stderr",
          "text": "Training: 100%|██████████| 20/20 [00:10<00:00,  1.85it/s]\nEvaluating: 100%|██████████| 5/5 [00:02<00:00,  1.97it/s]\n",
          "output_type": "stream"
        },
        {
          "name": "stdout",
          "text": "Train Loss: 0.3445 | Train Acc: 91.25%\nVal Loss: 0.3831 | Val Acc: 85.00%\n\nEpoch 43/50\n",
          "output_type": "stream"
        },
        {
          "name": "stderr",
          "text": "Training: 100%|██████████| 20/20 [00:10<00:00,  1.84it/s]\nEvaluating: 100%|██████████| 5/5 [00:02<00:00,  2.04it/s]\n",
          "output_type": "stream"
        },
        {
          "name": "stdout",
          "text": "Train Loss: 0.4176 | Train Acc: 85.00%\nVal Loss: 0.3821 | Val Acc: 85.00%\n\nEpoch 44/50\n",
          "output_type": "stream"
        },
        {
          "name": "stderr",
          "text": "Training: 100%|██████████| 20/20 [00:10<00:00,  1.84it/s]\nEvaluating: 100%|██████████| 5/5 [00:02<00:00,  1.93it/s]\n",
          "output_type": "stream"
        },
        {
          "name": "stdout",
          "text": "Train Loss: 0.3921 | Train Acc: 85.62%\nVal Loss: 0.3885 | Val Acc: 82.50%\n\nEpoch 45/50\n",
          "output_type": "stream"
        },
        {
          "name": "stderr",
          "text": "Training: 100%|██████████| 20/20 [00:11<00:00,  1.80it/s]\nEvaluating: 100%|██████████| 5/5 [00:02<00:00,  1.92it/s]\n",
          "output_type": "stream"
        },
        {
          "name": "stdout",
          "text": "Train Loss: 0.3836 | Train Acc: 87.50%\nVal Loss: 0.3730 | Val Acc: 87.50%\n\nEpoch 46/50\n",
          "output_type": "stream"
        },
        {
          "name": "stderr",
          "text": "Training: 100%|██████████| 20/20 [00:10<00:00,  1.86it/s]\nEvaluating: 100%|██████████| 5/5 [00:02<00:00,  1.97it/s]\n",
          "output_type": "stream"
        },
        {
          "name": "stdout",
          "text": "Train Loss: 0.3782 | Train Acc: 88.75%\nVal Loss: 0.3869 | Val Acc: 82.50%\n\nEpoch 47/50\n",
          "output_type": "stream"
        },
        {
          "name": "stderr",
          "text": "Training: 100%|██████████| 20/20 [00:10<00:00,  1.84it/s]\nEvaluating: 100%|██████████| 5/5 [00:02<00:00,  1.98it/s]\n",
          "output_type": "stream"
        },
        {
          "name": "stdout",
          "text": "Train Loss: 0.3710 | Train Acc: 89.38%\nVal Loss: 0.4138 | Val Acc: 80.00%\n\nEpoch 48/50\n",
          "output_type": "stream"
        },
        {
          "name": "stderr",
          "text": "Training: 100%|██████████| 20/20 [00:10<00:00,  1.83it/s]\nEvaluating: 100%|██████████| 5/5 [00:02<00:00,  2.03it/s]\n",
          "output_type": "stream"
        },
        {
          "name": "stdout",
          "text": "Train Loss: 0.3702 | Train Acc: 85.62%\nVal Loss: 0.3941 | Val Acc: 82.50%\n\nEpoch 49/50\n",
          "output_type": "stream"
        },
        {
          "name": "stderr",
          "text": "Training: 100%|██████████| 20/20 [00:10<00:00,  1.83it/s]\nEvaluating: 100%|██████████| 5/5 [00:02<00:00,  1.97it/s]\n",
          "output_type": "stream"
        },
        {
          "name": "stdout",
          "text": "Train Loss: 0.3904 | Train Acc: 90.00%\nVal Loss: 0.3811 | Val Acc: 87.50%\n\nEpoch 50/50\n",
          "output_type": "stream"
        },
        {
          "name": "stderr",
          "text": "Training: 100%|██████████| 20/20 [00:11<00:00,  1.80it/s]\nEvaluating: 100%|██████████| 5/5 [00:02<00:00,  1.95it/s]\n",
          "output_type": "stream"
        },
        {
          "name": "stdout",
          "text": "Train Loss: 0.3595 | Train Acc: 87.50%\nVal Loss: 0.4062 | Val Acc: 82.50%\n",
          "output_type": "stream"
        },
        {
          "name": "stderr",
          "text": "Evaluating: 100%|██████████| 5/5 [00:02<00:00,  1.97it/s]",
          "output_type": "stream"
        },
        {
          "name": "stdout",
          "text": "\nFinal Evaluation on Test Set:\nAccuracy: 82.50%\n              precision    recall  f1-score   support\n\n         0.0       0.78      0.90      0.84        20\n         1.0       0.88      0.75      0.81        20\n\n    accuracy                           0.82        40\n   macro avg       0.83      0.82      0.82        40\nweighted avg       0.83      0.82      0.82        40\n\nConfusion Matrix:\n [[18  2]\n [ 5 15]]\nROC AUC Score: 0.9225\n",
          "output_type": "stream"
        },
        {
          "name": "stderr",
          "text": "\n",
          "output_type": "stream"
        },
        {
          "output_type": "display_data",
          "data": {
            "text/plain": "<Figure size 800x600 with 1 Axes>",
            "image/png": "[encoded data removed]"
          },
          "metadata": {}
        },
        {
          "name": "stderr",
          "text": "/usr/local/lib/python3.11/dist-packages/torch/optim/lr_scheduler.py:62: UserWarning: The verbose parameter is deprecated. Please use get_last_lr() to access the learning rate.\n  warnings.warn(\n",
          "output_type": "stream"
        },
        {
          "name": "stdout",
          "text": "\n==================== Fold 3/5 ====================\nTraining samples: 160, Test samples: 40\n\nEpoch 1/50\n",
          "output_type": "stream"
        },
        {
          "name": "stderr",
          "text": "Training: 100%|██████████| 20/20 [00:10<00:00,  1.84it/s]\nEvaluating: 100%|██████████| 5/5 [00:02<00:00,  1.83it/s]\n",
          "output_type": "stream"
        },
        {
          "name": "stdout",
          "text": "Train Loss: 0.7519 | Train Acc: 50.62%\nVal Loss: 0.6939 | Val Acc: 50.00%\n\nEpoch 2/50\n",
          "output_type": "stream"
        },
        {
          "name": "stderr",
          "text": "Training: 100%|██████████| 20/20 [00:10<00:00,  1.88it/s]\nEvaluating: 100%|██████████| 5/5 [00:02<00:00,  1.83it/s]\n",
          "output_type": "stream"
        },
        {
          "name": "stdout",
          "text": "Train Loss: 0.6837 | Train Acc: 53.75%\nVal Loss: 0.6909 | Val Acc: 50.00%\n\nEpoch 3/50\n",
          "output_type": "stream"
        },
        {
          "name": "stderr",
          "text": "Training: 100%|██████████| 20/20 [00:10<00:00,  1.86it/s]\nEvaluating: 100%|██████████| 5/5 [00:02<00:00,  1.84it/s]\n",
          "output_type": "stream"
        },
        {
          "name": "stdout",
          "text": "Train Loss: 0.7444 | Train Acc: 50.62%\nVal Loss: 0.6905 | Val Acc: 50.00%\n\nEpoch 4/50\n",
          "output_type": "stream"
        },
        {
          "name": "stderr",
          "text": "Training: 100%|██████████| 20/20 [00:10<00:00,  1.87it/s]\nEvaluating: 100%|██████████| 5/5 [00:02<00:00,  1.77it/s]\n",
          "output_type": "stream"
        },
        {
          "name": "stdout",
          "text": "Train Loss: 0.6946 | Train Acc: 56.88%\nVal Loss: 0.6860 | Val Acc: 57.50%\n\nEpoch 5/50\n",
          "output_type": "stream"
        },
        {
          "name": "stderr",
          "text": "Training: 100%|██████████| 20/20 [00:10<00:00,  1.90it/s]\nEvaluating: 100%|██████████| 5/5 [00:02<00:00,  1.86it/s]\n",
          "output_type": "stream"
        },
        {
          "name": "stdout",
          "text": "Train Loss: 0.7200 | Train Acc: 47.50%\nVal Loss: 0.6813 | Val Acc: 57.50%\n\nEpoch 6/50\n",
          "output_type": "stream"
        },
        {
          "name": "stderr",
          "text": "Training: 100%|██████████| 20/20 [00:10<00:00,  1.88it/s]\nEvaluating: 100%|██████████| 5/5 [00:02<00:00,  1.82it/s]\n",
          "output_type": "stream"
        },
        {
          "name": "stdout",
          "text": "Train Loss: 0.6935 | Train Acc: 54.38%\nVal Loss: 0.6782 | Val Acc: 55.00%\n\nEpoch 7/50\n",
          "output_type": "stream"
        },
        {
          "name": "stderr",
          "text": "Training: 100%|██████████| 20/20 [00:10<00:00,  1.83it/s]\nEvaluating: 100%|██████████| 5/5 [00:02<00:00,  1.81it/s]\n",
          "output_type": "stream"
        },
        {
          "name": "stdout",
          "text": "Train Loss: 0.6930 | Train Acc: 58.75%\nVal Loss: 0.6769 | Val Acc: 55.00%\n\nEpoch 8/50\n",
          "output_type": "stream"
        },
        {
          "name": "stderr",
          "text": "Training: 100%|██████████| 20/20 [00:10<00:00,  1.85it/s]\nEvaluating: 100%|██████████| 5/5 [00:02<00:00,  1.81it/s]\n",
          "output_type": "stream"
        },
        {
          "name": "stdout",
          "text": "Train Loss: 0.6925 | Train Acc: 53.75%\nVal Loss: 0.6720 | Val Acc: 55.00%\n\nEpoch 9/50\n",
          "output_type": "stream"
        },
        {
          "name": "stderr",
          "text": "Training: 100%|██████████| 20/20 [00:10<00:00,  1.84it/s]\nEvaluating: 100%|██████████| 5/5 [00:02<00:00,  1.81it/s]\n",
          "output_type": "stream"
        },
        {
          "name": "stdout",
          "text": "Train Loss: 0.7466 | Train Acc: 48.12%\nVal Loss: 0.6614 | Val Acc: 62.50%\n\nEpoch 10/50\n",
          "output_type": "stream"
        },
        {
          "name": "stderr",
          "text": "Training: 100%|██████████| 20/20 [00:10<00:00,  1.88it/s]\nEvaluating: 100%|██████████| 5/5 [00:02<00:00,  1.85it/s]\n",
          "output_type": "stream"
        },
        {
          "name": "stdout",
          "text": "Train Loss: 0.6810 | Train Acc: 59.38%\nVal Loss: 0.6487 | Val Acc: 60.00%\n\nEpoch 11/50\n",
          "output_type": "stream"
        },
        {
          "name": "stderr",
          "text": "Training: 100%|██████████| 20/20 [00:10<00:00,  1.88it/s]\nEvaluating: 100%|██████████| 5/5 [00:02<00:00,  1.75it/s]\n",
          "output_type": "stream"
        },
        {
          "name": "stdout",
          "text": "Train Loss: 0.6557 | Train Acc: 63.75%\nVal Loss: 0.6399 | Val Acc: 75.00%\n\nEpoch 12/50\n",
          "output_type": "stream"
        },
        {
          "name": "stderr",
          "text": "Training: 100%|██████████| 20/20 [00:10<00:00,  1.88it/s]\nEvaluating: 100%|██████████| 5/5 [00:02<00:00,  1.79it/s]\n",
          "output_type": "stream"
        },
        {
          "name": "stdout",
          "text": "Train Loss: 0.7354 | Train Acc: 49.38%\nVal Loss: 0.6336 | Val Acc: 77.50%\n\nEpoch 13/50\n",
          "output_type": "stream"
        },
        {
          "name": "stderr",
          "text": "Training: 100%|██████████| 20/20 [00:10<00:00,  1.85it/s]\nEvaluating: 100%|██████████| 5/5 [00:02<00:00,  1.82it/s]\n",
          "output_type": "stream"
        },
        {
          "name": "stdout",
          "text": "Train Loss: 0.6947 | Train Acc: 54.38%\nVal Loss: 0.6165 | Val Acc: 75.00%\n\nEpoch 14/50\n",
          "output_type": "stream"
        },
        {
          "name": "stderr",
          "text": "Training: 100%|██████████| 20/20 [00:10<00:00,  1.87it/s]\nEvaluating: 100%|██████████| 5/5 [00:02<00:00,  1.81it/s]\n",
          "output_type": "stream"
        },
        {
          "name": "stdout",
          "text": "Train Loss: 0.6748 | Train Acc: 60.00%\nVal Loss: 0.6114 | Val Acc: 70.00%\n\nEpoch 15/50\n",
          "output_type": "stream"
        },
        {
          "name": "stderr",
          "text": "Training: 100%|██████████| 20/20 [00:10<00:00,  1.86it/s]\nEvaluating: 100%|██████████| 5/5 [00:02<00:00,  1.86it/s]\n",
          "output_type": "stream"
        },
        {
          "name": "stdout",
          "text": "Train Loss: 0.6627 | Train Acc: 61.88%\nVal Loss: 0.5870 | Val Acc: 77.50%\n\nEpoch 16/50\n",
          "output_type": "stream"
        },
        {
          "name": "stderr",
          "text": "Training: 100%|██████████| 20/20 [00:10<00:00,  1.86it/s]\nEvaluating: 100%|██████████| 5/5 [00:02<00:00,  1.77it/s]\n",
          "output_type": "stream"
        },
        {
          "name": "stdout",
          "text": "Train Loss: 0.6761 | Train Acc: 59.38%\nVal Loss: 0.5970 | Val Acc: 75.00%\n\nEpoch 17/50\n",
          "output_type": "stream"
        },
        {
          "name": "stderr",
          "text": "Training: 100%|██████████| 20/20 [00:10<00:00,  1.86it/s]\nEvaluating: 100%|██████████| 5/5 [00:02<00:00,  1.79it/s]\n",
          "output_type": "stream"
        },
        {
          "name": "stdout",
          "text": "Train Loss: 0.6571 | Train Acc: 59.38%\nVal Loss: 0.6241 | Val Acc: 65.00%\n\nEpoch 18/50\n",
          "output_type": "stream"
        },
        {
          "name": "stderr",
          "text": "Training: 100%|██████████| 20/20 [00:10<00:00,  1.89it/s]\nEvaluating: 100%|██████████| 5/5 [00:02<00:00,  1.78it/s]\n",
          "output_type": "stream"
        },
        {
          "name": "stdout",
          "text": "Train Loss: 0.6376 | Train Acc: 63.12%\nVal Loss: 0.5808 | Val Acc: 72.50%\n\nEpoch 19/50\n",
          "output_type": "stream"
        },
        {
          "name": "stderr",
          "text": "Training: 100%|██████████| 20/20 [00:10<00:00,  1.85it/s]\nEvaluating: 100%|██████████| 5/5 [00:02<00:00,  1.84it/s]\n",
          "output_type": "stream"
        },
        {
          "name": "stdout",
          "text": "Train Loss: 0.5889 | Train Acc: 66.88%\nVal Loss: 0.5686 | Val Acc: 75.00%\n\nEpoch 20/50\n",
          "output_type": "stream"
        },
        {
          "name": "stderr",
          "text": "Training: 100%|██████████| 20/20 [00:10<00:00,  1.88it/s]\nEvaluating: 100%|██████████| 5/5 [00:02<00:00,  1.82it/s]\n",
          "output_type": "stream"
        },
        {
          "name": "stdout",
          "text": "Train Loss: 0.6011 | Train Acc: 66.88%\nVal Loss: 0.5848 | Val Acc: 67.50%\n\nEpoch 21/50\n",
          "output_type": "stream"
        },
        {
          "name": "stderr",
          "text": "Training: 100%|██████████| 20/20 [00:10<00:00,  1.86it/s]\nEvaluating: 100%|██████████| 5/5 [00:02<00:00,  1.81it/s]\n",
          "output_type": "stream"
        },
        {
          "name": "stdout",
          "text": "Train Loss: 0.6199 | Train Acc: 65.00%\nVal Loss: 0.5694 | Val Acc: 80.00%\n\nEpoch 22/50\n",
          "output_type": "stream"
        },
        {
          "name": "stderr",
          "text": "Training: 100%|██████████| 20/20 [00:10<00:00,  1.91it/s]\nEvaluating: 100%|██████████| 5/5 [00:02<00:00,  1.84it/s]\n",
          "output_type": "stream"
        },
        {
          "name": "stdout",
          "text": "Train Loss: 0.6178 | Train Acc: 65.00%\nVal Loss: 0.5792 | Val Acc: 75.00%\n\nEpoch 23/50\n",
          "output_type": "stream"
        },
        {
          "name": "stderr",
          "text": "Training: 100%|██████████| 20/20 [00:10<00:00,  1.87it/s]\nEvaluating: 100%|██████████| 5/5 [00:02<00:00,  1.79it/s]\n",
          "output_type": "stream"
        },
        {
          "name": "stdout",
          "text": "Train Loss: 0.5820 | Train Acc: 69.38%\nVal Loss: 0.5525 | Val Acc: 77.50%\n\nEpoch 24/50\n",
          "output_type": "stream"
        },
        {
          "name": "stderr",
          "text": "Training: 100%|██████████| 20/20 [00:10<00:00,  1.87it/s]\nEvaluating: 100%|██████████| 5/5 [00:02<00:00,  1.83it/s]\n",
          "output_type": "stream"
        },
        {
          "name": "stdout",
          "text": "Train Loss: 0.5699 | Train Acc: 69.38%\nVal Loss: 0.5497 | Val Acc: 75.00%\n\nEpoch 25/50\n",
          "output_type": "stream"
        },
        {
          "name": "stderr",
          "text": "Training: 100%|██████████| 20/20 [00:10<00:00,  1.87it/s]\nEvaluating: 100%|██████████| 5/5 [00:02<00:00,  1.77it/s]\n",
          "output_type": "stream"
        },
        {
          "name": "stdout",
          "text": "Train Loss: 0.5787 | Train Acc: 70.62%\nVal Loss: 0.5341 | Val Acc: 77.50%\n\nEpoch 26/50\n",
          "output_type": "stream"
        },
        {
          "name": "stderr",
          "text": "Training: 100%|██████████| 20/20 [00:10<00:00,  1.86it/s]\nEvaluating: 100%|██████████| 5/5 [00:02<00:00,  1.82it/s]\n",
          "output_type": "stream"
        },
        {
          "name": "stdout",
          "text": "Train Loss: 0.5707 | Train Acc: 65.62%\nVal Loss: 0.5458 | Val Acc: 72.50%\n\nEpoch 27/50\n",
          "output_type": "stream"
        },
        {
          "name": "stderr",
          "text": "Training: 100%|██████████| 20/20 [00:10<00:00,  1.90it/s]\nEvaluating: 100%|██████████| 5/5 [00:02<00:00,  1.85it/s]\n",
          "output_type": "stream"
        },
        {
          "name": "stdout",
          "text": "Train Loss: 0.5536 | Train Acc: 71.88%\nVal Loss: 0.5076 | Val Acc: 77.50%\n\nEpoch 28/50\n",
          "output_type": "stream"
        },
        {
          "name": "stderr",
          "text": "Training: 100%|██████████| 20/20 [00:10<00:00,  1.87it/s]\nEvaluating: 100%|██████████| 5/5 [00:02<00:00,  1.81it/s]\n",
          "output_type": "stream"
        },
        {
          "name": "stdout",
          "text": "Train Loss: 0.5383 | Train Acc: 71.25%\nVal Loss: 0.5336 | Val Acc: 82.50%\n\nEpoch 29/50\n",
          "output_type": "stream"
        },
        {
          "name": "stderr",
          "text": "Training: 100%|██████████| 20/20 [00:10<00:00,  1.87it/s]\nEvaluating: 100%|██████████| 5/5 [00:02<00:00,  1.86it/s]\n",
          "output_type": "stream"
        },
        {
          "name": "stdout",
          "text": "Train Loss: 0.5911 | Train Acc: 72.50%\nVal Loss: 0.4897 | Val Acc: 82.50%\n\nEpoch 30/50\n",
          "output_type": "stream"
        },
        {
          "name": "stderr",
          "text": "Training: 100%|██████████| 20/20 [00:10<00:00,  1.88it/s]\nEvaluating: 100%|██████████| 5/5 [00:02<00:00,  1.83it/s]\n",
          "output_type": "stream"
        },
        {
          "name": "stdout",
          "text": "Train Loss: 0.5183 | Train Acc: 76.88%\nVal Loss: 0.5007 | Val Acc: 80.00%\n\nEpoch 31/50\n",
          "output_type": "stream"
        },
        {
          "name": "stderr",
          "text": "Training: 100%|██████████| 20/20 [00:10<00:00,  1.90it/s]\nEvaluating: 100%|██████████| 5/5 [00:02<00:00,  1.83it/s]\n",
          "output_type": "stream"
        },
        {
          "name": "stdout",
          "text": "Train Loss: 0.5782 | Train Acc: 73.12%\nVal Loss: 0.5291 | Val Acc: 80.00%\n\nEpoch 32/50\n",
          "output_type": "stream"
        },
        {
          "name": "stderr",
          "text": "Training: 100%|██████████| 20/20 [00:10<00:00,  1.89it/s]\nEvaluating: 100%|██████████| 5/5 [00:02<00:00,  1.83it/s]\n",
          "output_type": "stream"
        },
        {
          "name": "stdout",
          "text": "Train Loss: 0.5133 | Train Acc: 77.50%\nVal Loss: 0.5054 | Val Acc: 80.00%\n\nEpoch 33/50\n",
          "output_type": "stream"
        },
        {
          "name": "stderr",
          "text": "Training: 100%|██████████| 20/20 [00:10<00:00,  1.90it/s]\nEvaluating: 100%|██████████| 5/5 [00:02<00:00,  1.84it/s]\n",
          "output_type": "stream"
        },
        {
          "name": "stdout",
          "text": "Train Loss: 0.5603 | Train Acc: 75.62%\nVal Loss: 0.5952 | Val Acc: 72.50%\n\nEpoch 34/50\n",
          "output_type": "stream"
        },
        {
          "name": "stderr",
          "text": "Training: 100%|██████████| 20/20 [00:10<00:00,  1.90it/s]\nEvaluating: 100%|██████████| 5/5 [00:02<00:00,  1.80it/s]\n",
          "output_type": "stream"
        },
        {
          "name": "stdout",
          "text": "Train Loss: 0.5019 | Train Acc: 76.25%\nVal Loss: 0.5233 | Val Acc: 80.00%\n\nEpoch 35/50\n",
          "output_type": "stream"
        },
        {
          "name": "stderr",
          "text": "Training: 100%|██████████| 20/20 [00:10<00:00,  1.86it/s]\nEvaluating: 100%|██████████| 5/5 [00:02<00:00,  1.82it/s]\n",
          "output_type": "stream"
        },
        {
          "name": "stdout",
          "text": "Train Loss: 0.5345 | Train Acc: 76.25%\nVal Loss: 0.4899 | Val Acc: 80.00%\n\nEpoch 36/50\n",
          "output_type": "stream"
        },
        {
          "name": "stderr",
          "text": "Training: 100%|██████████| 20/20 [00:10<00:00,  1.86it/s]\nEvaluating: 100%|██████████| 5/5 [00:02<00:00,  1.82it/s]\n",
          "output_type": "stream"
        },
        {
          "name": "stdout",
          "text": "Train Loss: 0.5063 | Train Acc: 80.00%\nVal Loss: 0.4758 | Val Acc: 82.50%\n\nEpoch 37/50\n",
          "output_type": "stream"
        },
        {
          "name": "stderr",
          "text": "Training: 100%|██████████| 20/20 [00:10<00:00,  1.86it/s]\nEvaluating: 100%|██████████| 5/5 [00:02<00:00,  1.80it/s]\n",
          "output_type": "stream"
        },
        {
          "name": "stdout",
          "text": "Train Loss: 0.4747 | Train Acc: 78.12%\nVal Loss: 0.4745 | Val Acc: 80.00%\n\nEpoch 38/50\n",
          "output_type": "stream"
        },
        {
          "name": "stderr",
          "text": "Training: 100%|██████████| 20/20 [00:10<00:00,  1.89it/s]\nEvaluating: 100%|██████████| 5/5 [00:02<00:00,  1.86it/s]\n",
          "output_type": "stream"
        },
        {
          "name": "stdout",
          "text": "Train Loss: 0.5161 | Train Acc: 79.38%\nVal Loss: 0.4780 | Val Acc: 80.00%\n\nEpoch 39/50\n",
          "output_type": "stream"
        },
        {
          "name": "stderr",
          "text": "Training: 100%|██████████| 20/20 [00:10<00:00,  1.84it/s]\nEvaluating: 100%|██████████| 5/5 [00:02<00:00,  1.81it/s]\n",
          "output_type": "stream"
        },
        {
          "name": "stdout",
          "text": "Train Loss: 0.5201 | Train Acc: 80.00%\nVal Loss: 0.4792 | Val Acc: 80.00%\n\nEpoch 40/50\n",
          "output_type": "stream"
        },
        {
          "name": "stderr",
          "text": "Training: 100%|██████████| 20/20 [00:10<00:00,  1.85it/s]\nEvaluating: 100%|██████████| 5/5 [00:02<00:00,  1.77it/s]\n",
          "output_type": "stream"
        },
        {
          "name": "stdout",
          "text": "Train Loss: 0.4572 | Train Acc: 85.62%\nVal Loss: 0.4614 | Val Acc: 80.00%\n\nEpoch 41/50\n",
          "output_type": "stream"
        },
        {
          "name": "stderr",
          "text": "Training: 100%|██████████| 20/20 [00:10<00:00,  1.84it/s]\nEvaluating: 100%|██████████| 5/5 [00:02<00:00,  1.81it/s]\n",
          "output_type": "stream"
        },
        {
          "name": "stdout",
          "text": "Train Loss: 0.5000 | Train Acc: 77.50%\nVal Loss: 0.4657 | Val Acc: 80.00%\n\nEpoch 42/50\n",
          "output_type": "stream"
        },
        {
          "name": "stderr",
          "text": "Training: 100%|██████████| 20/20 [00:10<00:00,  1.89it/s]\nEvaluating: 100%|██████████| 5/5 [00:02<00:00,  1.83it/s]\n",
          "output_type": "stream"
        },
        {
          "name": "stdout",
          "text": "Train Loss: 0.4593 | Train Acc: 81.25%\nVal Loss: 0.4791 | Val Acc: 80.00%\n\nEpoch 43/50\n",
          "output_type": "stream"
        },
        {
          "name": "stderr",
          "text": "Training: 100%|██████████| 20/20 [00:10<00:00,  1.90it/s]\nEvaluating: 100%|██████████| 5/5 [00:02<00:00,  1.83it/s]\n",
          "output_type": "stream"
        },
        {
          "name": "stdout",
          "text": "Train Loss: 0.5000 | Train Acc: 80.00%\nVal Loss: 0.4826 | Val Acc: 80.00%\n\nEpoch 44/50\n",
          "output_type": "stream"
        },
        {
          "name": "stderr",
          "text": "Training: 100%|██████████| 20/20 [00:10<00:00,  1.89it/s]\nEvaluating: 100%|██████████| 5/5 [00:02<00:00,  1.79it/s]\n",
          "output_type": "stream"
        },
        {
          "name": "stdout",
          "text": "Train Loss: 0.4777 | Train Acc: 81.88%\nVal Loss: 0.4668 | Val Acc: 82.50%\n\nEpoch 45/50\n",
          "output_type": "stream"
        },
        {
          "name": "stderr",
          "text": "Training: 100%|██████████| 20/20 [00:10<00:00,  1.89it/s]\nEvaluating: 100%|██████████| 5/5 [00:02<00:00,  1.86it/s]\n",
          "output_type": "stream"
        },
        {
          "name": "stdout",
          "text": "Train Loss: 0.4568 | Train Acc: 84.38%\nVal Loss: 0.4424 | Val Acc: 85.00%\n\nEpoch 46/50\n",
          "output_type": "stream"
        },
        {
          "name": "stderr",
          "text": "Training: 100%|██████████| 20/20 [00:10<00:00,  1.88it/s]\nEvaluating: 100%|██████████| 5/5 [00:02<00:00,  1.84it/s]\n",
          "output_type": "stream"
        },
        {
          "name": "stdout",
          "text": "Train Loss: 0.4879 | Train Acc: 82.50%\nVal Loss: 0.4379 | Val Acc: 82.50%\n\nEpoch 47/50\n",
          "output_type": "stream"
        },
        {
          "name": "stderr",
          "text": "Training: 100%|██████████| 20/20 [00:10<00:00,  1.88it/s]\nEvaluating: 100%|██████████| 5/5 [00:02<00:00,  1.87it/s]\n",
          "output_type": "stream"
        },
        {
          "name": "stdout",
          "text": "Train Loss: 0.4391 | Train Acc: 80.00%\nVal Loss: 0.4341 | Val Acc: 85.00%\n\nEpoch 48/50\n",
          "output_type": "stream"
        },
        {
          "name": "stderr",
          "text": "Training: 100%|██████████| 20/20 [00:10<00:00,  1.88it/s]\nEvaluating: 100%|██████████| 5/5 [00:02<00:00,  1.79it/s]\n",
          "output_type": "stream"
        },
        {
          "name": "stdout",
          "text": "Train Loss: 0.4449 | Train Acc: 83.75%\nVal Loss: 0.4711 | Val Acc: 80.00%\n\nEpoch 49/50\n",
          "output_type": "stream"
        },
        {
          "name": "stderr",
          "text": "Training: 100%|██████████| 20/20 [00:10<00:00,  1.86it/s]\nEvaluating: 100%|██████████| 5/5 [00:02<00:00,  1.81it/s]\n",
          "output_type": "stream"
        },
        {
          "name": "stdout",
          "text": "Train Loss: 0.4641 | Train Acc: 78.12%\nVal Loss: 0.4392 | Val Acc: 85.00%\n\nEpoch 50/50\n",
          "output_type": "stream"
        },
        {
          "name": "stderr",
          "text": "Training: 100%|██████████| 20/20 [00:10<00:00,  1.89it/s]\nEvaluating: 100%|██████████| 5/5 [00:02<00:00,  1.89it/s]\n",
          "output_type": "stream"
        },
        {
          "name": "stdout",
          "text": "Train Loss: 0.4387 | Train Acc: 83.75%\nVal Loss: 0.4461 | Val Acc: 85.00%\n",
          "output_type": "stream"
        },
        {
          "name": "stderr",
          "text": "Evaluating: 100%|██████████| 5/5 [00:02<00:00,  1.88it/s]",
          "output_type": "stream"
        },
        {
          "name": "stdout",
          "text": "\nFinal Evaluation on Test Set:\nAccuracy: 85.00%\n              precision    recall  f1-score   support\n\n         0.0       0.89      0.80      0.84        20\n         1.0       0.82      0.90      0.86        20\n\n    accuracy                           0.85        40\n   macro avg       0.85      0.85      0.85        40\nweighted avg       0.85      0.85      0.85        40\n\nConfusion Matrix:\n [[16  4]\n [ 2 18]]\nROC AUC Score: 0.8600\n",
          "output_type": "stream"
        },
        {
          "name": "stderr",
          "text": "\n",
          "output_type": "stream"
        },
        {
          "output_type": "display_data",
          "data": {
            "text/plain": "<Figure size 800x600 with 1 Axes>",
            "image/png": "[encoded data removed]"
          },
          "metadata": {}
        },
        {
          "name": "stderr",
          "text": "/usr/local/lib/python3.11/dist-packages/torch/optim/lr_scheduler.py:62: UserWarning: The verbose parameter is deprecated. Please use get_last_lr() to access the learning rate.\n  warnings.warn(\n",
          "output_type": "stream"
        },
        {
          "name": "stdout",
          "text": "\n==================== Fold 4/5 ====================\nTraining samples: 160, Test samples: 40\n\nEpoch 1/50\n",
          "output_type": "stream"
        },
        {
          "name": "stderr",
          "text": "Training: 100%|██████████| 20/20 [00:10<00:00,  1.87it/s]\nEvaluating: 100%|██████████| 5/5 [00:02<00:00,  1.89it/s]\n",
          "output_type": "stream"
        },
        {
          "name": "stdout",
          "text": "Train Loss: 0.6903 | Train Acc: 57.50%\nVal Loss: 0.6923 | Val Acc: 65.00%\n\nEpoch 2/50\n",
          "output_type": "stream"
        },
        {
          "name": "stderr",
          "text": "Training: 100%|██████████| 20/20 [00:10<00:00,  1.85it/s]\nEvaluating: 100%|██████████| 5/5 [00:02<00:00,  1.93it/s]\n",
          "output_type": "stream"
        },
        {
          "name": "stdout",
          "text": "Train Loss: 0.7101 | Train Acc: 58.12%\nVal Loss: 0.6939 | Val Acc: 50.00%\n\nEpoch 3/50\n",
          "output_type": "stream"
        },
        {
          "name": "stderr",
          "text": "Training: 100%|██████████| 20/20 [00:10<00:00,  1.84it/s]\nEvaluating: 100%|██████████| 5/5 [00:02<00:00,  1.88it/s]\n",
          "output_type": "stream"
        },
        {
          "name": "stdout",
          "text": "Train Loss: 0.7040 | Train Acc: 56.88%\nVal Loss: 0.6871 | Val Acc: 52.50%\n\nEpoch 4/50\n",
          "output_type": "stream"
        },
        {
          "name": "stderr",
          "text": "Training: 100%|██████████| 20/20 [00:10<00:00,  1.87it/s]\nEvaluating: 100%|██████████| 5/5 [00:02<00:00,  1.90it/s]\n",
          "output_type": "stream"
        },
        {
          "name": "stdout",
          "text": "Train Loss: 0.7244 | Train Acc: 50.62%\nVal Loss: 0.6851 | Val Acc: 55.00%\n\nEpoch 5/50\n",
          "output_type": "stream"
        },
        {
          "name": "stderr",
          "text": "Training: 100%|██████████| 20/20 [00:10<00:00,  1.87it/s]\nEvaluating: 100%|██████████| 5/5 [00:02<00:00,  1.96it/s]\n",
          "output_type": "stream"
        },
        {
          "name": "stdout",
          "text": "Train Loss: 0.7166 | Train Acc: 55.00%\nVal Loss: 0.6798 | Val Acc: 65.00%\n\nEpoch 6/50\n",
          "output_type": "stream"
        },
        {
          "name": "stderr",
          "text": "Training: 100%|██████████| 20/20 [00:10<00:00,  1.86it/s]\nEvaluating: 100%|██████████| 5/5 [00:02<00:00,  2.00it/s]\n",
          "output_type": "stream"
        },
        {
          "name": "stdout",
          "text": "Train Loss: 0.7150 | Train Acc: 50.00%\nVal Loss: 0.6750 | Val Acc: 65.00%\n\nEpoch 7/50\n",
          "output_type": "stream"
        },
        {
          "name": "stderr",
          "text": "Training: 100%|██████████| 20/20 [00:10<00:00,  1.90it/s]\nEvaluating: 100%|██████████| 5/5 [00:02<00:00,  1.93it/s]\n",
          "output_type": "stream"
        },
        {
          "name": "stdout",
          "text": "Train Loss: 0.6965 | Train Acc: 55.62%\nVal Loss: 0.6681 | Val Acc: 67.50%\n\nEpoch 8/50\n",
          "output_type": "stream"
        },
        {
          "name": "stderr",
          "text": "Training: 100%|██████████| 20/20 [00:10<00:00,  1.87it/s]\nEvaluating: 100%|██████████| 5/5 [00:02<00:00,  1.99it/s]\n",
          "output_type": "stream"
        },
        {
          "name": "stdout",
          "text": "Train Loss: 0.7087 | Train Acc: 53.75%\nVal Loss: 0.6672 | Val Acc: 62.50%\n\nEpoch 9/50\n",
          "output_type": "stream"
        },
        {
          "name": "stderr",
          "text": "Training: 100%|██████████| 20/20 [00:10<00:00,  1.90it/s]\nEvaluating: 100%|██████████| 5/5 [00:02<00:00,  1.95it/s]\n",
          "output_type": "stream"
        },
        {
          "name": "stdout",
          "text": "Train Loss: 0.7094 | Train Acc: 55.00%\nVal Loss: 0.6616 | Val Acc: 67.50%\n\nEpoch 10/50\n",
          "output_type": "stream"
        },
        {
          "name": "stderr",
          "text": "Training: 100%|██████████| 20/20 [00:10<00:00,  1.90it/s]\nEvaluating: 100%|██████████| 5/5 [00:02<00:00,  1.97it/s]\n",
          "output_type": "stream"
        },
        {
          "name": "stdout",
          "text": "Train Loss: 0.6530 | Train Acc: 58.12%\nVal Loss: 0.6615 | Val Acc: 70.00%\n\nEpoch 11/50\n",
          "output_type": "stream"
        },
        {
          "name": "stderr",
          "text": "Training: 100%|██████████| 20/20 [00:10<00:00,  1.86it/s]\nEvaluating: 100%|██████████| 5/5 [00:02<00:00,  1.92it/s]\n",
          "output_type": "stream"
        },
        {
          "name": "stdout",
          "text": "Train Loss: 0.6735 | Train Acc: 56.88%\nVal Loss: 0.6658 | Val Acc: 65.00%\n\nEpoch 12/50\n",
          "output_type": "stream"
        },
        {
          "name": "stderr",
          "text": "Training: 100%|██████████| 20/20 [00:10<00:00,  1.86it/s]\nEvaluating: 100%|██████████| 5/5 [00:02<00:00,  1.96it/s]\n",
          "output_type": "stream"
        },
        {
          "name": "stdout",
          "text": "Train Loss: 0.6576 | Train Acc: 60.62%\nVal Loss: 0.6605 | Val Acc: 67.50%\n\nEpoch 13/50\n",
          "output_type": "stream"
        },
        {
          "name": "stderr",
          "text": "Training: 100%|██████████| 20/20 [00:10<00:00,  1.85it/s]\nEvaluating: 100%|██████████| 5/5 [00:02<00:00,  1.90it/s]\n",
          "output_type": "stream"
        },
        {
          "name": "stdout",
          "text": "Train Loss: 0.6539 | Train Acc: 61.88%\nVal Loss: 0.6496 | Val Acc: 70.00%\n\nEpoch 14/50\n",
          "output_type": "stream"
        },
        {
          "name": "stderr",
          "text": "Training: 100%|██████████| 20/20 [00:10<00:00,  1.85it/s]\nEvaluating: 100%|██████████| 5/5 [00:02<00:00,  2.00it/s]\n",
          "output_type": "stream"
        },
        {
          "name": "stdout",
          "text": "Train Loss: 0.6262 | Train Acc: 63.75%\nVal Loss: 0.6533 | Val Acc: 67.50%\n\nEpoch 15/50\n",
          "output_type": "stream"
        },
        {
          "name": "stderr",
          "text": "Training: 100%|██████████| 20/20 [00:10<00:00,  1.90it/s]\nEvaluating: 100%|██████████| 5/5 [00:02<00:00,  1.94it/s]\n",
          "output_type": "stream"
        },
        {
          "name": "stdout",
          "text": "Train Loss: 0.6780 | Train Acc: 61.88%\nVal Loss: 0.6448 | Val Acc: 72.50%\n\nEpoch 16/50\n",
          "output_type": "stream"
        },
        {
          "name": "stderr",
          "text": "Training: 100%|██████████| 20/20 [00:10<00:00,  1.85it/s]\nEvaluating: 100%|██████████| 5/5 [00:02<00:00,  1.92it/s]\n",
          "output_type": "stream"
        },
        {
          "name": "stdout",
          "text": "Train Loss: 0.6557 | Train Acc: 66.88%\nVal Loss: 0.6232 | Val Acc: 72.50%\n\nEpoch 17/50\n",
          "output_type": "stream"
        },
        {
          "name": "stderr",
          "text": "Training: 100%|██████████| 20/20 [00:10<00:00,  1.86it/s]\nEvaluating: 100%|██████████| 5/5 [00:02<00:00,  1.90it/s]\n",
          "output_type": "stream"
        },
        {
          "name": "stdout",
          "text": "Train Loss: 0.5853 | Train Acc: 71.25%\nVal Loss: 0.6262 | Val Acc: 67.50%\n\nEpoch 18/50\n",
          "output_type": "stream"
        },
        {
          "name": "stderr",
          "text": "Training: 100%|██████████| 20/20 [00:10<00:00,  1.86it/s]\nEvaluating: 100%|██████████| 5/5 [00:02<00:00,  1.97it/s]\n",
          "output_type": "stream"
        },
        {
          "name": "stdout",
          "text": "Train Loss: 0.6058 | Train Acc: 65.00%\nVal Loss: 0.6249 | Val Acc: 67.50%\n\nEpoch 19/50\n",
          "output_type": "stream"
        },
        {
          "name": "stderr",
          "text": "Training: 100%|██████████| 20/20 [00:10<00:00,  1.90it/s]\nEvaluating: 100%|██████████| 5/5 [00:02<00:00,  2.00it/s]\n",
          "output_type": "stream"
        },
        {
          "name": "stdout",
          "text": "Train Loss: 0.6020 | Train Acc: 73.12%\nVal Loss: 0.6037 | Val Acc: 72.50%\n\nEpoch 20/50\n",
          "output_type": "stream"
        },
        {
          "name": "stderr",
          "text": "Training: 100%|██████████| 20/20 [00:10<00:00,  1.85it/s]\nEvaluating: 100%|██████████| 5/5 [00:02<00:00,  1.91it/s]\n",
          "output_type": "stream"
        },
        {
          "name": "stdout",
          "text": "Train Loss: 0.5362 | Train Acc: 80.00%\nVal Loss: 0.5943 | Val Acc: 67.50%\n\nEpoch 21/50\n",
          "output_type": "stream"
        },
        {
          "name": "stderr",
          "text": "Training: 100%|██████████| 20/20 [00:10<00:00,  1.86it/s]\nEvaluating: 100%|██████████| 5/5 [00:02<00:00,  1.98it/s]\n",
          "output_type": "stream"
        },
        {
          "name": "stdout",
          "text": "Train Loss: 0.5429 | Train Acc: 78.75%\nVal Loss: 0.5821 | Val Acc: 70.00%\n\nEpoch 22/50\n",
          "output_type": "stream"
        },
        {
          "name": "stderr",
          "text": "Training: 100%|██████████| 20/20 [00:10<00:00,  1.88it/s]\nEvaluating: 100%|██████████| 5/5 [00:02<00:00,  1.96it/s]\n",
          "output_type": "stream"
        },
        {
          "name": "stdout",
          "text": "Train Loss: 0.5523 | Train Acc: 76.25%\nVal Loss: 0.5774 | Val Acc: 67.50%\n\nEpoch 23/50\n",
          "output_type": "stream"
        },
        {
          "name": "stderr",
          "text": "Training: 100%|██████████| 20/20 [00:10<00:00,  1.88it/s]\nEvaluating: 100%|██████████| 5/5 [00:02<00:00,  1.97it/s]\n",
          "output_type": "stream"
        },
        {
          "name": "stdout",
          "text": "Train Loss: 0.5349 | Train Acc: 75.62%\nVal Loss: 0.5723 | Val Acc: 72.50%\n\nEpoch 24/50\n",
          "output_type": "stream"
        },
        {
          "name": "stderr",
          "text": "Training: 100%|██████████| 20/20 [00:10<00:00,  1.90it/s]\nEvaluating: 100%|██████████| 5/5 [00:02<00:00,  1.95it/s]\n",
          "output_type": "stream"
        },
        {
          "name": "stdout",
          "text": "Train Loss: 0.5499 | Train Acc: 73.75%\nVal Loss: 0.5601 | Val Acc: 70.00%\n\nEpoch 25/50\n",
          "output_type": "stream"
        },
        {
          "name": "stderr",
          "text": "Training: 100%|██████████| 20/20 [00:10<00:00,  1.85it/s]\nEvaluating: 100%|██████████| 5/5 [00:02<00:00,  1.90it/s]\n",
          "output_type": "stream"
        },
        {
          "name": "stdout",
          "text": "Train Loss: 0.5402 | Train Acc: 76.25%\nVal Loss: 0.5532 | Val Acc: 70.00%\n\nEpoch 26/50\n",
          "output_type": "stream"
        },
        {
          "name": "stderr",
          "text": "Training: 100%|██████████| 20/20 [00:10<00:00,  1.86it/s]\nEvaluating: 100%|██████████| 5/5 [00:02<00:00,  1.94it/s]\n",
          "output_type": "stream"
        },
        {
          "name": "stdout",
          "text": "Train Loss: 0.5065 | Train Acc: 76.88%\nVal Loss: 0.5471 | Val Acc: 72.50%\n\nEpoch 27/50\n",
          "output_type": "stream"
        },
        {
          "name": "stderr",
          "text": "Training: 100%|██████████| 20/20 [00:10<00:00,  1.82it/s]\nEvaluating: 100%|██████████| 5/5 [00:02<00:00,  1.89it/s]\n",
          "output_type": "stream"
        },
        {
          "name": "stdout",
          "text": "Train Loss: 0.4878 | Train Acc: 84.38%\nVal Loss: 0.5377 | Val Acc: 77.50%\n\nEpoch 28/50\n",
          "output_type": "stream"
        },
        {
          "name": "stderr",
          "text": "Training: 100%|██████████| 20/20 [00:10<00:00,  1.82it/s]\nEvaluating: 100%|██████████| 5/5 [00:02<00:00,  1.89it/s]\n",
          "output_type": "stream"
        },
        {
          "name": "stdout",
          "text": "Train Loss: 0.5386 | Train Acc: 77.50%\nVal Loss: 0.5440 | Val Acc: 70.00%\n\nEpoch 29/50\n",
          "output_type": "stream"
        },
        {
          "name": "stderr",
          "text": "Training: 100%|██████████| 20/20 [00:10<00:00,  1.83it/s]\nEvaluating: 100%|██████████| 5/5 [00:02<00:00,  1.91it/s]\n",
          "output_type": "stream"
        },
        {
          "name": "stdout",
          "text": "Train Loss: 0.4895 | Train Acc: 80.00%\nVal Loss: 0.5240 | Val Acc: 70.00%\n\nEpoch 30/50\n",
          "output_type": "stream"
        },
        {
          "name": "stderr",
          "text": "Training: 100%|██████████| 20/20 [00:11<00:00,  1.76it/s]\nEvaluating: 100%|██████████| 5/5 [00:02<00:00,  1.79it/s]\n",
          "output_type": "stream"
        },
        {
          "name": "stdout",
          "text": "Train Loss: 0.4889 | Train Acc: 81.88%\nVal Loss: 0.5023 | Val Acc: 72.50%\n\nEpoch 31/50\n",
          "output_type": "stream"
        },
        {
          "name": "stderr",
          "text": "Training: 100%|██████████| 20/20 [00:11<00:00,  1.79it/s]\nEvaluating: 100%|██████████| 5/5 [00:02<00:00,  1.83it/s]\n",
          "output_type": "stream"
        },
        {
          "name": "stdout",
          "text": "Train Loss: 0.4969 | Train Acc: 76.88%\nVal Loss: 0.5176 | Val Acc: 72.50%\n\nEpoch 32/50\n",
          "output_type": "stream"
        },
        {
          "name": "stderr",
          "text": "Training: 100%|██████████| 20/20 [00:11<00:00,  1.80it/s]\nEvaluating: 100%|██████████| 5/5 [00:02<00:00,  1.94it/s]\n",
          "output_type": "stream"
        },
        {
          "name": "stdout",
          "text": "Train Loss: 0.4329 | Train Acc: 80.62%\nVal Loss: 0.4950 | Val Acc: 75.00%\n\nEpoch 33/50\n",
          "output_type": "stream"
        },
        {
          "name": "stderr",
          "text": "Training: 100%|██████████| 20/20 [00:10<00:00,  1.90it/s]\nEvaluating: 100%|██████████| 5/5 [00:02<00:00,  1.98it/s]\n",
          "output_type": "stream"
        },
        {
          "name": "stdout",
          "text": "Train Loss: 0.4978 | Train Acc: 81.88%\nVal Loss: 0.5264 | Val Acc: 75.00%\n\nEpoch 34/50\n",
          "output_type": "stream"
        },
        {
          "name": "stderr",
          "text": "Training: 100%|██████████| 20/20 [00:10<00:00,  1.87it/s]\nEvaluating: 100%|██████████| 5/5 [00:02<00:00,  1.99it/s]\n",
          "output_type": "stream"
        },
        {
          "name": "stdout",
          "text": "Train Loss: 0.4779 | Train Acc: 79.38%\nVal Loss: 0.4833 | Val Acc: 80.00%\n\nEpoch 35/50\n",
          "output_type": "stream"
        },
        {
          "name": "stderr",
          "text": "Training: 100%|██████████| 20/20 [00:10<00:00,  1.90it/s]\nEvaluating: 100%|██████████| 5/5 [00:02<00:00,  1.95it/s]\n",
          "output_type": "stream"
        },
        {
          "name": "stdout",
          "text": "Train Loss: 0.4706 | Train Acc: 85.62%\nVal Loss: 0.4926 | Val Acc: 80.00%\n\nEpoch 36/50\n",
          "output_type": "stream"
        },
        {
          "name": "stderr",
          "text": "Training: 100%|██████████| 20/20 [00:10<00:00,  1.88it/s]\nEvaluating: 100%|██████████| 5/5 [00:02<00:00,  1.92it/s]\n",
          "output_type": "stream"
        },
        {
          "name": "stdout",
          "text": "Train Loss: 0.4153 | Train Acc: 88.12%\nVal Loss: 0.4615 | Val Acc: 82.50%\n\nEpoch 37/50\n",
          "output_type": "stream"
        },
        {
          "name": "stderr",
          "text": "Training: 100%|██████████| 20/20 [00:10<00:00,  1.82it/s]\nEvaluating: 100%|██████████| 5/5 [00:02<00:00,  1.93it/s]\n",
          "output_type": "stream"
        },
        {
          "name": "stdout",
          "text": "Train Loss: 0.4623 | Train Acc: 77.50%\nVal Loss: 0.4521 | Val Acc: 80.00%\n\nEpoch 38/50\n",
          "output_type": "stream"
        },
        {
          "name": "stderr",
          "text": "Training: 100%|██████████| 20/20 [00:10<00:00,  1.85it/s]\nEvaluating: 100%|██████████| 5/5 [00:02<00:00,  1.91it/s]\n",
          "output_type": "stream"
        },
        {
          "name": "stdout",
          "text": "Train Loss: 0.4438 | Train Acc: 86.25%\nVal Loss: 0.4802 | Val Acc: 80.00%\n\nEpoch 39/50\n",
          "output_type": "stream"
        },
        {
          "name": "stderr",
          "text": "Training: 100%|██████████| 20/20 [00:10<00:00,  1.84it/s]\nEvaluating: 100%|██████████| 5/5 [00:02<00:00,  1.92it/s]\n",
          "output_type": "stream"
        },
        {
          "name": "stdout",
          "text": "Train Loss: 0.4360 | Train Acc: 87.50%\nVal Loss: 0.4644 | Val Acc: 80.00%\n\nEpoch 40/50\n",
          "output_type": "stream"
        },
        {
          "name": "stderr",
          "text": "Training: 100%|██████████| 20/20 [00:10<00:00,  1.87it/s]\nEvaluating: 100%|██████████| 5/5 [00:02<00:00,  1.98it/s]\n",
          "output_type": "stream"
        },
        {
          "name": "stdout",
          "text": "Train Loss: 0.4053 | Train Acc: 86.88%\nVal Loss: 0.4794 | Val Acc: 80.00%\n\nEpoch 41/50\n",
          "output_type": "stream"
        },
        {
          "name": "stderr",
          "text": "Training: 100%|██████████| 20/20 [00:10<00:00,  1.88it/s]\nEvaluating: 100%|██████████| 5/5 [00:02<00:00,  1.93it/s]\n",
          "output_type": "stream"
        },
        {
          "name": "stdout",
          "text": "Train Loss: 0.4936 | Train Acc: 80.62%\nVal Loss: 0.5121 | Val Acc: 80.00%\n\nEpoch 42/50\n",
          "output_type": "stream"
        },
        {
          "name": "stderr",
          "text": "Training: 100%|██████████| 20/20 [00:10<00:00,  1.84it/s]\nEvaluating: 100%|██████████| 5/5 [00:02<00:00,  1.93it/s]\n",
          "output_type": "stream"
        },
        {
          "name": "stdout",
          "text": "Train Loss: 0.4827 | Train Acc: 79.38%\nVal Loss: 0.4898 | Val Acc: 82.50%\n\nEpoch 43/50\n",
          "output_type": "stream"
        },
        {
          "name": "stderr",
          "text": "Training: 100%|██████████| 20/20 [00:10<00:00,  1.84it/s]\nEvaluating: 100%|██████████| 5/5 [00:02<00:00,  1.92it/s]\n",
          "output_type": "stream"
        },
        {
          "name": "stdout",
          "text": "Train Loss: 0.3944 | Train Acc: 86.88%\nVal Loss: 0.4593 | Val Acc: 85.00%\n\nEpoch 44/50\n",
          "output_type": "stream"
        },
        {
          "name": "stderr",
          "text": "Training: 100%|██████████| 20/20 [00:10<00:00,  1.84it/s]\nEvaluating: 100%|██████████| 5/5 [00:02<00:00,  1.92it/s]\n",
          "output_type": "stream"
        },
        {
          "name": "stdout",
          "text": "Train Loss: 0.4429 | Train Acc: 85.62%\nVal Loss: 0.4330 | Val Acc: 85.00%\n\nEpoch 45/50\n",
          "output_type": "stream"
        },
        {
          "name": "stderr",
          "text": "Training: 100%|██████████| 20/20 [00:10<00:00,  1.86it/s]\nEvaluating: 100%|██████████| 5/5 [00:02<00:00,  1.98it/s]\n",
          "output_type": "stream"
        },
        {
          "name": "stdout",
          "text": "Train Loss: 0.4193 | Train Acc: 87.50%\nVal Loss: 0.4201 | Val Acc: 85.00%\n\nEpoch 46/50\n",
          "output_type": "stream"
        },
        {
          "name": "stderr",
          "text": "Training: 100%|██████████| 20/20 [00:10<00:00,  1.85it/s]\nEvaluating: 100%|██████████| 5/5 [00:02<00:00,  1.95it/s]\n",
          "output_type": "stream"
        },
        {
          "name": "stdout",
          "text": "Train Loss: 0.4829 | Train Acc: 84.38%\nVal Loss: 0.4635 | Val Acc: 82.50%\n\nEpoch 47/50\n",
          "output_type": "stream"
        },
        {
          "name": "stderr",
          "text": "Training: 100%|██████████| 20/20 [00:10<00:00,  1.86it/s]\nEvaluating: 100%|██████████| 5/5 [00:02<00:00,  1.95it/s]\n",
          "output_type": "stream"
        },
        {
          "name": "stdout",
          "text": "Train Loss: 0.4127 | Train Acc: 85.62%\nVal Loss: 0.4545 | Val Acc: 80.00%\n\nEpoch 48/50\n",
          "output_type": "stream"
        },
        {
          "name": "stderr",
          "text": "Training: 100%|██████████| 20/20 [00:10<00:00,  1.85it/s]\nEvaluating: 100%|██████████| 5/5 [00:02<00:00,  1.93it/s]\n",
          "output_type": "stream"
        },
        {
          "name": "stdout",
          "text": "Train Loss: 0.4027 | Train Acc: 88.75%\nVal Loss: 0.4612 | Val Acc: 80.00%\n\nEpoch 49/50\n",
          "output_type": "stream"
        },
        {
          "name": "stderr",
          "text": "Training: 100%|██████████| 20/20 [00:10<00:00,  1.89it/s]\nEvaluating: 100%|██████████| 5/5 [00:02<00:00,  1.96it/s]\n",
          "output_type": "stream"
        },
        {
          "name": "stdout",
          "text": "Train Loss: 0.4090 | Train Acc: 86.88%\nVal Loss: 0.3997 | Val Acc: 87.50%\n\nEpoch 50/50\n",
          "output_type": "stream"
        },
        {
          "name": "stderr",
          "text": "Training: 100%|██████████| 20/20 [00:10<00:00,  1.89it/s]\nEvaluating: 100%|██████████| 5/5 [00:02<00:00,  1.95it/s]\n",
          "output_type": "stream"
        },
        {
          "name": "stdout",
          "text": "Train Loss: 0.4607 | Train Acc: 86.88%\nVal Loss: 0.4030 | Val Acc: 87.50%\n",
          "output_type": "stream"
        },
        {
          "name": "stderr",
          "text": "Evaluating: 100%|██████████| 5/5 [00:02<00:00,  1.96it/s]",
          "output_type": "stream"
        },
        {
          "name": "stdout",
          "text": "\nFinal Evaluation on Test Set:\nAccuracy: 87.50%\n              precision    recall  f1-score   support\n\n         0.0       0.86      0.90      0.88        20\n         1.0       0.89      0.85      0.87        20\n\n    accuracy                           0.88        40\n   macro avg       0.88      0.88      0.87        40\nweighted avg       0.88      0.88      0.87        40\n\nConfusion Matrix:\n [[18  2]\n [ 3 17]]\nROC AUC Score: 0.9075\n",
          "output_type": "stream"
        },
        {
          "name": "stderr",
          "text": "\n",
          "output_type": "stream"
        },
        {
          "output_type": "display_data",
          "data": {
            "text/plain": "<Figure size 800x600 with 1 Axes>",
            "image/png": "[encoded data removed]"
          },
          "metadata": {}
        },
        {
          "name": "stderr",
          "text": "/usr/local/lib/python3.11/dist-packages/torch/optim/lr_scheduler.py:62: UserWarning: The verbose parameter is deprecated. Please use get_last_lr() to access the learning rate.\n  warnings.warn(\n",
          "output_type": "stream"
        },
        {
          "name": "stdout",
          "text": "\n==================== Fold 5/5 ====================\nTraining samples: 160, Test samples: 40\n\nEpoch 1/50\n",
          "output_type": "stream"
        },
        {
          "name": "stderr",
          "text": "Training: 100%|██████████| 20/20 [00:10<00:00,  1.88it/s]\nEvaluating: 100%|██████████| 5/5 [00:02<00:00,  1.88it/s]\n",
          "output_type": "stream"
        },
        {
          "name": "stdout",
          "text": "Train Loss: 0.6992 | Train Acc: 58.75%\nVal Loss: 0.6984 | Val Acc: 50.00%\n\nEpoch 2/50\n",
          "output_type": "stream"
        },
        {
          "name": "stderr",
          "text": "Training: 100%|██████████| 20/20 [00:10<00:00,  1.88it/s]\nEvaluating: 100%|██████████| 5/5 [00:02<00:00,  1.90it/s]\n",
          "output_type": "stream"
        },
        {
          "name": "stdout",
          "text": "Train Loss: 0.7415 | Train Acc: 45.00%\nVal Loss: 0.6992 | Val Acc: 47.50%\n\nEpoch 3/50\n",
          "output_type": "stream"
        },
        {
          "name": "stderr",
          "text": "Training: 100%|██████████| 20/20 [00:10<00:00,  1.85it/s]\nEvaluating: 100%|██████████| 5/5 [00:02<00:00,  1.86it/s]\n",
          "output_type": "stream"
        },
        {
          "name": "stdout",
          "text": "Train Loss: 0.6759 | Train Acc: 56.25%\nVal Loss: 0.6952 | Val Acc: 50.00%\n\nEpoch 4/50\n",
          "output_type": "stream"
        },
        {
          "name": "stderr",
          "text": "Training: 100%|██████████| 20/20 [00:10<00:00,  1.84it/s]\nEvaluating: 100%|██████████| 5/5 [00:02<00:00,  1.88it/s]\n",
          "output_type": "stream"
        },
        {
          "name": "stdout",
          "text": "Train Loss: 0.7455 | Train Acc: 50.00%\nVal Loss: 0.6875 | Val Acc: 50.00%\n\nEpoch 5/50\n",
          "output_type": "stream"
        },
        {
          "name": "stderr",
          "text": "Training: 100%|██████████| 20/20 [00:10<00:00,  1.85it/s]\nEvaluating: 100%|██████████| 5/5 [00:02<00:00,  1.86it/s]\n",
          "output_type": "stream"
        },
        {
          "name": "stdout",
          "text": "Train Loss: 0.7071 | Train Acc: 56.25%\nVal Loss: 0.6799 | Val Acc: 52.50%\n\nEpoch 6/50\n",
          "output_type": "stream"
        },
        {
          "name": "stderr",
          "text": "Training: 100%|██████████| 20/20 [00:10<00:00,  1.86it/s]\nEvaluating: 100%|██████████| 5/5 [00:02<00:00,  1.93it/s]\n",
          "output_type": "stream"
        },
        {
          "name": "stdout",
          "text": "Train Loss: 0.7356 | Train Acc: 48.75%\nVal Loss: 0.6726 | Val Acc: 52.50%\n\nEpoch 7/50\n",
          "output_type": "stream"
        },
        {
          "name": "stderr",
          "text": "Training: 100%|██████████| 20/20 [00:10<00:00,  1.89it/s]\nEvaluating: 100%|██████████| 5/5 [00:02<00:00,  1.88it/s]\n",
          "output_type": "stream"
        },
        {
          "name": "stdout",
          "text": "Train Loss: 0.6934 | Train Acc: 51.25%\nVal Loss: 0.6719 | Val Acc: 62.50%\n\nEpoch 8/50\n",
          "output_type": "stream"
        },
        {
          "name": "stderr",
          "text": "Training: 100%|██████████| 20/20 [00:10<00:00,  1.87it/s]\nEvaluating: 100%|██████████| 5/5 [00:02<00:00,  1.90it/s]\n",
          "output_type": "stream"
        },
        {
          "name": "stdout",
          "text": "Train Loss: 0.7251 | Train Acc: 53.12%\nVal Loss: 0.6706 | Val Acc: 67.50%\n\nEpoch 9/50\n",
          "output_type": "stream"
        },
        {
          "name": "stderr",
          "text": "Training: 100%|██████████| 20/20 [00:10<00:00,  1.87it/s]\nEvaluating: 100%|██████████| 5/5 [00:02<00:00,  1.89it/s]\n",
          "output_type": "stream"
        },
        {
          "name": "stdout",
          "text": "Train Loss: 0.6888 | Train Acc: 55.00%\nVal Loss: 0.6677 | Val Acc: 70.00%\n\nEpoch 10/50\n",
          "output_type": "stream"
        },
        {
          "name": "stderr",
          "text": "Training: 100%|██████████| 20/20 [00:11<00:00,  1.81it/s]\nEvaluating: 100%|██████████| 5/5 [00:02<00:00,  1.87it/s]\n",
          "output_type": "stream"
        },
        {
          "name": "stdout",
          "text": "Train Loss: 0.7315 | Train Acc: 45.62%\nVal Loss: 0.6619 | Val Acc: 65.00%\n\nEpoch 11/50\n",
          "output_type": "stream"
        },
        {
          "name": "stderr",
          "text": "Training: 100%|██████████| 20/20 [00:10<00:00,  1.86it/s]\nEvaluating: 100%|██████████| 5/5 [00:02<00:00,  1.89it/s]\n",
          "output_type": "stream"
        },
        {
          "name": "stdout",
          "text": "Train Loss: 0.6850 | Train Acc: 55.62%\nVal Loss: 0.6566 | Val Acc: 67.50%\n\nEpoch 12/50\n",
          "output_type": "stream"
        },
        {
          "name": "stderr",
          "text": "Training: 100%|██████████| 20/20 [00:10<00:00,  1.83it/s]\nEvaluating: 100%|██████████| 5/5 [00:02<00:00,  1.86it/s]\n",
          "output_type": "stream"
        },
        {
          "name": "stdout",
          "text": "Train Loss: 0.6851 | Train Acc: 52.50%\nVal Loss: 0.6563 | Val Acc: 67.50%\n\nEpoch 13/50\n",
          "output_type": "stream"
        },
        {
          "name": "stderr",
          "text": "Training: 100%|██████████| 20/20 [00:10<00:00,  1.86it/s]\nEvaluating: 100%|██████████| 5/5 [00:02<00:00,  1.93it/s]\n",
          "output_type": "stream"
        },
        {
          "name": "stdout",
          "text": "Train Loss: 0.7100 | Train Acc: 48.75%\nVal Loss: 0.6563 | Val Acc: 60.00%\n\nEpoch 14/50\n",
          "output_type": "stream"
        },
        {
          "name": "stderr",
          "text": "Training: 100%|██████████| 20/20 [00:10<00:00,  1.85it/s]\nEvaluating: 100%|██████████| 5/5 [00:02<00:00,  1.88it/s]\n",
          "output_type": "stream"
        },
        {
          "name": "stdout",
          "text": "Train Loss: 0.7109 | Train Acc: 48.75%\nVal Loss: 0.6499 | Val Acc: 72.50%\n\nEpoch 15/50\n",
          "output_type": "stream"
        },
        {
          "name": "stderr",
          "text": "Training: 100%|██████████| 20/20 [00:10<00:00,  1.84it/s]\nEvaluating: 100%|██████████| 5/5 [00:02<00:00,  1.89it/s]\n",
          "output_type": "stream"
        },
        {
          "name": "stdout",
          "text": "Train Loss: 0.6472 | Train Acc: 60.00%\nVal Loss: 0.6519 | Val Acc: 67.50%\n\nEpoch 16/50\n",
          "output_type": "stream"
        },
        {
          "name": "stderr",
          "text": "Training: 100%|██████████| 20/20 [00:10<00:00,  1.87it/s]\nEvaluating: 100%|██████████| 5/5 [00:02<00:00,  1.90it/s]\n",
          "output_type": "stream"
        },
        {
          "name": "stdout",
          "text": "Train Loss: 0.6699 | Train Acc: 53.12%\nVal Loss: 0.6445 | Val Acc: 67.50%\n\nEpoch 17/50\n",
          "output_type": "stream"
        },
        {
          "name": "stderr",
          "text": "Training: 100%|██████████| 20/20 [00:10<00:00,  1.87it/s]\nEvaluating: 100%|██████████| 5/5 [00:02<00:00,  1.90it/s]\n",
          "output_type": "stream"
        },
        {
          "name": "stdout",
          "text": "Train Loss: 0.6592 | Train Acc: 62.50%\nVal Loss: 0.6352 | Val Acc: 67.50%\n\nEpoch 18/50\n",
          "output_type": "stream"
        },
        {
          "name": "stderr",
          "text": "Training: 100%|██████████| 20/20 [00:10<00:00,  1.86it/s]\nEvaluating: 100%|██████████| 5/5 [00:02<00:00,  1.88it/s]\n",
          "output_type": "stream"
        },
        {
          "name": "stdout",
          "text": "Train Loss: 0.6551 | Train Acc: 58.12%\nVal Loss: 0.6465 | Val Acc: 65.00%\n\nEpoch 19/50\n",
          "output_type": "stream"
        },
        {
          "name": "stderr",
          "text": "Training: 100%|██████████| 20/20 [00:10<00:00,  1.86it/s]\nEvaluating: 100%|██████████| 5/5 [00:02<00:00,  1.83it/s]\n",
          "output_type": "stream"
        },
        {
          "name": "stdout",
          "text": "Train Loss: 0.6396 | Train Acc: 64.38%\nVal Loss: 0.6363 | Val Acc: 67.50%\n\nEpoch 20/50\n",
          "output_type": "stream"
        },
        {
          "name": "stderr",
          "text": "Training: 100%|██████████| 20/20 [00:10<00:00,  1.85it/s]\nEvaluating: 100%|██████████| 5/5 [00:02<00:00,  1.85it/s]\n",
          "output_type": "stream"
        },
        {
          "name": "stdout",
          "text": "Train Loss: 0.6310 | Train Acc: 66.25%\nVal Loss: 0.6350 | Val Acc: 70.00%\n\nEpoch 21/50\n",
          "output_type": "stream"
        },
        {
          "name": "stderr",
          "text": "Training: 100%|██████████| 20/20 [00:10<00:00,  1.84it/s]\nEvaluating: 100%|██████████| 5/5 [00:02<00:00,  1.91it/s]\n",
          "output_type": "stream"
        },
        {
          "name": "stdout",
          "text": "Train Loss: 0.6431 | Train Acc: 65.00%\nVal Loss: 0.6332 | Val Acc: 70.00%\n\nEpoch 22/50\n",
          "output_type": "stream"
        },
        {
          "name": "stderr",
          "text": "Training: 100%|██████████| 20/20 [00:10<00:00,  1.85it/s]\nEvaluating: 100%|██████████| 5/5 [00:02<00:00,  1.91it/s]\n",
          "output_type": "stream"
        },
        {
          "name": "stdout",
          "text": "Train Loss: 0.6239 | Train Acc: 63.75%\nVal Loss: 0.6209 | Val Acc: 72.50%\n\nEpoch 23/50\n",
          "output_type": "stream"
        },
        {
          "name": "stderr",
          "text": "Training: 100%|██████████| 20/20 [00:10<00:00,  1.87it/s]\nEvaluating: 100%|██████████| 5/5 [00:02<00:00,  1.93it/s]\n",
          "output_type": "stream"
        },
        {
          "name": "stdout",
          "text": "Train Loss: 0.6365 | Train Acc: 60.62%\nVal Loss: 0.6204 | Val Acc: 70.00%\n\nEpoch 24/50\n",
          "output_type": "stream"
        },
        {
          "name": "stderr",
          "text": "Training: 100%|██████████| 20/20 [00:10<00:00,  1.85it/s]\nEvaluating: 100%|██████████| 5/5 [00:02<00:00,  1.90it/s]\n",
          "output_type": "stream"
        },
        {
          "name": "stdout",
          "text": "Train Loss: 0.6088 | Train Acc: 67.50%\nVal Loss: 0.6148 | Val Acc: 72.50%\n\nEpoch 25/50\n",
          "output_type": "stream"
        },
        {
          "name": "stderr",
          "text": "Training: 100%|██████████| 20/20 [00:10<00:00,  1.86it/s]\nEvaluating: 100%|██████████| 5/5 [00:02<00:00,  1.90it/s]\n",
          "output_type": "stream"
        },
        {
          "name": "stdout",
          "text": "Train Loss: 0.5931 | Train Acc: 73.12%\nVal Loss: 0.5957 | Val Acc: 70.00%\n\nEpoch 26/50\n",
          "output_type": "stream"
        },
        {
          "name": "stderr",
          "text": "Training: 100%|██████████| 20/20 [00:10<00:00,  1.84it/s]\nEvaluating: 100%|██████████| 5/5 [00:02<00:00,  1.84it/s]\n",
          "output_type": "stream"
        },
        {
          "name": "stdout",
          "text": "Train Loss: 0.6013 | Train Acc: 71.25%\nVal Loss: 0.5887 | Val Acc: 75.00%\n\nEpoch 27/50\n",
          "output_type": "stream"
        },
        {
          "name": "stderr",
          "text": "Training: 100%|██████████| 20/20 [00:10<00:00,  1.86it/s]\nTraining: 100%|██████████| 20/20 [00:10<00:00,  1.91it/s]\nEvaluating: 100%|██████████| 5/5 [00:02<00:00,  1.97it/s]\n",
          "output_type": "stream"
        },
        {
          "name": "stdout",
          "text": "Train Loss: 0.5726 | Train Acc: 70.00%\nVal Loss: 0.5749 | Val Acc: 77.50%\n\nEpoch 29/50\n",
          "output_type": "stream"
        },
        {
          "name": "stderr",
          "text": "Training: 100%|██████████| 20/20 [00:10<00:00,  1.89it/s]\nEvaluating: 100%|██████████| 5/5 [00:02<00:00,  1.89it/s]\n",
          "output_type": "stream"
        },
        {
          "name": "stdout",
          "text": "Train Loss: 0.5622 | Train Acc: 71.88%\nVal Loss: 0.5761 | Val Acc: 80.00%\n\nEpoch 30/50\n",
          "output_type": "stream"
        },
        {
          "name": "stderr",
          "text": "Training: 100%|██████████| 20/20 [00:10<00:00,  1.88it/s]\nEvaluating: 100%|██████████| 5/5 [00:02<00:00,  1.92it/s]\n",
          "output_type": "stream"
        },
        {
          "name": "stdout",
          "text": "Train Loss: 0.5070 | Train Acc: 77.50%\nVal Loss: 0.5711 | Val Acc: 75.00%\n\nEpoch 31/50\n",
          "output_type": "stream"
        },
        {
          "name": "stderr",
          "text": "Training: 100%|██████████| 20/20 [00:10<00:00,  1.86it/s]\nEvaluating: 100%|██████████| 5/5 [00:02<00:00,  1.87it/s]\n",
          "output_type": "stream"
        },
        {
          "name": "stdout",
          "text": "Train Loss: 0.5303 | Train Acc: 73.75%\nVal Loss: 0.5584 | Val Acc: 77.50%\n\nEpoch 32/50\n",
          "output_type": "stream"
        },
        {
          "name": "stderr",
          "text": "Training: 100%|██████████| 20/20 [00:10<00:00,  1.87it/s]\nEvaluating: 100%|██████████| 5/5 [00:02<00:00,  1.91it/s]\n",
          "output_type": "stream"
        },
        {
          "name": "stdout",
          "text": "Train Loss: 0.5057 | Train Acc: 78.75%\nVal Loss: 0.5436 | Val Acc: 80.00%\n\nEpoch 33/50\n",
          "output_type": "stream"
        },
        {
          "name": "stderr",
          "text": "Training: 100%|██████████| 20/20 [00:10<00:00,  1.85it/s]\nEvaluating: 100%|██████████| 5/5 [00:02<00:00,  1.89it/s]\n",
          "output_type": "stream"
        },
        {
          "name": "stdout",
          "text": "Train Loss: 0.5474 | Train Acc: 71.88%\nVal Loss: 0.5311 | Val Acc: 75.00%\n\nEpoch 34/50\n",
          "output_type": "stream"
        },
        {
          "name": "stderr",
          "text": "Training: 100%|██████████| 20/20 [00:10<00:00,  1.87it/s]\nEvaluating: 100%|██████████| 5/5 [00:02<00:00,  1.93it/s]\n",
          "output_type": "stream"
        },
        {
          "name": "stdout",
          "text": "Train Loss: 0.5499 | Train Acc: 73.75%\nVal Loss: 0.5163 | Val Acc: 85.00%\n\nEpoch 35/50\n",
          "output_type": "stream"
        },
        {
          "name": "stderr",
          "text": "Training: 100%|██████████| 20/20 [00:10<00:00,  1.94it/s]\nEvaluating: 100%|██████████| 5/5 [00:02<00:00,  1.96it/s]\n",
          "output_type": "stream"
        },
        {
          "name": "stdout",
          "text": "Train Loss: 0.5171 | Train Acc: 76.25%\nVal Loss: 0.4869 | Val Acc: 77.50%\n\nEpoch 36/50\n",
          "output_type": "stream"
        },
        {
          "name": "stderr",
          "text": "Training: 100%|██████████| 20/20 [00:10<00:00,  1.93it/s]\nEvaluating: 100%|██████████| 5/5 [00:02<00:00,  1.92it/s]\n",
          "output_type": "stream"
        },
        {
          "name": "stdout",
          "text": "Train Loss: 0.4831 | Train Acc: 79.38%\nVal Loss: 0.4948 | Val Acc: 82.50%\n\nEpoch 37/50\n",
          "output_type": "stream"
        },
        {
          "name": "stderr",
          "text": "Training: 100%|██████████| 20/20 [00:10<00:00,  1.90it/s]\nEvaluating: 100%|██████████| 5/5 [00:02<00:00,  1.91it/s]\n",
          "output_type": "stream"
        },
        {
          "name": "stdout",
          "text": "Train Loss: 0.5093 | Train Acc: 78.75%\nVal Loss: 0.4995 | Val Acc: 77.50%\n\nEpoch 38/50\n",
          "output_type": "stream"
        },
        {
          "name": "stderr",
          "text": "Training: 100%|██████████| 20/20 [00:10<00:00,  1.84it/s]\nEvaluating: 100%|██████████| 5/5 [00:02<00:00,  1.89it/s]\n",
          "output_type": "stream"
        },
        {
          "name": "stdout",
          "text": "Train Loss: 0.4758 | Train Acc: 83.75%\nVal Loss: 0.4503 | Val Acc: 82.50%\n\nEpoch 39/50\n",
          "output_type": "stream"
        },
        {
          "name": "stderr",
          "text": "Training: 100%|██████████| 20/20 [00:10<00:00,  1.84it/s]\nEvaluating: 100%|██████████| 5/5 [00:02<00:00,  1.85it/s]\n",
          "output_type": "stream"
        },
        {
          "name": "stdout",
          "text": "Train Loss: 0.4549 | Train Acc: 84.38%\nVal Loss: 0.4939 | Val Acc: 82.50%\n\nEpoch 40/50\n",
          "output_type": "stream"
        },
        {
          "name": "stderr",
          "text": "Training: 100%|██████████| 20/20 [00:10<00:00,  1.86it/s]\nEvaluating: 100%|██████████| 5/5 [00:02<00:00,  1.90it/s]\n",
          "output_type": "stream"
        },
        {
          "name": "stdout",
          "text": "Train Loss: 0.4220 | Train Acc: 88.12%\nVal Loss: 0.4420 | Val Acc: 90.00%\n\nEpoch 41/50\n",
          "output_type": "stream"
        },
        {
          "name": "stderr",
          "text": "Training: 100%|██████████| 20/20 [00:10<00:00,  1.86it/s]\nEvaluating: 100%|██████████| 5/5 [00:02<00:00,  1.91it/s]\n",
          "output_type": "stream"
        },
        {
          "name": "stdout",
          "text": "Train Loss: 0.4449 | Train Acc: 85.00%\nVal Loss: 0.4138 | Val Acc: 85.00%\n\nEpoch 42/50\n",
          "output_type": "stream"
        },
        {
          "name": "stderr",
          "text": "Training: 100%|██████████| 20/20 [00:10<00:00,  1.86it/s]\nEvaluating: 100%|██████████| 5/5 [00:02<00:00,  1.91it/s]\n",
          "output_type": "stream"
        },
        {
          "name": "stdout",
          "text": "Train Loss: 0.4038 | Train Acc: 83.75%\nVal Loss: 0.4342 | Val Acc: 85.00%\n\nEpoch 43/50\n",
          "output_type": "stream"
        },
        {
          "name": "stderr",
          "text": "Training: 100%|██████████| 20/20 [00:10<00:00,  1.86it/s]\nEvaluating: 100%|██████████| 5/5 [00:02<00:00,  1.89it/s]\n",
          "output_type": "stream"
        },
        {
          "name": "stdout",
          "text": "Train Loss: 0.3897 | Train Acc: 90.00%\nVal Loss: 0.3903 | Val Acc: 92.50%\n\nEpoch 44/50\n",
          "output_type": "stream"
        },
        {
          "name": "stderr",
          "text": "Training: 100%|██████████| 20/20 [00:10<00:00,  1.86it/s]\nEvaluating: 100%|██████████| 5/5 [00:02<00:00,  1.89it/s]\n",
          "output_type": "stream"
        },
        {
          "name": "stdout",
          "text": "Train Loss: 0.4467 | Train Acc: 82.50%\nVal Loss: 0.3968 | Val Acc: 90.00%\n\nEpoch 45/50\n",
          "output_type": "stream"
        },
        {
          "name": "stderr",
          "text": "Training: 100%|██████████| 20/20 [00:10<00:00,  1.90it/s]\nEvaluating: 100%|██████████| 5/5 [00:02<00:00,  1.89it/s]\n",
          "output_type": "stream"
        },
        {
          "name": "stdout",
          "text": "Train Loss: 0.3592 | Train Acc: 90.62%\nVal Loss: 0.4249 | Val Acc: 77.50%\n\nEpoch 46/50\n",
          "output_type": "stream"
        },
        {
          "name": "stderr",
          "text": "Training: 100%|██████████| 20/20 [00:10<00:00,  1.86it/s]\nEvaluating: 100%|██████████| 5/5 [00:02<00:00,  1.89it/s]\n",
          "output_type": "stream"
        },
        {
          "name": "stdout",
          "text": "Train Loss: 0.3857 | Train Acc: 84.38%\nVal Loss: 0.3451 | Val Acc: 92.50%\n\nEpoch 47/50\n",
          "output_type": "stream"
        },
        {
          "name": "stderr",
          "text": "Training: 100%|██████████| 20/20 [00:10<00:00,  1.88it/s]\nEvaluating: 100%|██████████| 5/5 [00:02<00:00,  1.93it/s]\n",
          "output_type": "stream"
        },
        {
          "name": "stdout",
          "text": "Train Loss: 0.3544 | Train Acc: 89.38%\nVal Loss: 0.3884 | Val Acc: 87.50%\n\nEpoch 48/50\n",
          "output_type": "stream"
        },
        {
          "name": "stderr",
          "text": "Training: 100%|██████████| 20/20 [00:10<00:00,  1.87it/s]\nEvaluating: 100%|██████████| 5/5 [00:02<00:00,  1.89it/s]\n",
          "output_type": "stream"
        },
        {
          "name": "stdout",
          "text": "Train Loss: 0.3640 | Train Acc: 90.00%\nVal Loss: 0.3959 | Val Acc: 87.50%\n\nEpoch 49/50\n",
          "output_type": "stream"
        },
        {
          "name": "stderr",
          "text": "Training: 100%|██████████| 20/20 [00:10<00:00,  1.87it/s]\nEvaluating: 100%|██████████| 5/5 [00:02<00:00,  1.91it/s]\n",
          "output_type": "stream"
        },
        {
          "name": "stdout",
          "text": "Train Loss: 0.3582 | Train Acc: 89.38%\nVal Loss: 0.3843 | Val Acc: 87.50%\n\nEpoch 50/50\n",
          "output_type": "stream"
        },
        {
          "name": "stderr",
          "text": "Training: 100%|██████████| 20/20 [00:10<00:00,  1.86it/s]\nEvaluating: 100%|██████████| 5/5 [00:02<00:00,  1.90it/s]\n",
          "output_type": "stream"
        },
        {
          "name": "stdout",
          "text": "Train Loss: 0.3681 | Train Acc: 86.88%\nVal Loss: 0.3750 | Val Acc: 87.50%\n",
          "output_type": "stream"
        },
        {
          "name": "stderr",
          "text": "Evaluating: 100%|██████████| 5/5 [00:02<00:00,  1.91it/s]",
          "output_type": "stream"
        },
        {
          "name": "stdout",
          "text": "\nFinal Evaluation on Test Set:\nAccuracy: 87.50%\n              precision    recall  f1-score   support\n\n         0.0       0.89      0.85      0.87        20\n         1.0       0.86      0.90      0.88        20\n\n    accuracy                           0.88        40\n   macro avg       0.88      0.88      0.87        40\nweighted avg       0.88      0.88      0.87        40\n\nConfusion Matrix:\n [[17  3]\n [ 2 18]]\nROC AUC Score: 0.9200\n",
          "output_type": "stream"
        },
        {
          "name": "stderr",
          "text": "\n",
          "output_type": "stream"
        },
        {
          "output_type": "display_data",
          "data": {
            "text/plain": "<Figure size 800x600 with 1 Axes>",
            "image/png": "[encoded data removed]"
          },
          "metadata": {}
        },
        {
          "name": "stdout",
          "text": "\n==================================================\nFINAL EVALUATION ACROSS ALL FOLDS\n==================================================\nOverall Accuracy: 84.00%\n\nClassification Report:\n              precision    recall  f1-score   support\n\n         0.0       0.85      0.83      0.84       100\n         1.0       0.83      0.85      0.84       100\n\n    accuracy                           0.84       200\n   macro avg       0.84      0.84      0.84       200\nweighted avg       0.84      0.84      0.84       200\n\n\nOverall Confusion Matrix:\n[[83 17]\n [15 85]]\n\nOverall ROC AUC: 0.9037\n",
          "output_type": "stream"
        },
        {
          "output_type": "display_data",
          "data": {
            "text/plain": "<Figure size 1000x800 with 2 Axes>",
            "image/png": "[encoded data removed]"
          },
          "metadata": {}
        },
        {
          "output_type": "display_data",
          "data": {
            "text/plain": "<Figure size 1000x800 with 1 Axes>",
            "image/png": "[encoded data removed]"
          },
          "metadata": {}
        },
        {
          "output_type": "display_data",
          "data": {
            "text/plain": "<Figure size 1200x500 with 2 Axes>",
            "image/png": "[encoded data removed]"
          },
          "metadata": {}
        },
        {
          "output_type": "display_data",
          "data": {
            "text/plain": "<Figure size 1000x600 with 1 Axes>",
            "image/png": "[encoded data removed]"
          },
          "metadata": {}
        },
        {
          "name": "stdout",
          "text": "Best overall accuracy: 84.00%\nBest overall AUC: 0.9037\n",
          "output_type": "stream"
        }
      ],
      "execution_count": null
    }
  ]
}